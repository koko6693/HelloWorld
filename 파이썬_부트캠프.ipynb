{
  "nbformat": 4,
  "nbformat_minor": 0,
  "metadata": {
    "colab": {
      "provenance": [],
      "authorship_tag": "ABX9TyNKDkt5TT/1O7Dr5fEwelPe",
      "include_colab_link": true
    },
    "kernelspec": {
      "name": "python3",
      "display_name": "Python 3"
    },
    "language_info": {
      "name": "python"
    }
  },
  "cells": [
    {
      "cell_type": "markdown",
      "metadata": {
        "id": "view-in-github",
        "colab_type": "text"
      },
      "source": [
        "<a href=\"https://colab.research.google.com/github/koko6693/HelloWorld/blob/main/%ED%8C%8C%EC%9D%B4%EC%8D%AC_%EB%B6%80%ED%8A%B8%EC%BA%A0%ED%94%84.ipynb\" target=\"_parent\"><img src=\"https://colab.research.google.com/assets/colab-badge.svg\" alt=\"Open In Colab\"/></a>"
      ]
    },
    {
      "cell_type": "code",
      "execution_count": 1,
      "metadata": {
        "colab": {
          "base_uri": "https://localhost:8080/",
          "height": 36
        },
        "id": "jRJ63nQkfPZ0",
        "outputId": "073b2e92-d743-43e7-c0cf-fbf571168d53"
      },
      "outputs": [
        {
          "output_type": "execute_result",
          "data": {
            "text/plain": [
              "'\\n라이캣의 개인정보입니다.\\n성장함에 따라 해당 값이 변합니다.\\n\\n주의) 마음대로 성장시키지 마세요!\\n'"
            ],
            "application/vnd.google.colaboratory.intrinsic+json": {
              "type": "string"
            }
          },
          "metadata": {},
          "execution_count": 1
        }
      ],
      "source": [
        "#라이캣의 개인정보 입력하기\n",
        "\n",
        "이름 ='캣'\n",
        "설명 = '위니브 월드 외각에 살고 있는 생선가게 주인 캣(cat)'\n",
        "나이 = 10\n",
        "오늘_잡은_물고기 = '10'\n",
        "키 = '45cm'\n",
        "몸무게 = 1.2\n",
        "육식 = True\n",
        "초식 = True\n",
        "돈 = 1000\n",
        "훈장 = []\n",
        "기술 = ['고기잡이', '고기팔기']\n",
        "\n",
        "'''\n",
        "라이캣의 개인정보입니다.\n",
        "성장함에 따라 해당 값이 변합니다.\n",
        "\n",
        "주의) 마음대로 성장시키지 마세요!\n",
        "\n"
      ]
    },
    {
      "cell_type": "code",
      "source": [
        "이름\n",
        "나이\n",
        "print(이름)\n",
        "print(나이)\n"
      ],
      "metadata": {
        "colab": {
          "base_uri": "https://localhost:8080/"
        },
        "id": "kZ1sM1lQhkGh",
        "outputId": "90c88f1e-5b5a-4bb0-9984-1854fd2b676f"
      },
      "execution_count": 4,
      "outputs": [
        {
          "output_type": "stream",
          "name": "stdout",
          "text": [
            "캣\n",
            "10\n"
          ]
        }
      ]
    },
    {
      "cell_type": "code",
      "source": [
        "나이 = 11\n",
        "나이"
      ],
      "metadata": {
        "colab": {
          "base_uri": "https://localhost:8080/"
        },
        "id": "hUYSeLwCh4z4",
        "outputId": "518d7af0-1314-4615-c1d5-619ff5f9c390"
      },
      "execution_count": 7,
      "outputs": [
        {
          "output_type": "execute_result",
          "data": {
            "text/plain": [
              "11"
            ]
          },
          "metadata": {},
          "execution_count": 7
        }
      ]
    },
    {
      "cell_type": "code",
      "source": [
        "나이 = 나이 + 1"
      ],
      "metadata": {
        "id": "eqXgf5O9iA6m"
      },
      "execution_count": 11,
      "outputs": []
    },
    {
      "cell_type": "code",
      "source": [
        "나이"
      ],
      "metadata": {
        "colab": {
          "base_uri": "https://localhost:8080/"
        },
        "id": "T8DXaTSUiJx_",
        "outputId": "e78d29ba-8008-48b8-c48a-ea3963f56cc7"
      },
      "execution_count": 12,
      "outputs": [
        {
          "output_type": "execute_result",
          "data": {
            "text/plain": [
              "12"
            ]
          },
          "metadata": {},
          "execution_count": 12
        }
      ]
    },
    {
      "cell_type": "markdown",
      "source": [
        "## 변수의 규칙\n",
        "\n",
        "1. 변수 중간에 띄어쓰기를 하지 않습니다.\n",
        "띄어쓰기를 명시하고 싶으실 때에는 언더스코어(`_`)를 사용하세요!\n",
        "2. 첫 글자는 숫자나 특수문자를 쓰지 않습니다.\n",
        "물론 언더스코어(`_`)제외입니다.\n",
        "3. 첫 글자를 대문자로 쓰지 않습니다. (Class가 대문자로 쓰기 때문이지만 대문자로 써도 실행됩니다.)\n",
        "4. 예약어를 사용하지 않습니다. 예를 들어 뒤에 `print` 구문이 나오는데요. 이러한 함수명이나 구문은 변수명으로 사용하지 않습니다.\n",
        "5. 변수명은 대소문자를 가립니다! `Apple`과 `apple`은 다른 변수가 됩니다.\n",
        "\n"
      ],
      "metadata": {
        "id": "BL8mj36nihNw"
      }
    },
    {
      "cell_type": "code",
      "source": [
        "오늘_잡은_물고기"
      ],
      "metadata": {
        "colab": {
          "base_uri": "https://localhost:8080/",
          "height": 36
        },
        "id": "0NRI8Ji1iLTS",
        "outputId": "c100c98b-07e4-45d7-a87f-0001320bff73"
      },
      "execution_count": 13,
      "outputs": [
        {
          "output_type": "execute_result",
          "data": {
            "text/plain": [
              "'10'"
            ],
            "application/vnd.google.colaboratory.intrinsic+json": {
              "type": "string"
            }
          },
          "metadata": {},
          "execution_count": 13
        }
      ]
    },
    {
      "cell_type": "code",
      "source": [
        "오늘_잡은_물고기 + 1"
      ],
      "metadata": {
        "colab": {
          "base_uri": "https://localhost:8080/",
          "height": 176
        },
        "id": "fgjAWc5-iF8I",
        "outputId": "acd7005e-db57-455a-99eb-e38b559b19f1"
      },
      "execution_count": 14,
      "outputs": [
        {
          "output_type": "error",
          "ename": "TypeError",
          "evalue": "ignored",
          "traceback": [
            "\u001b[0;31m---------------------------------------------------------------------------\u001b[0m",
            "\u001b[0;31mTypeError\u001b[0m                                 Traceback (most recent call last)",
            "\u001b[0;32m<ipython-input-14-e11c349313e0>\u001b[0m in \u001b[0;36m<module>\u001b[0;34m\u001b[0m\n\u001b[0;32m----> 1\u001b[0;31m \u001b[0m오늘_잡은_물고기\u001b[0m \u001b[0;34m+\u001b[0m \u001b[0;36m1\u001b[0m\u001b[0;34m\u001b[0m\u001b[0;34m\u001b[0m\u001b[0m\n\u001b[0m",
            "\u001b[0;31mTypeError\u001b[0m: can only concatenate str (not \"int\") to str"
          ]
        }
      ]
    },
    {
      "cell_type": "code",
      "source": [
        "int(오늘_잡은_물고기) + 1"
      ],
      "metadata": {
        "colab": {
          "base_uri": "https://localhost:8080/"
        },
        "id": "IuwdeQ0siQpC",
        "outputId": "76dde28c-475a-49f3-80fb-e09af9452a1a"
      },
      "execution_count": 15,
      "outputs": [
        {
          "output_type": "execute_result",
          "data": {
            "text/plain": [
              "11"
            ]
          },
          "metadata": {},
          "execution_count": 15
        }
      ]
    },
    {
      "cell_type": "code",
      "source": [
        "print(type(오늘_잡은_물고기))"
      ],
      "metadata": {
        "colab": {
          "base_uri": "https://localhost:8080/"
        },
        "id": "0tifz7NziG1M",
        "outputId": "e928b139-9892-4624-8fd2-2c71761e2cab"
      },
      "execution_count": 16,
      "outputs": [
        {
          "output_type": "stream",
          "name": "stdout",
          "text": [
            "<class 'str'>\n"
          ]
        }
      ]
    },
    {
      "cell_type": "code",
      "source": [
        "print(type(이름)) #'캣'\n",
        "print(type(나이)) # 현재 12\n",
        "print(type(오늘_잡은_물고기)) #현재 10\n",
        "print(type(몸무게))\n",
        "print(type(육식)) #True\n",
        "print(type(기술)) #['고기잡이', '고기팔기']"
      ],
      "metadata": {
        "colab": {
          "base_uri": "https://localhost:8080/"
        },
        "id": "5wbVNAIzj2ZV",
        "outputId": "a0046613-9510-4b23-8457-780090c5b0b2"
      },
      "execution_count": 17,
      "outputs": [
        {
          "output_type": "stream",
          "name": "stdout",
          "text": [
            "<class 'str'>\n",
            "<class 'int'>\n",
            "<class 'str'>\n",
            "<class 'float'>\n",
            "<class 'bool'>\n",
            "<class 'list'>\n"
          ]
        }
      ]
    },
    {
      "cell_type": "markdown",
      "source": [
        "1. <class 'str'> - string, 문자열 \n",
        "2. <class 'int'> - integer, 정수형\n",
        "3. <class 'float'> - float, 실수형\n",
        "4. <class 'bool'> - bool, boolean, 참거짓형\n",
        "5. <class 'list'> - list, 배열"
      ],
      "metadata": {
        "id": "bVkSRYMJkdnh"
      }
    },
    {
      "cell_type": "code",
      "source": [
        "# 1. int\n",
        "\n",
        "print(type(나이))\n",
        "print(dir(나이))"
      ],
      "metadata": {
        "colab": {
          "base_uri": "https://localhost:8080/"
        },
        "id": "NyAwz_BJiDZI",
        "outputId": "8a45063f-73fc-4f30-9170-e07c5444ca1a"
      },
      "execution_count": 18,
      "outputs": [
        {
          "output_type": "stream",
          "name": "stdout",
          "text": [
            "<class 'int'>\n",
            "['__abs__', '__add__', '__and__', '__bool__', '__ceil__', '__class__', '__delattr__', '__dir__', '__divmod__', '__doc__', '__eq__', '__float__', '__floor__', '__floordiv__', '__format__', '__ge__', '__getattribute__', '__getnewargs__', '__gt__', '__hash__', '__index__', '__init__', '__init_subclass__', '__int__', '__invert__', '__le__', '__lshift__', '__lt__', '__mod__', '__mul__', '__ne__', '__neg__', '__new__', '__or__', '__pos__', '__pow__', '__radd__', '__rand__', '__rdivmod__', '__reduce__', '__reduce_ex__', '__repr__', '__rfloordiv__', '__rlshift__', '__rmod__', '__rmul__', '__ror__', '__round__', '__rpow__', '__rrshift__', '__rshift__', '__rsub__', '__rtruediv__', '__rxor__', '__setattr__', '__sizeof__', '__str__', '__sub__', '__subclasshook__', '__truediv__', '__trunc__', '__xor__', 'as_integer_ratio', 'bit_length', 'conjugate', 'denominator', 'from_bytes', 'imag', 'numerator', 'real', 'to_bytes']\n"
          ]
        }
      ]
    },
    {
      "cell_type": "code",
      "source": [
        "나이 = 10\n",
        "print(나이.bit_length())\n",
        "print(bin(나이))\n",
        "\n",
        "나이_90년_후 = 100\n",
        "print(나이_90년_후.bit_length())\n",
        "print(bin(나이_90년_후))"
      ],
      "metadata": {
        "colab": {
          "base_uri": "https://localhost:8080/"
        },
        "id": "GkncjCLqmPeG",
        "outputId": "74ab5f0e-d4db-4a32-ac4b-416cc4380cc2"
      },
      "execution_count": 21,
      "outputs": [
        {
          "output_type": "stream",
          "name": "stdout",
          "text": [
            "4\n",
            "0b1010\n",
            "7\n",
            "0b1100100\n"
          ]
        }
      ]
    },
    {
      "cell_type": "code",
      "source": [
        "# 1.2 float\n",
        "\n",
        "print(몸무게)\n",
        "print(type(몸무게))\n",
        "print(dir(몸무게))\n",
        "\n",
        "print(몸무게 + 10)"
      ],
      "metadata": {
        "colab": {
          "base_uri": "https://localhost:8080/"
        },
        "id": "JqU6MjcdlFyb",
        "outputId": "8faad8a8-80dd-4716-8279-74a5d18f2491"
      },
      "execution_count": 23,
      "outputs": [
        {
          "output_type": "stream",
          "name": "stdout",
          "text": [
            "1.2\n",
            "<class 'float'>\n",
            "['__abs__', '__add__', '__bool__', '__class__', '__delattr__', '__dir__', '__divmod__', '__doc__', '__eq__', '__float__', '__floordiv__', '__format__', '__ge__', '__getattribute__', '__getformat__', '__getnewargs__', '__gt__', '__hash__', '__init__', '__init_subclass__', '__int__', '__le__', '__lt__', '__mod__', '__mul__', '__ne__', '__neg__', '__new__', '__pos__', '__pow__', '__radd__', '__rdivmod__', '__reduce__', '__reduce_ex__', '__repr__', '__rfloordiv__', '__rmod__', '__rmul__', '__round__', '__rpow__', '__rsub__', '__rtruediv__', '__set_format__', '__setattr__', '__sizeof__', '__str__', '__sub__', '__subclasshook__', '__truediv__', '__trunc__', 'as_integer_ratio', 'conjugate', 'fromhex', 'hex', 'imag', 'is_integer', 'real']\n",
            "11.2\n"
          ]
        }
      ]
    },
    {
      "cell_type": "code",
      "source": [
        "# 2. str\n",
        "#시퀀스(순서가 있는)형 자료형\n",
        "\n",
        "# index, indexing\n",
        "print(설명)\n",
        "print(설명[0])\n",
        "print(설명[1])\n",
        "print(설명[2])\n",
        "print(기술)\n",
        "print(기술[0])\n",
        "print(기술[1])\n",
        "\n",
        "# print(설명)\n",
        "# print(설명)"
      ],
      "metadata": {
        "colab": {
          "base_uri": "https://localhost:8080/"
        },
        "id": "2HaAVj9wh-63",
        "outputId": "474f136f-069c-41fe-fcb0-33ec23673446"
      },
      "execution_count": 25,
      "outputs": [
        {
          "output_type": "stream",
          "name": "stdout",
          "text": [
            "위니브 월드 외각에 살고 있는 생선가게 주인 캣(cat)\n",
            "위\n",
            "니\n",
            "브\n",
            "['고기잡이', '고기팔기']\n",
            "고기잡이\n",
            "고기팔기\n"
          ]
        }
      ]
    },
    {
      "cell_type": "code",
      "source": [
        "# slicing\n",
        "# 변수이름[start:stop:step]\n",
        "print(설명)\n",
        "print(설명[0:3])\n",
        "print(설명[0:6])\n",
        "print(설명[0:9])"
      ],
      "metadata": {
        "colab": {
          "base_uri": "https://localhost:8080/"
        },
        "id": "3IioMRMph_uI",
        "outputId": "0ac2b3cd-c516-4aaa-e85d-d5905cc3f648"
      },
      "execution_count": 26,
      "outputs": [
        {
          "output_type": "stream",
          "name": "stdout",
          "text": [
            "위니브 월드 외각에 살고 있는 생선가게 주인 캣(cat)\n",
            "위니브\n",
            "위니브 월드\n",
            "위니브 월드 외각\n"
          ]
        }
      ]
    },
    {
      "cell_type": "code",
      "source": [
        "캣의_생년월일 = '2220.02.22'\n",
        "생년 = 캣의_생년월일[:4]\n",
        "월 = 캣의_생년월일[5:7]\n",
        "일 = 캣의_생년월일[8:]\n",
        "생년, 월, 일"
      ],
      "metadata": {
        "colab": {
          "base_uri": "https://localhost:8080/"
        },
        "id": "HzIFniAohvY1",
        "outputId": "500fd886-7d78-4bb5-8b1a-29befb6630b3"
      },
      "execution_count": 29,
      "outputs": [
        {
          "output_type": "execute_result",
          "data": {
            "text/plain": [
              "('2220', '02', '22')"
            ]
          },
          "metadata": {},
          "execution_count": 29
        }
      ]
    },
    {
      "cell_type": "code",
      "source": [
        "숫자 = '123456789101112'\n",
        "print(숫자[::-1])\n",
        "print(숫자[::2])\n",
        "print(숫자[1:7:2])\n",
        "print(숫자[7:1:-1])\n",
        "print(숫자[-1])"
      ],
      "metadata": {
        "colab": {
          "base_uri": "https://localhost:8080/"
        },
        "id": "mlkeVmSYhwRO",
        "outputId": "852efab5-f6b3-4dda-ec81-96b26308229b"
      },
      "execution_count": 34,
      "outputs": [
        {
          "output_type": "stream",
          "name": "stdout",
          "text": [
            "211101987654321\n",
            "13579012\n",
            "246\n",
            "876543\n",
            "2\n"
          ]
        }
      ]
    },
    {
      "cell_type": "code",
      "source": [
        "print(설명)\n",
        "print(type(설명))\n",
        "print(dir(설명))\n",
        "'''\n",
        "'capitalize', 'casefold', 'center', 'count', 'encode', 'endswith', 'expandtabs', 'find', 'format', 'format_map', 'index', 'isalnum', 'isalpha', 'isascii', 'isdecimal', 'isdigit', 'isidentifier', 'islower', 'isnumeric', 'isprintable', 'isspace', 'istitle', 'isupper', 'join', 'ljust', 'lower', 'lstrip', 'maketrans', 'partition', 'replace', 'rfind', 'rindex', 'rjust', 'rpartition', 'rsplit', 'rstrip', 'split', 'splitlines', 'startswith', 'strip', 'swapcase', 'title', 'translate', 'upper', 'zfill']\n",
        "'''"
      ],
      "metadata": {
        "colab": {
          "base_uri": "https://localhost:8080/",
          "height": 149
        },
        "id": "bVYEMtJLpGNB",
        "outputId": "281e7f85-3547-4794-cca8-c5cfee8fdd7c"
      },
      "execution_count": 37,
      "outputs": [
        {
          "output_type": "stream",
          "name": "stdout",
          "text": [
            "위니브 월드 외각에 살고 있는 생선가게 주인 캣(cat)\n",
            "<class 'str'>\n",
            "['__add__', '__class__', '__contains__', '__delattr__', '__dir__', '__doc__', '__eq__', '__format__', '__ge__', '__getattribute__', '__getitem__', '__getnewargs__', '__gt__', '__hash__', '__init__', '__init_subclass__', '__iter__', '__le__', '__len__', '__lt__', '__mod__', '__mul__', '__ne__', '__new__', '__reduce__', '__reduce_ex__', '__repr__', '__rmod__', '__rmul__', '__setattr__', '__sizeof__', '__str__', '__subclasshook__', 'capitalize', 'casefold', 'center', 'count', 'encode', 'endswith', 'expandtabs', 'find', 'format', 'format_map', 'index', 'isalnum', 'isalpha', 'isascii', 'isdecimal', 'isdigit', 'isidentifier', 'islower', 'isnumeric', 'isprintable', 'isspace', 'istitle', 'isupper', 'join', 'ljust', 'lower', 'lstrip', 'maketrans', 'partition', 'replace', 'rfind', 'rindex', 'rjust', 'rpartition', 'rsplit', 'rstrip', 'split', 'splitlines', 'startswith', 'strip', 'swapcase', 'title', 'translate', 'upper', 'zfill']\n"
          ]
        },
        {
          "output_type": "execute_result",
          "data": {
            "text/plain": [
              "\"\\n'capitalize', 'casefold', 'center', 'count', 'encode', 'endswith', 'expandtabs', 'find', 'format', 'format_map', 'index', 'isalnum', 'isalpha', 'isascii', 'isdecimal', 'isdigit', 'isidentifier', 'islower', 'isnumeric', 'isprintable', 'isspace', 'istitle', 'isupper', 'join', 'ljust', 'lower', 'lstrip', 'maketrans', 'partition', 'replace', 'rfind', 'rindex', 'rjust', 'rpartition', 'rsplit', 'rstrip', 'split', 'splitlines', 'startswith', 'strip', 'swapcase', 'title', 'translate', 'upper', 'zfill']\\n\""
            ],
            "application/vnd.google.colaboratory.intrinsic+json": {
              "type": "string"
            }
          },
          "metadata": {},
          "execution_count": 37
        }
      ]
    },
    {
      "cell_type": "code",
      "source": [
        "숫자.count('1')\n",
        "설명.upper()\n",
        "설명.lower()\n",
        "'             hello world'.lstrip()\n",
        "'             hello world'.strip()\n",
        "'             hello world'.replace(' ', '!')\n",
        "설명.index('각')\n",
        "설명[설명.index('각')]\n",
        "설명.find('각')\n",
        "설명[설명.find('각')]\n"
      ],
      "metadata": {
        "colab": {
          "base_uri": "https://localhost:8080/",
          "height": 36
        },
        "id": "uHLkvje9pzOm",
        "outputId": "81641c58-829f-4f57-c595-62118561e3ff"
      },
      "execution_count": 47,
      "outputs": [
        {
          "output_type": "execute_result",
          "data": {
            "text/plain": [
              "'각'"
            ],
            "application/vnd.google.colaboratory.intrinsic+json": {
              "type": "string"
            }
          },
          "metadata": {},
          "execution_count": 47
        }
      ]
    },
    {
      "cell_type": "code",
      "source": [
        "# bool\n",
        "\n",
        "육식 = True\n",
        "초식 = True\n",
        "print(type(육식))\n",
        "print(dir(육식))"
      ],
      "metadata": {
        "colab": {
          "base_uri": "https://localhost:8080/"
        },
        "id": "ajHlGM0OqyPE",
        "outputId": "84b48f37-e006-4a61-a899-5df46eecfc27"
      },
      "execution_count": 50,
      "outputs": [
        {
          "output_type": "stream",
          "name": "stdout",
          "text": [
            "<class 'bool'>\n",
            "['__abs__', '__add__', '__and__', '__bool__', '__ceil__', '__class__', '__delattr__', '__dir__', '__divmod__', '__doc__', '__eq__', '__float__', '__floor__', '__floordiv__', '__format__', '__ge__', '__getattribute__', '__getnewargs__', '__gt__', '__hash__', '__index__', '__init__', '__init_subclass__', '__int__', '__invert__', '__le__', '__lshift__', '__lt__', '__mod__', '__mul__', '__ne__', '__neg__', '__new__', '__or__', '__pos__', '__pow__', '__radd__', '__rand__', '__rdivmod__', '__reduce__', '__reduce_ex__', '__repr__', '__rfloordiv__', '__rlshift__', '__rmod__', '__rmul__', '__ror__', '__round__', '__rpow__', '__rrshift__', '__rshift__', '__rsub__', '__rtruediv__', '__rxor__', '__setattr__', '__sizeof__', '__str__', '__sub__', '__subclasshook__', '__truediv__', '__trunc__', '__xor__', 'as_integer_ratio', 'bit_length', 'conjugate', 'denominator', 'from_bytes', 'imag', 'numerator', 'real', 'to_bytes']\n"
          ]
        }
      ]
    }
  ]
}