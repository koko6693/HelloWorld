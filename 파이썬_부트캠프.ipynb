{
  "nbformat": 4,
  "nbformat_minor": 0,
  "metadata": {
    "colab": {
      "provenance": [],
      "authorship_tag": "ABX9TyP2CWr0HEOe3Yytb7E6oOxI",
      "include_colab_link": true
    },
    "kernelspec": {
      "name": "python3",
      "display_name": "Python 3"
    },
    "language_info": {
      "name": "python"
    }
  },
  "cells": [
    {
      "cell_type": "markdown",
      "metadata": {
        "id": "view-in-github",
        "colab_type": "text"
      },
      "source": [
        "<a href=\"https://colab.research.google.com/github/koko6693/HelloWorld/blob/main/%ED%8C%8C%EC%9D%B4%EC%8D%AC_%EB%B6%80%ED%8A%B8%EC%BA%A0%ED%94%84.ipynb\" target=\"_parent\"><img src=\"https://colab.research.google.com/assets/colab-badge.svg\" alt=\"Open In Colab\"/></a>"
      ]
    },
    {
      "cell_type": "code",
      "execution_count": 1,
      "metadata": {
        "colab": {
          "base_uri": "https://localhost:8080/",
          "height": 36
        },
        "id": "jRJ63nQkfPZ0",
        "outputId": "03748abc-89c4-4d10-d0ea-fa94c0bd5b84"
      },
      "outputs": [
        {
          "output_type": "execute_result",
          "data": {
            "text/plain": [
              "'\\n라이캣의 개인정보입니다.\\n성장함에 따라 해당 값이 변합니다.\\n\\n주의) 마음대로 성장시키지 마세요!\\n'"
            ],
            "application/vnd.google.colaboratory.intrinsic+json": {
              "type": "string"
            }
          },
          "metadata": {},
          "execution_count": 1
        }
      ],
      "source": [
        "#라이캣의 개인정보 입력하기\n",
        "\n",
        "이름 ='캣'\n",
        "설명 = '위니브 월드 외각에 살고 있는 생선가게 주인 캣(cat)'\n",
        "나이 = 10\n",
        "오늘_잡은_물고기 = '10'\n",
        "키 = '45cm'\n",
        "몸무게 = 1.2\n",
        "육식 = True\n",
        "초식 = True\n",
        "돈 = 1000\n",
        "훈장 = []\n",
        "기술 = ['고기잡이', '고기팔기']\n",
        "\n",
        "'''\n",
        "라이캣의 개인정보입니다.\n",
        "성장함에 따라 해당 값이 변합니다.\n",
        "\n",
        "주의) 마음대로 성장시키지 마세요!\n",
        "'''\n"
      ]
    },
    {
      "cell_type": "code",
      "source": [
        "이름\n",
        "나이\n",
        "print(이름)\n",
        "print(나이)\n"
      ],
      "metadata": {
        "colab": {
          "base_uri": "https://localhost:8080/"
        },
        "id": "kZ1sM1lQhkGh",
        "outputId": "309959d8-c57f-4d42-b326-879dba1d6bb6"
      },
      "execution_count": 2,
      "outputs": [
        {
          "output_type": "stream",
          "name": "stdout",
          "text": [
            "캣\n",
            "10\n"
          ]
        }
      ]
    },
    {
      "cell_type": "code",
      "source": [
        "나이 = 11\n",
        "나이"
      ],
      "metadata": {
        "colab": {
          "base_uri": "https://localhost:8080/"
        },
        "id": "hUYSeLwCh4z4",
        "outputId": "33ea2dd5-306b-435e-e81e-ebabc30a77f7"
      },
      "execution_count": 3,
      "outputs": [
        {
          "output_type": "execute_result",
          "data": {
            "text/plain": [
              "11"
            ]
          },
          "metadata": {},
          "execution_count": 3
        }
      ]
    },
    {
      "cell_type": "code",
      "source": [
        "나이 = 나이 + 1"
      ],
      "metadata": {
        "id": "eqXgf5O9iA6m"
      },
      "execution_count": 4,
      "outputs": []
    },
    {
      "cell_type": "code",
      "source": [
        "나이"
      ],
      "metadata": {
        "colab": {
          "base_uri": "https://localhost:8080/"
        },
        "id": "T8DXaTSUiJx_",
        "outputId": "17f1a44c-868e-4bed-a159-2924623bed3f"
      },
      "execution_count": 5,
      "outputs": [
        {
          "output_type": "execute_result",
          "data": {
            "text/plain": [
              "12"
            ]
          },
          "metadata": {},
          "execution_count": 5
        }
      ]
    },
    {
      "cell_type": "markdown",
      "source": [
        "## 변수의 규칙\n",
        "\n",
        "1. 변수 중간에 띄어쓰기를 하지 않습니다.\n",
        "띄어쓰기를 명시하고 싶으실 때에는 언더스코어(`_`)를 사용하세요!\n",
        "2. 첫 글자는 숫자나 특수문자를 쓰지 않습니다.\n",
        "물론 언더스코어(`_`)제외입니다.\n",
        "3. 첫 글자를 대문자로 쓰지 않습니다. (Class가 대문자로 쓰기 때문이지만 대문자로 써도 실행됩니다.)\n",
        "4. 예약어를 사용하지 않습니다. 예를 들어 뒤에 `print` 구문이 나오는데요. 이러한 함수명이나 구문은 변수명으로 사용하지 않습니다.\n",
        "5. 변수명은 대소문자를 가립니다! `Apple`과 `apple`은 다른 변수가 됩니다.\n",
        "\n"
      ],
      "metadata": {
        "id": "BL8mj36nihNw"
      }
    },
    {
      "cell_type": "code",
      "source": [
        "오늘_잡은_물고기"
      ],
      "metadata": {
        "colab": {
          "base_uri": "https://localhost:8080/",
          "height": 36
        },
        "id": "0NRI8Ji1iLTS",
        "outputId": "fd1960ec-42a3-421d-912e-ce5db8b47589"
      },
      "execution_count": 6,
      "outputs": [
        {
          "output_type": "execute_result",
          "data": {
            "text/plain": [
              "'10'"
            ],
            "application/vnd.google.colaboratory.intrinsic+json": {
              "type": "string"
            }
          },
          "metadata": {},
          "execution_count": 6
        }
      ]
    },
    {
      "cell_type": "code",
      "source": [
        "오늘_잡은_물고기 + 1"
      ],
      "metadata": {
        "colab": {
          "base_uri": "https://localhost:8080/",
          "height": 176
        },
        "id": "fgjAWc5-iF8I",
        "outputId": "c419dfe3-d72b-493f-f235-9880fc221d0c"
      },
      "execution_count": 7,
      "outputs": [
        {
          "output_type": "error",
          "ename": "TypeError",
          "evalue": "ignored",
          "traceback": [
            "\u001b[0;31m---------------------------------------------------------------------------\u001b[0m",
            "\u001b[0;31mTypeError\u001b[0m                                 Traceback (most recent call last)",
            "\u001b[0;32m<ipython-input-7-e11c349313e0>\u001b[0m in \u001b[0;36m<module>\u001b[0;34m\u001b[0m\n\u001b[0;32m----> 1\u001b[0;31m \u001b[0m오늘_잡은_물고기\u001b[0m \u001b[0;34m+\u001b[0m \u001b[0;36m1\u001b[0m\u001b[0;34m\u001b[0m\u001b[0;34m\u001b[0m\u001b[0m\n\u001b[0m",
            "\u001b[0;31mTypeError\u001b[0m: can only concatenate str (not \"int\") to str"
          ]
        }
      ]
    },
    {
      "cell_type": "code",
      "source": [
        "int(오늘_잡은_물고기) + 1"
      ],
      "metadata": {
        "colab": {
          "base_uri": "https://localhost:8080/"
        },
        "id": "IuwdeQ0siQpC",
        "outputId": "7c1c6dba-8877-4411-c529-b6b14e31c274"
      },
      "execution_count": 8,
      "outputs": [
        {
          "output_type": "execute_result",
          "data": {
            "text/plain": [
              "11"
            ]
          },
          "metadata": {},
          "execution_count": 8
        }
      ]
    },
    {
      "cell_type": "code",
      "source": [
        "print(type(오늘_잡은_물고기))"
      ],
      "metadata": {
        "colab": {
          "base_uri": "https://localhost:8080/"
        },
        "id": "0tifz7NziG1M",
        "outputId": "687a37cf-fb90-40c2-aab4-4f0b6632d3e7"
      },
      "execution_count": 9,
      "outputs": [
        {
          "output_type": "stream",
          "name": "stdout",
          "text": [
            "<class 'str'>\n"
          ]
        }
      ]
    },
    {
      "cell_type": "code",
      "source": [
        "print(type(이름)) #'캣'\n",
        "print(type(나이)) # 현재 12\n",
        "print(type(오늘_잡은_물고기)) #현재 10\n",
        "print(type(몸무게))\n",
        "print(type(육식)) #True\n",
        "print(type(기술)) #['고기잡이', '고기팔기']"
      ],
      "metadata": {
        "colab": {
          "base_uri": "https://localhost:8080/"
        },
        "id": "5wbVNAIzj2ZV",
        "outputId": "e50f25f1-949a-4061-af37-7f496a153dc5"
      },
      "execution_count": 10,
      "outputs": [
        {
          "output_type": "stream",
          "name": "stdout",
          "text": [
            "<class 'str'>\n",
            "<class 'int'>\n",
            "<class 'str'>\n",
            "<class 'float'>\n",
            "<class 'bool'>\n",
            "<class 'list'>\n"
          ]
        }
      ]
    },
    {
      "cell_type": "markdown",
      "source": [
        "1. <class 'str'> - string, 문자열 \n",
        "2. <class 'int'> - integer, 정수형\n",
        "3. <class 'float'> - float, 실수형\n",
        "4. <class 'bool'> - bool, boolean, 참거짓형\n",
        "5. <class 'list'> - list, 배열"
      ],
      "metadata": {
        "id": "bVkSRYMJkdnh"
      }
    },
    {
      "cell_type": "code",
      "source": [
        "# 1. int\n",
        "\n",
        "print(type(나이))\n",
        "print(dir(나이))"
      ],
      "metadata": {
        "colab": {
          "base_uri": "https://localhost:8080/"
        },
        "id": "NyAwz_BJiDZI",
        "outputId": "d49341fc-1c48-42a9-a2ce-226ca55a85ed"
      },
      "execution_count": 11,
      "outputs": [
        {
          "output_type": "stream",
          "name": "stdout",
          "text": [
            "<class 'int'>\n",
            "['__abs__', '__add__', '__and__', '__bool__', '__ceil__', '__class__', '__delattr__', '__dir__', '__divmod__', '__doc__', '__eq__', '__float__', '__floor__', '__floordiv__', '__format__', '__ge__', '__getattribute__', '__getnewargs__', '__gt__', '__hash__', '__index__', '__init__', '__init_subclass__', '__int__', '__invert__', '__le__', '__lshift__', '__lt__', '__mod__', '__mul__', '__ne__', '__neg__', '__new__', '__or__', '__pos__', '__pow__', '__radd__', '__rand__', '__rdivmod__', '__reduce__', '__reduce_ex__', '__repr__', '__rfloordiv__', '__rlshift__', '__rmod__', '__rmul__', '__ror__', '__round__', '__rpow__', '__rrshift__', '__rshift__', '__rsub__', '__rtruediv__', '__rxor__', '__setattr__', '__sizeof__', '__str__', '__sub__', '__subclasshook__', '__truediv__', '__trunc__', '__xor__', 'as_integer_ratio', 'bit_length', 'conjugate', 'denominator', 'from_bytes', 'imag', 'numerator', 'real', 'to_bytes']\n"
          ]
        }
      ]
    },
    {
      "cell_type": "code",
      "source": [
        "나이 = 10\n",
        "print(나이.bit_length())\n",
        "print(bin(나이))\n",
        "\n",
        "나이_90년_후 = 100\n",
        "print(나이_90년_후.bit_length())\n",
        "print(bin(나이_90년_후))"
      ],
      "metadata": {
        "colab": {
          "base_uri": "https://localhost:8080/"
        },
        "id": "GkncjCLqmPeG",
        "outputId": "3c85dc2c-d726-43dc-a3f6-27ce5f60eb5a"
      },
      "execution_count": 12,
      "outputs": [
        {
          "output_type": "stream",
          "name": "stdout",
          "text": [
            "4\n",
            "0b1010\n",
            "7\n",
            "0b1100100\n"
          ]
        }
      ]
    },
    {
      "cell_type": "code",
      "source": [
        "# 1.2 float\n",
        "\n",
        "print(몸무게)\n",
        "print(type(몸무게))\n",
        "print(dir(몸무게))\n",
        "\n",
        "print(몸무게 + 10)"
      ],
      "metadata": {
        "colab": {
          "base_uri": "https://localhost:8080/"
        },
        "id": "JqU6MjcdlFyb",
        "outputId": "70a01ce2-42b6-46f6-eeb8-93fc704df805"
      },
      "execution_count": 13,
      "outputs": [
        {
          "output_type": "stream",
          "name": "stdout",
          "text": [
            "1.2\n",
            "<class 'float'>\n",
            "['__abs__', '__add__', '__bool__', '__class__', '__delattr__', '__dir__', '__divmod__', '__doc__', '__eq__', '__float__', '__floordiv__', '__format__', '__ge__', '__getattribute__', '__getformat__', '__getnewargs__', '__gt__', '__hash__', '__init__', '__init_subclass__', '__int__', '__le__', '__lt__', '__mod__', '__mul__', '__ne__', '__neg__', '__new__', '__pos__', '__pow__', '__radd__', '__rdivmod__', '__reduce__', '__reduce_ex__', '__repr__', '__rfloordiv__', '__rmod__', '__rmul__', '__round__', '__rpow__', '__rsub__', '__rtruediv__', '__set_format__', '__setattr__', '__sizeof__', '__str__', '__sub__', '__subclasshook__', '__truediv__', '__trunc__', 'as_integer_ratio', 'conjugate', 'fromhex', 'hex', 'imag', 'is_integer', 'real']\n",
            "11.2\n"
          ]
        }
      ]
    },
    {
      "cell_type": "code",
      "source": [
        "# 2. str\n",
        "#시퀀스(순서가 있는)형 자료형\n",
        "\n",
        "# index, indexing\n",
        "print(설명)\n",
        "print(설명[0])\n",
        "print(설명[1])\n",
        "print(설명[2])\n",
        "print(기술)\n",
        "print(기술[0])\n",
        "print(기술[1])\n",
        "\n",
        "# print(설명)\n",
        "# print(설명)"
      ],
      "metadata": {
        "colab": {
          "base_uri": "https://localhost:8080/"
        },
        "id": "2HaAVj9wh-63",
        "outputId": "058c62d0-f39b-4d27-dbd1-493f7420b1e5"
      },
      "execution_count": 14,
      "outputs": [
        {
          "output_type": "stream",
          "name": "stdout",
          "text": [
            "위니브 월드 외각에 살고 있는 생선가게 주인 캣(cat)\n",
            "위\n",
            "니\n",
            "브\n",
            "['고기잡이', '고기팔기']\n",
            "고기잡이\n",
            "고기팔기\n"
          ]
        }
      ]
    },
    {
      "cell_type": "code",
      "source": [
        "# slicing\n",
        "# 변수이름[start:stop:step]\n",
        "print(설명)\n",
        "print(설명[0:3])\n",
        "print(설명[0:6])\n",
        "print(설명[0:9])"
      ],
      "metadata": {
        "colab": {
          "base_uri": "https://localhost:8080/"
        },
        "id": "3IioMRMph_uI",
        "outputId": "f398ed1c-0301-4268-f500-9659efa1a9aa"
      },
      "execution_count": 15,
      "outputs": [
        {
          "output_type": "stream",
          "name": "stdout",
          "text": [
            "위니브 월드 외각에 살고 있는 생선가게 주인 캣(cat)\n",
            "위니브\n",
            "위니브 월드\n",
            "위니브 월드 외각\n"
          ]
        }
      ]
    },
    {
      "cell_type": "code",
      "source": [
        "캣의_생년월일 = '2220.02.22'\n",
        "생년 = 캣의_생년월일[:4]\n",
        "월 = 캣의_생년월일[5:7]\n",
        "일 = 캣의_생년월일[8:]\n",
        "생년, 월, 일"
      ],
      "metadata": {
        "colab": {
          "base_uri": "https://localhost:8080/"
        },
        "id": "HzIFniAohvY1",
        "outputId": "a2c2848b-3946-4af9-9241-7ac5c852fd65"
      },
      "execution_count": 16,
      "outputs": [
        {
          "output_type": "execute_result",
          "data": {
            "text/plain": [
              "('2220', '02', '22')"
            ]
          },
          "metadata": {},
          "execution_count": 16
        }
      ]
    },
    {
      "cell_type": "code",
      "source": [
        "숫자 = '123456789101112'\n",
        "print(숫자[::-1])\n",
        "print(숫자[::2])\n",
        "print(숫자[1:7:2])\n",
        "print(숫자[7:1:-1])\n",
        "print(숫자[-1])"
      ],
      "metadata": {
        "colab": {
          "base_uri": "https://localhost:8080/"
        },
        "id": "mlkeVmSYhwRO",
        "outputId": "5a54320e-ea7b-4f45-f92b-56ad779d9a4b"
      },
      "execution_count": 17,
      "outputs": [
        {
          "output_type": "stream",
          "name": "stdout",
          "text": [
            "211101987654321\n",
            "13579012\n",
            "246\n",
            "876543\n",
            "2\n"
          ]
        }
      ]
    },
    {
      "cell_type": "code",
      "source": [
        "print(설명)\n",
        "print(type(설명))\n",
        "print(dir(설명))\n",
        "'''\n",
        "'capitalize', 'casefold', 'center', 'count', 'encode', 'endswith', 'expandtabs', 'find', 'format', 'format_map', 'index', 'isalnum', 'isalpha', 'isascii', 'isdecimal', 'isdigit', 'isidentifier', 'islower', 'isnumeric', 'isprintable', 'isspace', 'istitle', 'isupper', 'join', 'ljust', 'lower', 'lstrip', 'maketrans', 'partition', 'replace', 'rfind', 'rindex', 'rjust', 'rpartition', 'rsplit', 'rstrip', 'split', 'splitlines', 'startswith', 'strip', 'swapcase', 'title', 'translate', 'upper', 'zfill']\n",
        "'''"
      ],
      "metadata": {
        "colab": {
          "base_uri": "https://localhost:8080/",
          "height": 149
        },
        "id": "bVYEMtJLpGNB",
        "outputId": "29b2b561-14c5-48c2-bff3-6788bb1d6609"
      },
      "execution_count": 18,
      "outputs": [
        {
          "output_type": "stream",
          "name": "stdout",
          "text": [
            "위니브 월드 외각에 살고 있는 생선가게 주인 캣(cat)\n",
            "<class 'str'>\n",
            "['__add__', '__class__', '__contains__', '__delattr__', '__dir__', '__doc__', '__eq__', '__format__', '__ge__', '__getattribute__', '__getitem__', '__getnewargs__', '__gt__', '__hash__', '__init__', '__init_subclass__', '__iter__', '__le__', '__len__', '__lt__', '__mod__', '__mul__', '__ne__', '__new__', '__reduce__', '__reduce_ex__', '__repr__', '__rmod__', '__rmul__', '__setattr__', '__sizeof__', '__str__', '__subclasshook__', 'capitalize', 'casefold', 'center', 'count', 'encode', 'endswith', 'expandtabs', 'find', 'format', 'format_map', 'index', 'isalnum', 'isalpha', 'isascii', 'isdecimal', 'isdigit', 'isidentifier', 'islower', 'isnumeric', 'isprintable', 'isspace', 'istitle', 'isupper', 'join', 'ljust', 'lower', 'lstrip', 'maketrans', 'partition', 'replace', 'rfind', 'rindex', 'rjust', 'rpartition', 'rsplit', 'rstrip', 'split', 'splitlines', 'startswith', 'strip', 'swapcase', 'title', 'translate', 'upper', 'zfill']\n"
          ]
        },
        {
          "output_type": "execute_result",
          "data": {
            "text/plain": [
              "\"\\n'capitalize', 'casefold', 'center', 'count', 'encode', 'endswith', 'expandtabs', 'find', 'format', 'format_map', 'index', 'isalnum', 'isalpha', 'isascii', 'isdecimal', 'isdigit', 'isidentifier', 'islower', 'isnumeric', 'isprintable', 'isspace', 'istitle', 'isupper', 'join', 'ljust', 'lower', 'lstrip', 'maketrans', 'partition', 'replace', 'rfind', 'rindex', 'rjust', 'rpartition', 'rsplit', 'rstrip', 'split', 'splitlines', 'startswith', 'strip', 'swapcase', 'title', 'translate', 'upper', 'zfill']\\n\""
            ],
            "application/vnd.google.colaboratory.intrinsic+json": {
              "type": "string"
            }
          },
          "metadata": {},
          "execution_count": 18
        }
      ]
    },
    {
      "cell_type": "code",
      "source": [
        "숫자.count('1')\n",
        "설명.upper()\n",
        "설명.lower()\n",
        "'             hello world'.lstrip()\n",
        "'             hello world'.strip()\n",
        "'             hello world'.replace(' ', '!')\n",
        "설명.index('각')\n",
        "설명[설명.index('각')]\n",
        "설명.find('각')\n",
        "설명[설명.find('각')]\n"
      ],
      "metadata": {
        "colab": {
          "base_uri": "https://localhost:8080/",
          "height": 36
        },
        "id": "uHLkvje9pzOm",
        "outputId": "9e987afa-a7b5-461f-95fa-bb92c0b2f1ff"
      },
      "execution_count": 19,
      "outputs": [
        {
          "output_type": "execute_result",
          "data": {
            "text/plain": [
              "'각'"
            ],
            "application/vnd.google.colaboratory.intrinsic+json": {
              "type": "string"
            }
          },
          "metadata": {},
          "execution_count": 19
        }
      ]
    },
    {
      "cell_type": "code",
      "source": [
        "# bool\n",
        "\n",
        "육식 = True\n",
        "초식 = True\n",
        "print(type(육식))\n",
        "print(dir(육식))"
      ],
      "metadata": {
        "colab": {
          "base_uri": "https://localhost:8080/"
        },
        "id": "ajHlGM0OqyPE",
        "outputId": "11a66e00-7457-4cfb-9c4e-350bf557a267"
      },
      "execution_count": 20,
      "outputs": [
        {
          "output_type": "stream",
          "name": "stdout",
          "text": [
            "<class 'bool'>\n",
            "['__abs__', '__add__', '__and__', '__bool__', '__ceil__', '__class__', '__delattr__', '__dir__', '__divmod__', '__doc__', '__eq__', '__float__', '__floor__', '__floordiv__', '__format__', '__ge__', '__getattribute__', '__getnewargs__', '__gt__', '__hash__', '__index__', '__init__', '__init_subclass__', '__int__', '__invert__', '__le__', '__lshift__', '__lt__', '__mod__', '__mul__', '__ne__', '__neg__', '__new__', '__or__', '__pos__', '__pow__', '__radd__', '__rand__', '__rdivmod__', '__reduce__', '__reduce_ex__', '__repr__', '__rfloordiv__', '__rlshift__', '__rmod__', '__rmul__', '__ror__', '__round__', '__rpow__', '__rrshift__', '__rshift__', '__rsub__', '__rtruediv__', '__rxor__', '__setattr__', '__sizeof__', '__str__', '__sub__', '__subclasshook__', '__truediv__', '__trunc__', '__xor__', 'as_integer_ratio', 'bit_length', 'conjugate', 'denominator', 'from_bytes', 'imag', 'numerator', 'real', 'to_bytes']\n"
          ]
        }
      ]
    },
    {
      "cell_type": "markdown",
      "source": [
        "## 1.llst\n",
        "\n",
        "1. 순서가 있습니다.\n",
        "2. 수정이 가능합니다.\n",
        "3. 순회가 가능합니다.\n",
        "4. 값의 중복을 허락합니다."
      ],
      "metadata": {
        "id": "JCzOOBar8-Gf"
      }
    },
    {
      "cell_type": "code",
      "source": [
        "# listm tuple, dict, set\n",
        "\n",
        "훈장 = []\n",
        "기술 = ['고기잡이', '고기팔기']\n",
        "print(type(기술))\n",
        "print(dir(기술))\n",
        "'''\n",
        "'append', 'clear', 'copy', 'count', 'extend', 'index', 'insert', 'pop', 'remove', 'reverse', 'sort'\n",
        "'''"
      ],
      "metadata": {
        "colab": {
          "base_uri": "https://localhost:8080/",
          "height": 93
        },
        "id": "kBfGSXqR8MSH",
        "outputId": "3ef49cb7-1a2b-43b2-833e-9bbbb13f56d0"
      },
      "execution_count": 22,
      "outputs": [
        {
          "output_type": "stream",
          "name": "stdout",
          "text": [
            "<class 'list'>\n",
            "['__add__', '__class__', '__contains__', '__delattr__', '__delitem__', '__dir__', '__doc__', '__eq__', '__format__', '__ge__', '__getattribute__', '__getitem__', '__gt__', '__hash__', '__iadd__', '__imul__', '__init__', '__init_subclass__', '__iter__', '__le__', '__len__', '__lt__', '__mul__', '__ne__', '__new__', '__reduce__', '__reduce_ex__', '__repr__', '__reversed__', '__rmul__', '__setattr__', '__setitem__', '__sizeof__', '__str__', '__subclasshook__', 'append', 'clear', 'copy', 'count', 'extend', 'index', 'insert', 'pop', 'remove', 'reverse', 'sort']\n"
          ]
        },
        {
          "output_type": "execute_result",
          "data": {
            "text/plain": [
              "\"\\n'append', 'clear', 'copy', 'count', 'extend', 'index', 'insert', 'pop', 'remove', 'reverse', 'sort'\\n\""
            ],
            "application/vnd.google.colaboratory.intrinsic+json": {
              "type": "string"
            }
          },
          "metadata": {},
          "execution_count": 22
        }
      ]
    },
    {
      "cell_type": "code",
      "source": [
        "잡은물고기 = ['광어', '고등어', '오징어', '오징어', '광어',\n",
        "              '광어', '고등어', '고등어', '백상아리', '금붕어']\n",
        "print(잡은물고기[0])\n",
        "print(잡은물고기[0:3])\n",
        "print(잡은물고기[0:7:2])\n",
        "잡은물고기[-1] = '백상아리'"
      ],
      "metadata": {
        "colab": {
          "base_uri": "https://localhost:8080/"
        },
        "id": "yqUWlE1E9gt2",
        "outputId": "275b76ec-eebd-4e66-a437-83dc573a830e"
      },
      "execution_count": 33,
      "outputs": [
        {
          "output_type": "stream",
          "name": "stdout",
          "text": [
            "광어\n",
            "['광어', '고등어', '오징어']\n",
            "['광어', '오징어', '광어', '고등어']\n"
          ]
        }
      ]
    },
    {
      "cell_type": "code",
      "source": [
        "잡은물고기.count('백상아리')\n",
        "잡은물고기.append('백상아리')\n",
        "잡은물고기\n",
        "# 잡은물고기.clear()\n",
        "# 잡은물고기.copy() \n"
      ],
      "metadata": {
        "colab": {
          "base_uri": "https://localhost:8080/"
        },
        "id": "ZlyA1uMm-ZN4",
        "outputId": "5af8ded3-de17-4b13-cc75-63109f9ae8d8"
      },
      "execution_count": 34,
      "outputs": [
        {
          "output_type": "execute_result",
          "data": {
            "text/plain": [
              "['광어', '고등어', '오징어', '오징어', '광어', '광어', '고등어', '고등어', '백상아리', '백상아리', '백상아리']"
            ]
          },
          "metadata": {},
          "execution_count": 34
        }
      ]
    },
    {
      "cell_type": "code",
      "source": [
        "잡은물고기.extend(['광어', '고등어', '고등어'])\n",
        "잡은물고기"
      ],
      "metadata": {
        "colab": {
          "base_uri": "https://localhost:8080/"
        },
        "id": "eVsNjMyG-aSq",
        "outputId": "79fccd36-9d9a-40fc-960b-6e919d29f344"
      },
      "execution_count": 35,
      "outputs": [
        {
          "output_type": "execute_result",
          "data": {
            "text/plain": [
              "['광어',\n",
              " '고등어',\n",
              " '오징어',\n",
              " '오징어',\n",
              " '광어',\n",
              " '광어',\n",
              " '고등어',\n",
              " '고등어',\n",
              " '백상아리',\n",
              " '백상아리',\n",
              " '백상아리',\n",
              " '광어',\n",
              " '고등어',\n",
              " '고등어']"
            ]
          },
          "metadata": {},
          "execution_count": 35
        }
      ]
    },
    {
      "cell_type": "code",
      "source": [
        "잡은물고기.index('백상아리')\n",
        "잡은물고기.insert(3,'백상아리')\n",
        "잡은물고기\n",
        "잡은물고기.pop() #pop안에 index를 넣어 지울 수 있습니다.\n",
        "# del 잡은물고기[0] - 0번째 삭제\n",
        "잡은물고기"
      ],
      "metadata": {
        "colab": {
          "base_uri": "https://localhost:8080/"
        },
        "id": "eUprxZfL99d1",
        "outputId": "1d7e3ed0-c7e5-44e8-e33d-fd70f95d3590"
      },
      "execution_count": 38,
      "outputs": [
        {
          "output_type": "execute_result",
          "data": {
            "text/plain": [
              "['광어',\n",
              " '고등어',\n",
              " '오징어',\n",
              " ' 백상아리',\n",
              " ' 백상아리',\n",
              " '오징어',\n",
              " '광어',\n",
              " '광어',\n",
              " '고등어',\n",
              " '고등어',\n",
              " '백상아리',\n",
              " '백상아리',\n",
              " '백상아리',\n",
              " '광어',\n",
              " '고등어']"
            ]
          },
          "metadata": {},
          "execution_count": 38
        }
      ]
    },
    {
      "cell_type": "code",
      "source": [
        "# 잡은물고기.remove('백상아리')\n",
        "# 잡은물고기\n",
        "잡은물고기.insert(8,'백상아리')\n",
        "잡은물고기"
      ],
      "metadata": {
        "colab": {
          "base_uri": "https://localhost:8080/"
        },
        "id": "VH5uHPOI_xzR",
        "outputId": "80f558c8-3274-46e9-bd91-246735c66213"
      },
      "execution_count": 43,
      "outputs": [
        {
          "output_type": "execute_result",
          "data": {
            "text/plain": [
              "['광어',\n",
              " '고등어',\n",
              " '오징어',\n",
              " '오징어',\n",
              " '광어',\n",
              " '광어',\n",
              " '고등어',\n",
              " '고등어',\n",
              " '백상아리',\n",
              " '백상아리',\n",
              " '백상아리',\n",
              " '광어',\n",
              " '고등어']"
            ]
          },
          "metadata": {},
          "execution_count": 43
        }
      ]
    },
    {
      "cell_type": "code",
      "source": [
        "잡은물고기.reverse()\n",
        "잡은물고기"
      ],
      "metadata": {
        "colab": {
          "base_uri": "https://localhost:8080/"
        },
        "id": "KfXUvpIzAHlk",
        "outputId": "a2b771ff-0e6d-4803-bbad-8776de922239"
      },
      "execution_count": 44,
      "outputs": [
        {
          "output_type": "execute_result",
          "data": {
            "text/plain": [
              "['고등어',\n",
              " '광어',\n",
              " '백상아리',\n",
              " '백상아리',\n",
              " '백상아리',\n",
              " '고등어',\n",
              " '고등어',\n",
              " '광어',\n",
              " '광어',\n",
              " '오징어',\n",
              " '오징어',\n",
              " '고등어',\n",
              " '광어']"
            ]
          },
          "metadata": {},
          "execution_count": 44
        }
      ]
    },
    {
      "cell_type": "code",
      "source": [
        "잡은물고기.sort()\n",
        "잡은물고기"
      ],
      "metadata": {
        "colab": {
          "base_uri": "https://localhost:8080/"
        },
        "id": "zY_Y1StLAxDH",
        "outputId": "276a6e1f-b2cf-4f07-9622-d9b3c61ad07e"
      },
      "execution_count": 46,
      "outputs": [
        {
          "output_type": "execute_result",
          "data": {
            "text/plain": [
              "['고등어',\n",
              " '고등어',\n",
              " '고등어',\n",
              " '고등어',\n",
              " '광어',\n",
              " '광어',\n",
              " '광어',\n",
              " '광어',\n",
              " '백상아리',\n",
              " '백상아리',\n",
              " '백상아리',\n",
              " '오징어',\n",
              " '오징어']"
            ]
          },
          "metadata": {},
          "execution_count": 46
        }
      ]
    },
    {
      "cell_type": "markdown",
      "source": [
        "## 2. tuple\n",
        "\n",
        "1. 순서가 있습니다.\n",
        "2. 값의 변화를 줄 수 없습니다."
      ],
      "metadata": {
        "id": "Vcvrnn4TBC3q"
      }
    },
    {
      "cell_type": "code",
      "source": [
        "잡은물고기_튜플 = ('고등어',\n",
        " '고등어',\n",
        " '고등어',\n",
        " '고등어',\n",
        " '광어',\n",
        " '광어',\n",
        " '광어',\n",
        " '광어',\n",
        " '백상아리',\n",
        " '백상아리',\n",
        " '백상아리',\n",
        " '오징어',\n",
        " '오징어')\n",
        "\n",
        "print(type(잡은물고기_튜플))\n",
        "print(dir(잡은물고기_튜플))\n",
        "\n",
        "잡은물고기_튜플[0]\n",
        "잡은물고기_튜플[::-1]\n"
      ],
      "metadata": {
        "colab": {
          "base_uri": "https://localhost:8080/"
        },
        "id": "Cpwv1B-WBKd6",
        "outputId": "8be27928-daa2-4128-f533-6616d89f2d78"
      },
      "execution_count": 50,
      "outputs": [
        {
          "output_type": "stream",
          "name": "stdout",
          "text": [
            "<class 'tuple'>\n",
            "['__add__', '__class__', '__contains__', '__delattr__', '__dir__', '__doc__', '__eq__', '__format__', '__ge__', '__getattribute__', '__getitem__', '__getnewargs__', '__gt__', '__hash__', '__init__', '__init_subclass__', '__iter__', '__le__', '__len__', '__lt__', '__mul__', '__ne__', '__new__', '__reduce__', '__reduce_ex__', '__repr__', '__rmul__', '__setattr__', '__sizeof__', '__str__', '__subclasshook__', 'count', 'index']\n"
          ]
        },
        {
          "output_type": "execute_result",
          "data": {
            "text/plain": [
              "('오징어',\n",
              " '오징어',\n",
              " '백상아리',\n",
              " '백상아리',\n",
              " '백상아리',\n",
              " '광어',\n",
              " '광어',\n",
              " '광어',\n",
              " '광어',\n",
              " '고등어',\n",
              " '고등어',\n",
              " '고등어',\n",
              " '고등어')"
            ]
          },
          "metadata": {},
          "execution_count": 50
        }
      ]
    },
    {
      "cell_type": "markdown",
      "source": [
        "## 3. 딕셔너리\n",
        "\n",
        "1. 순서가 없습니다.\n",
        "2. 키 값의 중복을 허락하지 않습니다.\n",
        "3. 값의 중복은 가능합니다.\n",
        "4. 순회는 가능합니다."
      ],
      "metadata": {
        "id": "EFQ-YTSABuio"
      }
    },
    {
      "cell_type": "code",
      "source": [
        "# Dictionary의 구조\n",
        "# dic = { 'key' : 'value' }\n",
        "\n",
        "잡은물고기_딕셔너리 = {'광어' : 4, '고등어' : 4, '오징어' : 2, '백상아리' : 3}"
      ],
      "metadata": {
        "id": "3kfxVpHpBokL"
      },
      "execution_count": 55,
      "outputs": []
    },
    {
      "cell_type": "code",
      "source": [
        "잡은물고기_딕셔너리['광어']\n",
        "del 잡은물고기_딕셔너리['고등어']\n",
        "잡은물고기_딕셔너리\n",
        "\n"
      ],
      "metadata": {
        "colab": {
          "base_uri": "https://localhost:8080/"
        },
        "id": "QDxsKQ3kEC8j",
        "outputId": "3f7a4382-8e26-4485-98aa-3443981af8c5"
      },
      "execution_count": 56,
      "outputs": [
        {
          "output_type": "execute_result",
          "data": {
            "text/plain": [
              "{'광어': 4, '오징어': 2, '백상아리': 3}"
            ]
          },
          "metadata": {},
          "execution_count": 56
        }
      ]
    },
    {
      "cell_type": "code",
      "source": [
        "print(type(잡은물고기_딕셔너리))\n",
        "print(dir(잡은물고기_딕셔너리))"
      ],
      "metadata": {
        "colab": {
          "base_uri": "https://localhost:8080/"
        },
        "id": "5eOSl-JCEkOJ",
        "outputId": "476dd4e3-6701-4b69-ee7e-ac3c20b97b01"
      },
      "execution_count": 57,
      "outputs": [
        {
          "output_type": "stream",
          "name": "stdout",
          "text": [
            "<class 'dict'>\n",
            "['__class__', '__contains__', '__delattr__', '__delitem__', '__dir__', '__doc__', '__eq__', '__format__', '__ge__', '__getattribute__', '__getitem__', '__gt__', '__hash__', '__init__', '__init_subclass__', '__iter__', '__le__', '__len__', '__lt__', '__ne__', '__new__', '__reduce__', '__reduce_ex__', '__repr__', '__reversed__', '__setattr__', '__setitem__', '__sizeof__', '__str__', '__subclasshook__', 'clear', 'copy', 'fromkeys', 'get', 'items', 'keys', 'pop', 'popitem', 'setdefault', 'update', 'values']\n"
          ]
        }
      ]
    },
    {
      "cell_type": "code",
      "source": [
        "잡은물고기_딕셔너리.items()"
      ],
      "metadata": {
        "colab": {
          "base_uri": "https://localhost:8080/"
        },
        "id": "1fVi1dwMEvXR",
        "outputId": "7900ded7-2f3a-4247-d665-d8ea5c3cf0a2"
      },
      "execution_count": 58,
      "outputs": [
        {
          "output_type": "execute_result",
          "data": {
            "text/plain": [
              "dict_items([('광어', 4), ('오징어', 2), ('백상아리', 3)])"
            ]
          },
          "metadata": {},
          "execution_count": 58
        }
      ]
    },
    {
      "cell_type": "code",
      "source": [
        "잡은물고기_딕셔너리.values()"
      ],
      "metadata": {
        "colab": {
          "base_uri": "https://localhost:8080/"
        },
        "id": "OmkEutqwE01B",
        "outputId": "1f3d6f88-c215-49c4-bbc6-c6621232d9e0"
      },
      "execution_count": 59,
      "outputs": [
        {
          "output_type": "execute_result",
          "data": {
            "text/plain": [
              "dict_values([4, 2, 3])"
            ]
          },
          "metadata": {},
          "execution_count": 59
        }
      ]
    },
    {
      "cell_type": "code",
      "source": [
        "잡은물고기_딕셔너리.keys()"
      ],
      "metadata": {
        "colab": {
          "base_uri": "https://localhost:8080/"
        },
        "id": "ArqjAX29E41j",
        "outputId": "dce7be35-3ec5-4928-aa88-aa8bccf815d9"
      },
      "execution_count": 60,
      "outputs": [
        {
          "output_type": "execute_result",
          "data": {
            "text/plain": [
              "dict_keys(['광어', '오징어', '백상아리'])"
            ]
          },
          "metadata": {},
          "execution_count": 60
        }
      ]
    },
    {
      "cell_type": "code",
      "source": [
        "잡은물고기_딕셔너리_복사 = 잡은물고기_딕셔너리.copy()\n",
        "잡은물고기_딕셔너리_복사['백상아리'] = 10\n",
        "잡은물고기_딕셔너리_복사"
      ],
      "metadata": {
        "colab": {
          "base_uri": "https://localhost:8080/"
        },
        "id": "v9ta8KxUE7hb",
        "outputId": "4b6eea79-b81e-4889-d9d2-030c60213646"
      },
      "execution_count": 65,
      "outputs": [
        {
          "output_type": "execute_result",
          "data": {
            "text/plain": [
              "{'광어': 4, '오징어': 2, '백상아리': 10}"
            ]
          },
          "metadata": {},
          "execution_count": 65
        }
      ]
    },
    {
      "cell_type": "code",
      "source": [
        "잡은물고기_딕셔너리"
      ],
      "metadata": {
        "colab": {
          "base_uri": "https://localhost:8080/"
        },
        "id": "MRXIKSh3FLyU",
        "outputId": "b8677d0f-287c-4f6a-ddbb-6113e8261bac"
      },
      "execution_count": 66,
      "outputs": [
        {
          "output_type": "execute_result",
          "data": {
            "text/plain": [
              "{'광어': 4, '오징어': 2, '백상아리': 5}"
            ]
          },
          "metadata": {},
          "execution_count": 66
        }
      ]
    },
    {
      "cell_type": "code",
      "source": [
        "# 잡은물고기_딕셔너리_복사 -> {'광어': 4, '오징어': 2, '백상아리': 3}\n",
        "# 잡은물고기_딕셔너리 -> {'광어': 4, '오징어': 2, '백상아리': 5}"
      ],
      "metadata": {
        "id": "p2LFykWFFOvj"
      },
      "execution_count": null,
      "outputs": []
    },
    {
      "cell_type": "markdown",
      "source": [
        "## 4. set\n",
        "\n",
        "1. 순서가 없습니다.\n",
        "2. 값의 중복을 허락하지 않습니다.\n",
        "3. 차집합, 교집합, 합집합 등의 연산이\n",
        "가능합니다."
      ],
      "metadata": {
        "id": "qCSPV3wTF239"
      }
    },
    {
      "cell_type": "code",
      "source": [
        "잡은물고기"
      ],
      "metadata": {
        "colab": {
          "base_uri": "https://localhost:8080/"
        },
        "id": "7b4UaMdVGC4t",
        "outputId": "8effec23-9e49-40b7-b55c-16a8ab1fb93d"
      },
      "execution_count": 67,
      "outputs": [
        {
          "output_type": "execute_result",
          "data": {
            "text/plain": [
              "['고등어',\n",
              " '고등어',\n",
              " '고등어',\n",
              " '고등어',\n",
              " '광어',\n",
              " '광어',\n",
              " '광어',\n",
              " '광어',\n",
              " '백상아리',\n",
              " '백상아리',\n",
              " '백상아리',\n",
              " '오징어',\n",
              " '오징어']"
            ]
          },
          "metadata": {},
          "execution_count": 67
        }
      ]
    },
    {
      "cell_type": "code",
      "source": [
        "test = set(잡은물고기)\n",
        "test"
      ],
      "metadata": {
        "colab": {
          "base_uri": "https://localhost:8080/"
        },
        "id": "yye9YIm_GFUR",
        "outputId": "ca008369-a7a4-49d4-8765-33f1733fb479"
      },
      "execution_count": 75,
      "outputs": [
        {
          "output_type": "execute_result",
          "data": {
            "text/plain": [
              "{'고등어', '광어', '백상아리', '오징어'}"
            ]
          },
          "metadata": {},
          "execution_count": 75
        }
      ]
    },
    {
      "cell_type": "code",
      "source": [
        "잡은물고기_집합 = {'고등어', '광어', '대왕오징어'}\n",
        "잡은물고기_집합"
      ],
      "metadata": {
        "colab": {
          "base_uri": "https://localhost:8080/"
        },
        "id": "Uqx-I2iNGJEJ",
        "outputId": "e0d7f277-c18d-447f-9cee-fa34ab0eb545"
      },
      "execution_count": 70,
      "outputs": [
        {
          "output_type": "execute_result",
          "data": {
            "text/plain": [
              "{'고등어', '광어', '대왕오징어'}"
            ]
          },
          "metadata": {},
          "execution_count": 70
        }
      ]
    },
    {
      "cell_type": "code",
      "source": [
        "print(type(잡은물고기_집합))\n",
        "print(dir(잡은물고기_집합))\n",
        "test.difference(잡은물고기_집합)\n",
        "test.intersection(잡은물고기_집합)\n",
        "test.union(잡은물고기_집합)"
      ],
      "metadata": {
        "colab": {
          "base_uri": "https://localhost:8080/"
        },
        "id": "JrF7ZTK8Ggl3",
        "outputId": "e3cbf9e4-c598-45ea-b398-96236fbd525b"
      },
      "execution_count": 80,
      "outputs": [
        {
          "output_type": "stream",
          "name": "stdout",
          "text": [
            "<class 'set'>\n",
            "['__and__', '__class__', '__contains__', '__delattr__', '__dir__', '__doc__', '__eq__', '__format__', '__ge__', '__getattribute__', '__gt__', '__hash__', '__iand__', '__init__', '__init_subclass__', '__ior__', '__isub__', '__iter__', '__ixor__', '__le__', '__len__', '__lt__', '__ne__', '__new__', '__or__', '__rand__', '__reduce__', '__reduce_ex__', '__repr__', '__ror__', '__rsub__', '__rxor__', '__setattr__', '__sizeof__', '__str__', '__sub__', '__subclasshook__', '__xor__', 'add', 'clear', 'copy', 'difference', 'difference_update', 'discard', 'intersection', 'intersection_update', 'isdisjoint', 'issubset', 'issuperset', 'pop', 'remove', 'symmetric_difference', 'symmetric_difference_update', 'union', 'update']\n"
          ]
        },
        {
          "output_type": "execute_result",
          "data": {
            "text/plain": [
              "{'고등어', '광어', '대왕오징어', '백상아리', '오징어'}"
            ]
          },
          "metadata": {},
          "execution_count": 80
        }
      ]
    },
    {
      "cell_type": "code",
      "source": [
        "set('aaabbc')"
      ],
      "metadata": {
        "colab": {
          "base_uri": "https://localhost:8080/"
        },
        "id": "PpmY0z0THZRq",
        "outputId": "f3623cdc-c867-4292-9cc1-457d3463bdb2"
      },
      "execution_count": 81,
      "outputs": [
        {
          "output_type": "execute_result",
          "data": {
            "text/plain": [
              "{'a', 'b', 'c'}"
            ]
          },
          "metadata": {},
          "execution_count": 81
        }
      ]
    },
    {
      "cell_type": "markdown",
      "source": [
        "## 형변환\n",
        "\n",
        "* 기존 type에서 다른 type으로 변환"
      ],
      "metadata": {
        "id": "h4hiv2qdIYkd"
      }
    },
    {
      "cell_type": "code",
      "source": [
        "'10' + '10'"
      ],
      "metadata": {
        "colab": {
          "base_uri": "https://localhost:8080/",
          "height": 36
        },
        "id": "DTCsWGWzHe3U",
        "outputId": "4e869097-4995-4303-f286-4f688aef8ad9"
      },
      "execution_count": 82,
      "outputs": [
        {
          "output_type": "execute_result",
          "data": {
            "text/plain": [
              "'1010'"
            ],
            "application/vnd.google.colaboratory.intrinsic+json": {
              "type": "string"
            }
          },
          "metadata": {},
          "execution_count": 82
        }
      ]
    },
    {
      "cell_type": "code",
      "source": [
        "int('10') + int('10')"
      ],
      "metadata": {
        "colab": {
          "base_uri": "https://localhost:8080/"
        },
        "id": "dN7oEWJBIkMl",
        "outputId": "ffe9f57e-374a-4f01-a76c-aefec3a2824d"
      },
      "execution_count": 84,
      "outputs": [
        {
          "output_type": "execute_result",
          "data": {
            "text/plain": [
              "20"
            ]
          },
          "metadata": {},
          "execution_count": 84
        }
      ]
    },
    {
      "cell_type": "code",
      "source": [
        "오늘_잡은_물고기_수 = '371'\n",
        "\n",
        "오늘_잡은_물고기_수 = int(오늘_잡은_물고기_수) + 10\n",
        "오늘_잡은_물고기_수"
      ],
      "metadata": {
        "colab": {
          "base_uri": "https://localhost:8080/"
        },
        "id": "a7HfUsG_IsSM",
        "outputId": "713df05d-47f5-47bb-8c81-38eef05c57fc"
      },
      "execution_count": 85,
      "outputs": [
        {
          "output_type": "execute_result",
          "data": {
            "text/plain": [
              "381"
            ]
          },
          "metadata": {},
          "execution_count": 85
        }
      ]
    },
    {
      "cell_type": "code",
      "source": [
        "int('kimsungjae')"
      ],
      "metadata": {
        "colab": {
          "base_uri": "https://localhost:8080/",
          "height": 176
        },
        "id": "HZwJl34LI60G",
        "outputId": "fe7c19ce-c315-4eee-bfd6-63658c80d9e2"
      },
      "execution_count": 86,
      "outputs": [
        {
          "output_type": "error",
          "ename": "ValueError",
          "evalue": "ignored",
          "traceback": [
            "\u001b[0;31m---------------------------------------------------------------------------\u001b[0m",
            "\u001b[0;31mValueError\u001b[0m                                Traceback (most recent call last)",
            "\u001b[0;32m<ipython-input-86-fff940edc2e5>\u001b[0m in \u001b[0;36m<module>\u001b[0;34m\u001b[0m\n\u001b[0;32m----> 1\u001b[0;31m \u001b[0mint\u001b[0m\u001b[0;34m(\u001b[0m\u001b[0;34m'kimsungjae'\u001b[0m\u001b[0;34m)\u001b[0m\u001b[0;34m\u001b[0m\u001b[0;34m\u001b[0m\u001b[0m\n\u001b[0m",
            "\u001b[0;31mValueError\u001b[0m: invalid literal for int() with base 10: 'kimsungjae'"
          ]
        }
      ]
    },
    {
      "cell_type": "code",
      "source": [
        "s = '98710%'\n",
        "print(s[:-1] * 2)\n",
        "print(int(s[:-1]) * 2)"
      ],
      "metadata": {
        "colab": {
          "base_uri": "https://localhost:8080/"
        },
        "id": "2JNGhR41JKUC",
        "outputId": "5a2b22b7-7449-4ffe-fe72-a124e8b69419"
      },
      "execution_count": 88,
      "outputs": [
        {
          "output_type": "stream",
          "name": "stdout",
          "text": [
            "9871098710\n",
            "197420\n"
          ]
        }
      ]
    },
    {
      "cell_type": "code",
      "source": [
        "print(\"bool('test') : \", bool('test!!'))\n",
        "print(\"bool(1) : \", bool(1))\n",
        "print(\"bool(0) : \", bool(0))\n",
        "print(\"bool(-1) : \", bool(-1))\n",
        "print(\"bool(' ')  :\", bool(' '))\n",
        "print(\"bool('') : \", bool(''))\n",
        "print(\"bool(None) : \", bool(None))"
      ],
      "metadata": {
        "colab": {
          "base_uri": "https://localhost:8080/"
        },
        "id": "FUWj2cAvJeKA",
        "outputId": "bbf3ecde-c733-4d64-cafa-b6e8d064b6f1"
      },
      "execution_count": 93,
      "outputs": [
        {
          "output_type": "stream",
          "name": "stdout",
          "text": [
            "bool('test') :  True\n",
            "bool(1) :  True\n",
            "bool(0) :  False\n",
            "bool(-1) :  True\n",
            "bool(' ')  : True\n",
            "bool('') :  False\n",
            "bool(None) :  False\n"
          ]
        }
      ]
    },
    {
      "cell_type": "code",
      "source": [
        "print(f'bool([1,2,3]) : {bool([1,2,3])}')\n",
        "print(f'bool([]) : {bool([])}')"
      ],
      "metadata": {
        "colab": {
          "base_uri": "https://localhost:8080/"
        },
        "id": "QoCczOqxPI2m",
        "outputId": "8a9495be-cfa8-4b59-b8b2-232a1c44bb2b"
      },
      "execution_count": 95,
      "outputs": [
        {
          "output_type": "stream",
          "name": "stdout",
          "text": [
            "bool([1,2,3]) : True\n",
            "bool([]) : False\n"
          ]
        }
      ]
    },
    {
      "cell_type": "code",
      "source": [
        "tuple([1,2,3])"
      ],
      "metadata": {
        "colab": {
          "base_uri": "https://localhost:8080/"
        },
        "id": "K_W_iTskPeKP",
        "outputId": "9195f782-ffbe-4de3-83b5-b21c5d50ea2c"
      },
      "execution_count": 96,
      "outputs": [
        {
          "output_type": "execute_result",
          "data": {
            "text/plain": [
              "(1, 2, 3)"
            ]
          },
          "metadata": {},
          "execution_count": 96
        }
      ]
    },
    {
      "cell_type": "code",
      "source": [
        "t = (1,2,3)\n",
        "list(t)"
      ],
      "metadata": {
        "colab": {
          "base_uri": "https://localhost:8080/"
        },
        "id": "Ty4XspryPhMg",
        "outputId": "6ece1844-e214-4a1a-aed8-e5db51e79b1b"
      },
      "execution_count": 97,
      "outputs": [
        {
          "output_type": "execute_result",
          "data": {
            "text/plain": [
              "[1, 2, 3]"
            ]
          },
          "metadata": {},
          "execution_count": 97
        }
      ]
    },
    {
      "cell_type": "code",
      "source": [
        "dict([('key1', 'value1'), ('key2', 'value2'), ('key3', 'value3')])"
      ],
      "metadata": {
        "colab": {
          "base_uri": "https://localhost:8080/"
        },
        "id": "9ID2xHX9Pkof",
        "outputId": "7e7f11df-07a3-425a-ae17-2f2c857f9c63"
      },
      "execution_count": 99,
      "outputs": [
        {
          "output_type": "execute_result",
          "data": {
            "text/plain": [
              "{'key1': 'value1', 'key2': 'value2', 'key3': 'value3'}"
            ]
          },
          "metadata": {},
          "execution_count": 99
        }
      ]
    },
    {
      "cell_type": "code",
      "source": [
        "x = int(input('좋아하는 숫자를 입력하세요 : '))\n",
        "x + x\n",
        "# print(type(x))\n",
        "# print(dir(x))"
      ],
      "metadata": {
        "colab": {
          "base_uri": "https://localhost:8080/"
        },
        "id": "8vcvTJ46P_wR",
        "outputId": "000c2c49-8e03-40df-fa9a-93dbee498326"
      },
      "execution_count": 101,
      "outputs": [
        {
          "output_type": "stream",
          "name": "stdout",
          "text": [
            "좋아하는 숫자를 입력하세요 : 10\n",
            "<class 'str'>\n"
          ]
        }
      ]
    },
    {
      "cell_type": "code",
      "source": [
        "print('hello', end='!!')\n",
        "print('hello', end='!!')\n",
        "print('hello', end='!!')\n",
        "print('hello', end='!!')"
      ],
      "metadata": {
        "colab": {
          "base_uri": "https://localhost:8080/"
        },
        "id": "1dNrIKuDQRYl",
        "outputId": "9e978532-4945-4498-9b83-3854ed7bd919"
      },
      "execution_count": 102,
      "outputs": [
        {
          "output_type": "stream",
          "name": "stdout",
          "text": [
            "hello!!hello!!hello!!hello!!"
          ]
        }
      ]
    },
    {
      "cell_type": "code",
      "source": [
        "print('1. 제 이름은 ', 이름, '입니다. 제 나이는 ', 나이, '입니다.')\n",
        "print(f'2. 제 이름은 {이름}입니다. 제 나이는 {나이}입니다.') #중요\n",
        "print('1. 제 이름은 {}입니다. 제 나이는 {}입니다.'.format(이름, 나이))\n",
        "print('4. 제 이름은 %s입니다. 제 나이는 %d입니다'%(이름, 나이))"
      ],
      "metadata": {
        "colab": {
          "base_uri": "https://localhost:8080/"
        },
        "id": "lIMRkc-MQqMv",
        "outputId": "fdec203d-5fee-434d-fdb6-3891804070c5"
      },
      "execution_count": 103,
      "outputs": [
        {
          "output_type": "stream",
          "name": "stdout",
          "text": [
            "1. 제 이름은  캣 입니다. 제 나이는  10 입니다.\n",
            "2. 제 이름은 캣입니다. 제 나이는 10입니다.\n",
            "1. 제 이름은 캣입니다. 제 나이는 10입니다.\n",
            "4. 제 이름은 캣입니다. 제 나이는 10입니다\n"
          ]
        }
      ]
    },
    {
      "cell_type": "code",
      "source": [],
      "metadata": {
        "id": "nDgNqWTkQHni"
      },
      "execution_count": null,
      "outputs": []
    }
  ]
}