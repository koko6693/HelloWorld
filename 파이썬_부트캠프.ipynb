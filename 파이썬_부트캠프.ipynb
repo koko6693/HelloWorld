{
  "nbformat": 4,
  "nbformat_minor": 0,
  "metadata": {
    "colab": {
      "provenance": [],
      "authorship_tag": "ABX9TyOe4orA8yLIzWueof6x+Y4b",
      "include_colab_link": true
    },
    "kernelspec": {
      "name": "python3",
      "display_name": "Python 3"
    },
    "language_info": {
      "name": "python"
    }
  },
  "cells": [
    {
      "cell_type": "markdown",
      "metadata": {
        "id": "view-in-github",
        "colab_type": "text"
      },
      "source": [
        "<a href=\"https://colab.research.google.com/github/koko6693/HelloWorld/blob/main/%ED%8C%8C%EC%9D%B4%EC%8D%AC_%EB%B6%80%ED%8A%B8%EC%BA%A0%ED%94%84.ipynb\" target=\"_parent\"><img src=\"https://colab.research.google.com/assets/colab-badge.svg\" alt=\"Open In Colab\"/></a>"
      ]
    },
    {
      "cell_type": "code",
      "execution_count": 1,
      "metadata": {
        "colab": {
          "base_uri": "https://localhost:8080/",
          "height": 54
        },
        "id": "jRJ63nQkfPZ0",
        "outputId": "8813030f-f7d0-45a5-ba96-d893baed32c5"
      },
      "outputs": [
        {
          "output_type": "execute_result",
          "data": {
            "text/plain": [
              "'\\n라이캣의 개인정보입니다.\\n성장함에 따라 해당 값이 변합니다.\\n\\n주의) 마음대로 성장시키지 마세요!\\n'"
            ],
            "application/vnd.google.colaboratory.intrinsic+json": {
              "type": "string"
            }
          },
          "metadata": {},
          "execution_count": 1
        }
      ],
      "source": [
        "#라이캣의 개인정보 입력하기\n",
        "\n",
        "이름 ='캣'\n",
        "설명 = '위니브 월드 외각에 살고 있는 생선가게 주인 캣(cat)'\n",
        "나이 = 10\n",
        "오늘_잡은_물고기 = '10'\n",
        "키 = '45cm'\n",
        "몸무게 = 1.2\n",
        "육식 = True\n",
        "초식 = True\n",
        "돈 = 1000\n",
        "훈장 = []\n",
        "기술 = ['고기잡이', '고기팔기']\n",
        "\n",
        "'''\n",
        "라이캣의 개인정보입니다.\n",
        "성장함에 따라 해당 값이 변합니다.\n",
        "\n",
        "주의) 마음대로 성장시키지 마세요!\n",
        "'''\n"
      ]
    },
    {
      "cell_type": "code",
      "source": [
        "이름\n",
        "나이\n",
        "print(이름)\n",
        "print(나이)\n"
      ],
      "metadata": {
        "colab": {
          "base_uri": "https://localhost:8080/"
        },
        "id": "kZ1sM1lQhkGh",
        "outputId": "e26db63f-652d-4561-af6e-f63e0ddb0dd4"
      },
      "execution_count": 2,
      "outputs": [
        {
          "output_type": "stream",
          "name": "stdout",
          "text": [
            "캣\n",
            "10\n"
          ]
        }
      ]
    },
    {
      "cell_type": "code",
      "source": [
        "나이 = 11\n",
        "나이"
      ],
      "metadata": {
        "colab": {
          "base_uri": "https://localhost:8080/"
        },
        "id": "hUYSeLwCh4z4",
        "outputId": "7e0485c5-d3bb-4440-ce74-a7534bda457e"
      },
      "execution_count": 3,
      "outputs": [
        {
          "output_type": "execute_result",
          "data": {
            "text/plain": [
              "11"
            ]
          },
          "metadata": {},
          "execution_count": 3
        }
      ]
    },
    {
      "cell_type": "code",
      "source": [
        "나이 = 나이 + 1"
      ],
      "metadata": {
        "id": "eqXgf5O9iA6m"
      },
      "execution_count": 4,
      "outputs": []
    },
    {
      "cell_type": "code",
      "source": [
        "나이"
      ],
      "metadata": {
        "colab": {
          "base_uri": "https://localhost:8080/"
        },
        "id": "T8DXaTSUiJx_",
        "outputId": "c1ced37b-8b16-44be-e5d9-695f11914fce"
      },
      "execution_count": 5,
      "outputs": [
        {
          "output_type": "execute_result",
          "data": {
            "text/plain": [
              "12"
            ]
          },
          "metadata": {},
          "execution_count": 5
        }
      ]
    },
    {
      "cell_type": "markdown",
      "source": [
        "## 변수의 규칙\n",
        "\n",
        "1. 변수 중간에 띄어쓰기를 하지 않습니다.\n",
        "띄어쓰기를 명시하고 싶으실 때에는 언더스코어(`_`)를 사용하세요!\n",
        "2. 첫 글자는 숫자나 특수문자를 쓰지 않습니다.\n",
        "물론 언더스코어(`_`)제외입니다.\n",
        "3. 첫 글자를 대문자로 쓰지 않습니다. (Class가 대문자로 쓰기 때문이지만 대문자로 써도 실행됩니다.)\n",
        "4. 예약어를 사용하지 않습니다. 예를 들어 뒤에 `print` 구문이 나오는데요. 이러한 함수명이나 구문은 변수명으로 사용하지 않습니다.\n",
        "5. 변수명은 대소문자를 가립니다! `Apple`과 `apple`은 다른 변수가 됩니다.\n",
        "\n"
      ],
      "metadata": {
        "id": "BL8mj36nihNw"
      }
    },
    {
      "cell_type": "code",
      "source": [
        "오늘_잡은_물고기"
      ],
      "metadata": {
        "colab": {
          "base_uri": "https://localhost:8080/",
          "height": 36
        },
        "id": "0NRI8Ji1iLTS",
        "outputId": "a0a98641-6150-4629-eb05-5636d01824cc"
      },
      "execution_count": 6,
      "outputs": [
        {
          "output_type": "execute_result",
          "data": {
            "text/plain": [
              "'10'"
            ],
            "application/vnd.google.colaboratory.intrinsic+json": {
              "type": "string"
            }
          },
          "metadata": {},
          "execution_count": 6
        }
      ]
    },
    {
      "cell_type": "code",
      "source": [
        "오늘_잡은_물고기 + 1"
      ],
      "metadata": {
        "colab": {
          "base_uri": "https://localhost:8080/",
          "height": 176
        },
        "id": "fgjAWc5-iF8I",
        "outputId": "a3257222-be93-47c4-817a-f38c7a0acb03"
      },
      "execution_count": 8,
      "outputs": [
        {
          "output_type": "error",
          "ename": "TypeError",
          "evalue": "ignored",
          "traceback": [
            "\u001b[0;31m---------------------------------------------------------------------------\u001b[0m",
            "\u001b[0;31mTypeError\u001b[0m                                 Traceback (most recent call last)",
            "\u001b[0;32m<ipython-input-8-e11c349313e0>\u001b[0m in \u001b[0;36m<module>\u001b[0;34m\u001b[0m\n\u001b[0;32m----> 1\u001b[0;31m \u001b[0m오늘_잡은_물고기\u001b[0m \u001b[0;34m+\u001b[0m \u001b[0;36m1\u001b[0m\u001b[0;34m\u001b[0m\u001b[0;34m\u001b[0m\u001b[0m\n\u001b[0m",
            "\u001b[0;31mTypeError\u001b[0m: can only concatenate str (not \"int\") to str"
          ]
        }
      ]
    },
    {
      "cell_type": "code",
      "source": [
        "int(오늘_잡은_물고기) + 1"
      ],
      "metadata": {
        "colab": {
          "base_uri": "https://localhost:8080/"
        },
        "id": "IuwdeQ0siQpC",
        "outputId": "42c04eb6-603a-4c29-a4dc-f8746795d065"
      },
      "execution_count": 9,
      "outputs": [
        {
          "output_type": "execute_result",
          "data": {
            "text/plain": [
              "11"
            ]
          },
          "metadata": {},
          "execution_count": 9
        }
      ]
    },
    {
      "cell_type": "code",
      "source": [
        "print(type(오늘_잡은_물고기))"
      ],
      "metadata": {
        "colab": {
          "base_uri": "https://localhost:8080/"
        },
        "id": "0tifz7NziG1M",
        "outputId": "9ffe9d53-b6de-4fb6-db0f-8feb8f2fc8fb"
      },
      "execution_count": 10,
      "outputs": [
        {
          "output_type": "stream",
          "name": "stdout",
          "text": [
            "<class 'str'>\n"
          ]
        }
      ]
    },
    {
      "cell_type": "code",
      "source": [
        "print(type(이름)) #'캣'\n",
        "print(type(나이)) # 현재 12\n",
        "print(type(오늘_잡은_물고기)) #현재 10\n",
        "print(type(몸무게))\n",
        "print(type(육식)) #True\n",
        "print(type(기술)) #['고기잡이', '고기팔기']"
      ],
      "metadata": {
        "colab": {
          "base_uri": "https://localhost:8080/"
        },
        "id": "5wbVNAIzj2ZV",
        "outputId": "338d7845-b2f1-4bb3-f4bb-8879aac41a39"
      },
      "execution_count": 11,
      "outputs": [
        {
          "output_type": "stream",
          "name": "stdout",
          "text": [
            "<class 'str'>\n",
            "<class 'int'>\n",
            "<class 'str'>\n",
            "<class 'float'>\n",
            "<class 'bool'>\n",
            "<class 'list'>\n"
          ]
        }
      ]
    },
    {
      "cell_type": "markdown",
      "source": [
        "1. <class 'str'> - string, 문자열 \n",
        "2. <class 'int'> - integer, 정수형\n",
        "3. <class 'float'> - float, 실수형\n",
        "4. <class 'bool'> - bool, boolean, 참거짓형\n",
        "5. <class 'list'> - list, 배열"
      ],
      "metadata": {
        "id": "bVkSRYMJkdnh"
      }
    },
    {
      "cell_type": "code",
      "source": [
        "# 1. int\n",
        "\n",
        "print(type(나이))\n",
        "print(dir(나이))"
      ],
      "metadata": {
        "colab": {
          "base_uri": "https://localhost:8080/"
        },
        "id": "NyAwz_BJiDZI",
        "outputId": "19f2e5fc-84df-45cc-d3f5-db08f586a6b0"
      },
      "execution_count": 12,
      "outputs": [
        {
          "output_type": "stream",
          "name": "stdout",
          "text": [
            "<class 'int'>\n",
            "['__abs__', '__add__', '__and__', '__bool__', '__ceil__', '__class__', '__delattr__', '__dir__', '__divmod__', '__doc__', '__eq__', '__float__', '__floor__', '__floordiv__', '__format__', '__ge__', '__getattribute__', '__getnewargs__', '__gt__', '__hash__', '__index__', '__init__', '__init_subclass__', '__int__', '__invert__', '__le__', '__lshift__', '__lt__', '__mod__', '__mul__', '__ne__', '__neg__', '__new__', '__or__', '__pos__', '__pow__', '__radd__', '__rand__', '__rdivmod__', '__reduce__', '__reduce_ex__', '__repr__', '__rfloordiv__', '__rlshift__', '__rmod__', '__rmul__', '__ror__', '__round__', '__rpow__', '__rrshift__', '__rshift__', '__rsub__', '__rtruediv__', '__rxor__', '__setattr__', '__sizeof__', '__str__', '__sub__', '__subclasshook__', '__truediv__', '__trunc__', '__xor__', 'as_integer_ratio', 'bit_length', 'conjugate', 'denominator', 'from_bytes', 'imag', 'numerator', 'real', 'to_bytes']\n"
          ]
        }
      ]
    },
    {
      "cell_type": "code",
      "source": [
        "나이 = 10\n",
        "print(나이.bit_length())\n",
        "print(bin(나이))\n",
        "\n",
        "나이_90년_후 = 100\n",
        "print(나이_90년_후.bit_length())\n",
        "print(bin(나이_90년_후))"
      ],
      "metadata": {
        "colab": {
          "base_uri": "https://localhost:8080/"
        },
        "id": "GkncjCLqmPeG",
        "outputId": "86194feb-b60a-4121-f187-79499e6d76d5"
      },
      "execution_count": 13,
      "outputs": [
        {
          "output_type": "stream",
          "name": "stdout",
          "text": [
            "4\n",
            "0b1010\n",
            "7\n",
            "0b1100100\n"
          ]
        }
      ]
    },
    {
      "cell_type": "code",
      "source": [
        "# 1.2 float\n",
        "\n",
        "print(몸무게)\n",
        "print(type(몸무게))\n",
        "print(dir(몸무게))\n",
        "\n",
        "print(몸무게 + 10)"
      ],
      "metadata": {
        "colab": {
          "base_uri": "https://localhost:8080/"
        },
        "id": "JqU6MjcdlFyb",
        "outputId": "d83c8724-a35f-4f03-b1e7-1a871bb20efe"
      },
      "execution_count": 14,
      "outputs": [
        {
          "output_type": "stream",
          "name": "stdout",
          "text": [
            "1.2\n",
            "<class 'float'>\n",
            "['__abs__', '__add__', '__bool__', '__class__', '__delattr__', '__dir__', '__divmod__', '__doc__', '__eq__', '__float__', '__floordiv__', '__format__', '__ge__', '__getattribute__', '__getformat__', '__getnewargs__', '__gt__', '__hash__', '__init__', '__init_subclass__', '__int__', '__le__', '__lt__', '__mod__', '__mul__', '__ne__', '__neg__', '__new__', '__pos__', '__pow__', '__radd__', '__rdivmod__', '__reduce__', '__reduce_ex__', '__repr__', '__rfloordiv__', '__rmod__', '__rmul__', '__round__', '__rpow__', '__rsub__', '__rtruediv__', '__set_format__', '__setattr__', '__sizeof__', '__str__', '__sub__', '__subclasshook__', '__truediv__', '__trunc__', 'as_integer_ratio', 'conjugate', 'fromhex', 'hex', 'imag', 'is_integer', 'real']\n",
            "11.2\n"
          ]
        }
      ]
    },
    {
      "cell_type": "code",
      "source": [
        "# 2. str\n",
        "#시퀀스(순서가 있는)형 자료형\n",
        "\n",
        "# index, indexing\n",
        "print(설명)\n",
        "print(설명[0])\n",
        "print(설명[1])\n",
        "print(설명[2])\n",
        "print(기술)\n",
        "print(기술[0])\n",
        "print(기술[1])\n",
        "\n",
        "# print(설명)\n",
        "# print(설명)"
      ],
      "metadata": {
        "colab": {
          "base_uri": "https://localhost:8080/"
        },
        "id": "2HaAVj9wh-63",
        "outputId": "6126923e-4588-494a-b90e-7192453a8118"
      },
      "execution_count": 15,
      "outputs": [
        {
          "output_type": "stream",
          "name": "stdout",
          "text": [
            "위니브 월드 외각에 살고 있는 생선가게 주인 캣(cat)\n",
            "위\n",
            "니\n",
            "브\n",
            "['고기잡이', '고기팔기']\n",
            "고기잡이\n",
            "고기팔기\n"
          ]
        }
      ]
    },
    {
      "cell_type": "code",
      "source": [
        "# slicing\n",
        "# 변수이름[start:stop:step]\n",
        "print(설명)\n",
        "print(설명[0:3])\n",
        "print(설명[0:6])\n",
        "print(설명[0:9])"
      ],
      "metadata": {
        "colab": {
          "base_uri": "https://localhost:8080/"
        },
        "id": "3IioMRMph_uI",
        "outputId": "b7cf92f8-eebb-483e-f46f-41cba057976e"
      },
      "execution_count": 16,
      "outputs": [
        {
          "output_type": "stream",
          "name": "stdout",
          "text": [
            "위니브 월드 외각에 살고 있는 생선가게 주인 캣(cat)\n",
            "위니브\n",
            "위니브 월드\n",
            "위니브 월드 외각\n"
          ]
        }
      ]
    },
    {
      "cell_type": "code",
      "source": [
        "캣의_생년월일 = '2220.02.22'\n",
        "생년 = 캣의_생년월일[:4]\n",
        "월 = 캣의_생년월일[5:7]\n",
        "일 = 캣의_생년월일[8:]\n",
        "생년, 월, 일"
      ],
      "metadata": {
        "colab": {
          "base_uri": "https://localhost:8080/"
        },
        "id": "HzIFniAohvY1",
        "outputId": "af650866-3c3f-424e-b477-6d59a233a4bf"
      },
      "execution_count": 17,
      "outputs": [
        {
          "output_type": "execute_result",
          "data": {
            "text/plain": [
              "('2220', '02', '22')"
            ]
          },
          "metadata": {},
          "execution_count": 17
        }
      ]
    },
    {
      "cell_type": "code",
      "source": [
        "숫자 = '123456789101112'\n",
        "print(숫자[::-1])\n",
        "print(숫자[::2])\n",
        "print(숫자[1:7:2])\n",
        "print(숫자[7:1:-1])\n",
        "print(숫자[-1])"
      ],
      "metadata": {
        "colab": {
          "base_uri": "https://localhost:8080/"
        },
        "id": "mlkeVmSYhwRO",
        "outputId": "c7dc5235-4f5d-400b-8282-865596d4b6e2"
      },
      "execution_count": 18,
      "outputs": [
        {
          "output_type": "stream",
          "name": "stdout",
          "text": [
            "211101987654321\n",
            "13579012\n",
            "246\n",
            "876543\n",
            "2\n"
          ]
        }
      ]
    },
    {
      "cell_type": "code",
      "source": [
        "print(설명)\n",
        "print(type(설명))\n",
        "print(dir(설명))\n",
        "'''\n",
        "'capitalize', 'casefold', 'center', 'count', 'encode', 'endswith', 'expandtabs', 'find', 'format', 'format_map', 'index', 'isalnum', 'isalpha', 'isascii', 'isdecimal', 'isdigit', 'isidentifier', 'islower', 'isnumeric', 'isprintable', 'isspace', 'istitle', 'isupper', 'join', 'ljust', 'lower', 'lstrip', 'maketrans', 'partition', 'replace', 'rfind', 'rindex', 'rjust', 'rpartition', 'rsplit', 'rstrip', 'split', 'splitlines', 'startswith', 'strip', 'swapcase', 'title', 'translate', 'upper', 'zfill']\n",
        "'''"
      ],
      "metadata": {
        "colab": {
          "base_uri": "https://localhost:8080/",
          "height": 205
        },
        "id": "bVYEMtJLpGNB",
        "outputId": "ff6469ac-f744-4009-d56b-bbcb55c17946"
      },
      "execution_count": 19,
      "outputs": [
        {
          "output_type": "stream",
          "name": "stdout",
          "text": [
            "위니브 월드 외각에 살고 있는 생선가게 주인 캣(cat)\n",
            "<class 'str'>\n",
            "['__add__', '__class__', '__contains__', '__delattr__', '__dir__', '__doc__', '__eq__', '__format__', '__ge__', '__getattribute__', '__getitem__', '__getnewargs__', '__gt__', '__hash__', '__init__', '__init_subclass__', '__iter__', '__le__', '__len__', '__lt__', '__mod__', '__mul__', '__ne__', '__new__', '__reduce__', '__reduce_ex__', '__repr__', '__rmod__', '__rmul__', '__setattr__', '__sizeof__', '__str__', '__subclasshook__', 'capitalize', 'casefold', 'center', 'count', 'encode', 'endswith', 'expandtabs', 'find', 'format', 'format_map', 'index', 'isalnum', 'isalpha', 'isascii', 'isdecimal', 'isdigit', 'isidentifier', 'islower', 'isnumeric', 'isprintable', 'isspace', 'istitle', 'isupper', 'join', 'ljust', 'lower', 'lstrip', 'maketrans', 'partition', 'replace', 'rfind', 'rindex', 'rjust', 'rpartition', 'rsplit', 'rstrip', 'split', 'splitlines', 'startswith', 'strip', 'swapcase', 'title', 'translate', 'upper', 'zfill']\n"
          ]
        },
        {
          "output_type": "execute_result",
          "data": {
            "text/plain": [
              "\"\\n'capitalize', 'casefold', 'center', 'count', 'encode', 'endswith', 'expandtabs', 'find', 'format', 'format_map', 'index', 'isalnum', 'isalpha', 'isascii', 'isdecimal', 'isdigit', 'isidentifier', 'islower', 'isnumeric', 'isprintable', 'isspace', 'istitle', 'isupper', 'join', 'ljust', 'lower', 'lstrip', 'maketrans', 'partition', 'replace', 'rfind', 'rindex', 'rjust', 'rpartition', 'rsplit', 'rstrip', 'split', 'splitlines', 'startswith', 'strip', 'swapcase', 'title', 'translate', 'upper', 'zfill']\\n\""
            ],
            "application/vnd.google.colaboratory.intrinsic+json": {
              "type": "string"
            }
          },
          "metadata": {},
          "execution_count": 19
        }
      ]
    },
    {
      "cell_type": "code",
      "source": [
        "숫자.count('1')\n",
        "설명.upper()\n",
        "설명.lower()\n",
        "'             hello world'.lstrip()\n",
        "'             hello world'.strip()\n",
        "'             hello world'.replace(' ', '!')\n",
        "설명.index('각')\n",
        "설명[설명.index('각')]\n",
        "설명.find('각')\n",
        "설명[설명.find('각')]\n"
      ],
      "metadata": {
        "colab": {
          "base_uri": "https://localhost:8080/",
          "height": 36
        },
        "id": "uHLkvje9pzOm",
        "outputId": "01854810-8b2e-4c87-fbb0-774c6ee278c2"
      },
      "execution_count": 20,
      "outputs": [
        {
          "output_type": "execute_result",
          "data": {
            "text/plain": [
              "'각'"
            ],
            "application/vnd.google.colaboratory.intrinsic+json": {
              "type": "string"
            }
          },
          "metadata": {},
          "execution_count": 20
        }
      ]
    },
    {
      "cell_type": "code",
      "source": [
        "# bool\n",
        "\n",
        "육식 = True\n",
        "초식 = True\n",
        "print(type(육식))\n",
        "print(dir(육식))"
      ],
      "metadata": {
        "colab": {
          "base_uri": "https://localhost:8080/"
        },
        "id": "ajHlGM0OqyPE",
        "outputId": "14669bec-3809-48b5-f694-42417f85b45e"
      },
      "execution_count": 21,
      "outputs": [
        {
          "output_type": "stream",
          "name": "stdout",
          "text": [
            "<class 'bool'>\n",
            "['__abs__', '__add__', '__and__', '__bool__', '__ceil__', '__class__', '__delattr__', '__dir__', '__divmod__', '__doc__', '__eq__', '__float__', '__floor__', '__floordiv__', '__format__', '__ge__', '__getattribute__', '__getnewargs__', '__gt__', '__hash__', '__index__', '__init__', '__init_subclass__', '__int__', '__invert__', '__le__', '__lshift__', '__lt__', '__mod__', '__mul__', '__ne__', '__neg__', '__new__', '__or__', '__pos__', '__pow__', '__radd__', '__rand__', '__rdivmod__', '__reduce__', '__reduce_ex__', '__repr__', '__rfloordiv__', '__rlshift__', '__rmod__', '__rmul__', '__ror__', '__round__', '__rpow__', '__rrshift__', '__rshift__', '__rsub__', '__rtruediv__', '__rxor__', '__setattr__', '__sizeof__', '__str__', '__sub__', '__subclasshook__', '__truediv__', '__trunc__', '__xor__', 'as_integer_ratio', 'bit_length', 'conjugate', 'denominator', 'from_bytes', 'imag', 'numerator', 'real', 'to_bytes']\n"
          ]
        }
      ]
    },
    {
      "cell_type": "markdown",
      "source": [
        "## 1.llst\n",
        "\n",
        "1. 순서가 있습니다.\n",
        "2. 수정이 가능합니다.\n",
        "3. 순회가 가능합니다.\n",
        "4. 값의 중복을 허락합니다."
      ],
      "metadata": {
        "id": "JCzOOBar8-Gf"
      }
    },
    {
      "cell_type": "code",
      "source": [
        "# listm tuple, dict, set\n",
        "\n",
        "훈장 = []\n",
        "기술 = ['고기잡이', '고기팔기']\n",
        "print(type(기술))\n",
        "print(dir(기술))\n",
        "'''\n",
        "'append', 'clear', 'copy', 'count', 'extend', 'index', 'insert', 'pop', 'remove', 'reverse', 'sort'\n",
        "'''"
      ],
      "metadata": {
        "colab": {
          "base_uri": "https://localhost:8080/",
          "height": 112
        },
        "id": "kBfGSXqR8MSH",
        "outputId": "54702ea7-945b-4de7-96fd-323008d85889"
      },
      "execution_count": 22,
      "outputs": [
        {
          "output_type": "stream",
          "name": "stdout",
          "text": [
            "<class 'list'>\n",
            "['__add__', '__class__', '__contains__', '__delattr__', '__delitem__', '__dir__', '__doc__', '__eq__', '__format__', '__ge__', '__getattribute__', '__getitem__', '__gt__', '__hash__', '__iadd__', '__imul__', '__init__', '__init_subclass__', '__iter__', '__le__', '__len__', '__lt__', '__mul__', '__ne__', '__new__', '__reduce__', '__reduce_ex__', '__repr__', '__reversed__', '__rmul__', '__setattr__', '__setitem__', '__sizeof__', '__str__', '__subclasshook__', 'append', 'clear', 'copy', 'count', 'extend', 'index', 'insert', 'pop', 'remove', 'reverse', 'sort']\n"
          ]
        },
        {
          "output_type": "execute_result",
          "data": {
            "text/plain": [
              "\"\\n'append', 'clear', 'copy', 'count', 'extend', 'index', 'insert', 'pop', 'remove', 'reverse', 'sort'\\n\""
            ],
            "application/vnd.google.colaboratory.intrinsic+json": {
              "type": "string"
            }
          },
          "metadata": {},
          "execution_count": 22
        }
      ]
    },
    {
      "cell_type": "code",
      "source": [
        "잡은물고기 = ['광어', '고등어', '오징어', '오징어', '광어',\n",
        "              '광어', '고등어', '고등어', '백상아리', '금붕어']\n",
        "print(잡은물고기[0])\n",
        "print(잡은물고기[0:3])\n",
        "print(잡은물고기[0:7:2])\n",
        "잡은물고기[-1] = '백상아리'"
      ],
      "metadata": {
        "colab": {
          "base_uri": "https://localhost:8080/"
        },
        "id": "yqUWlE1E9gt2",
        "outputId": "d470ff0d-b5de-40c5-d69e-ca5b32753b30"
      },
      "execution_count": 23,
      "outputs": [
        {
          "output_type": "stream",
          "name": "stdout",
          "text": [
            "광어\n",
            "['광어', '고등어', '오징어']\n",
            "['광어', '오징어', '광어', '고등어']\n"
          ]
        }
      ]
    },
    {
      "cell_type": "code",
      "source": [
        "잡은물고기.count('백상아리')\n",
        "잡은물고기.append('백상아리')\n",
        "잡은물고기\n",
        "# 잡은물고기.clear()\n",
        "# 잡은물고기.copy() \n"
      ],
      "metadata": {
        "colab": {
          "base_uri": "https://localhost:8080/"
        },
        "id": "ZlyA1uMm-ZN4",
        "outputId": "3d04700c-3ef0-498c-e625-bf9c4088e05e"
      },
      "execution_count": 24,
      "outputs": [
        {
          "output_type": "execute_result",
          "data": {
            "text/plain": [
              "['광어', '고등어', '오징어', '오징어', '광어', '광어', '고등어', '고등어', '백상아리', '백상아리', '백상아리']"
            ]
          },
          "metadata": {},
          "execution_count": 24
        }
      ]
    },
    {
      "cell_type": "code",
      "source": [
        "잡은물고기.extend(['광어', '고등어', '고등어'])\n",
        "잡은물고기"
      ],
      "metadata": {
        "colab": {
          "base_uri": "https://localhost:8080/"
        },
        "id": "eVsNjMyG-aSq",
        "outputId": "71c7a5cd-e530-483d-faae-eca802ecbc5d"
      },
      "execution_count": 25,
      "outputs": [
        {
          "output_type": "execute_result",
          "data": {
            "text/plain": [
              "['광어',\n",
              " '고등어',\n",
              " '오징어',\n",
              " '오징어',\n",
              " '광어',\n",
              " '광어',\n",
              " '고등어',\n",
              " '고등어',\n",
              " '백상아리',\n",
              " '백상아리',\n",
              " '백상아리',\n",
              " '광어',\n",
              " '고등어',\n",
              " '고등어']"
            ]
          },
          "metadata": {},
          "execution_count": 25
        }
      ]
    },
    {
      "cell_type": "code",
      "source": [
        "잡은물고기.index('백상아리')\n",
        "잡은물고기.insert(3,'백상아리')\n",
        "잡은물고기\n",
        "잡은물고기.pop() #pop안에 index를 넣어 지울 수 있습니다.\n",
        "# del 잡은물고기[0] - 0번째 삭제\n",
        "잡은물고기"
      ],
      "metadata": {
        "colab": {
          "base_uri": "https://localhost:8080/"
        },
        "id": "eUprxZfL99d1",
        "outputId": "2eea89ea-0365-44e0-d3f3-8e2e7efceee3"
      },
      "execution_count": 26,
      "outputs": [
        {
          "output_type": "execute_result",
          "data": {
            "text/plain": [
              "['광어',\n",
              " '고등어',\n",
              " '오징어',\n",
              " '백상아리',\n",
              " '오징어',\n",
              " '광어',\n",
              " '광어',\n",
              " '고등어',\n",
              " '고등어',\n",
              " '백상아리',\n",
              " '백상아리',\n",
              " '백상아리',\n",
              " '광어',\n",
              " '고등어']"
            ]
          },
          "metadata": {},
          "execution_count": 26
        }
      ]
    },
    {
      "cell_type": "code",
      "source": [
        "# 잡은물고기.remove('백상아리')\n",
        "# 잡은물고기\n",
        "잡은물고기.insert(8,'백상아리')\n",
        "잡은물고기"
      ],
      "metadata": {
        "colab": {
          "base_uri": "https://localhost:8080/"
        },
        "id": "VH5uHPOI_xzR",
        "outputId": "ca8faf20-5f8c-4bd1-a399-43590dd63fab"
      },
      "execution_count": 27,
      "outputs": [
        {
          "output_type": "execute_result",
          "data": {
            "text/plain": [
              "['광어',\n",
              " '고등어',\n",
              " '오징어',\n",
              " '백상아리',\n",
              " '오징어',\n",
              " '광어',\n",
              " '광어',\n",
              " '고등어',\n",
              " '백상아리',\n",
              " '고등어',\n",
              " '백상아리',\n",
              " '백상아리',\n",
              " '백상아리',\n",
              " '광어',\n",
              " '고등어']"
            ]
          },
          "metadata": {},
          "execution_count": 27
        }
      ]
    },
    {
      "cell_type": "code",
      "source": [
        "잡은물고기.reverse()\n",
        "잡은물고기"
      ],
      "metadata": {
        "colab": {
          "base_uri": "https://localhost:8080/"
        },
        "id": "KfXUvpIzAHlk",
        "outputId": "616c4fd6-efa1-472f-f46b-35ecf324865f"
      },
      "execution_count": 28,
      "outputs": [
        {
          "output_type": "execute_result",
          "data": {
            "text/plain": [
              "['고등어',\n",
              " '광어',\n",
              " '백상아리',\n",
              " '백상아리',\n",
              " '백상아리',\n",
              " '고등어',\n",
              " '백상아리',\n",
              " '고등어',\n",
              " '광어',\n",
              " '광어',\n",
              " '오징어',\n",
              " '백상아리',\n",
              " '오징어',\n",
              " '고등어',\n",
              " '광어']"
            ]
          },
          "metadata": {},
          "execution_count": 28
        }
      ]
    },
    {
      "cell_type": "code",
      "source": [
        "잡은물고기.sort()\n",
        "잡은물고기"
      ],
      "metadata": {
        "colab": {
          "base_uri": "https://localhost:8080/"
        },
        "id": "zY_Y1StLAxDH",
        "outputId": "165ac0e2-1072-4989-93c7-8f1a94bfdbf3"
      },
      "execution_count": 29,
      "outputs": [
        {
          "output_type": "execute_result",
          "data": {
            "text/plain": [
              "['고등어',\n",
              " '고등어',\n",
              " '고등어',\n",
              " '고등어',\n",
              " '광어',\n",
              " '광어',\n",
              " '광어',\n",
              " '광어',\n",
              " '백상아리',\n",
              " '백상아리',\n",
              " '백상아리',\n",
              " '백상아리',\n",
              " '백상아리',\n",
              " '오징어',\n",
              " '오징어']"
            ]
          },
          "metadata": {},
          "execution_count": 29
        }
      ]
    },
    {
      "cell_type": "markdown",
      "source": [
        "## 2. tuple\n",
        "\n",
        "1. 순서가 있습니다.\n",
        "2. 값의 변화를 줄 수 없습니다."
      ],
      "metadata": {
        "id": "Vcvrnn4TBC3q"
      }
    },
    {
      "cell_type": "code",
      "source": [
        "잡은물고기_튜플 = ('고등어',\n",
        " '고등어',\n",
        " '고등어',\n",
        " '고등어',\n",
        " '광어',\n",
        " '광어',\n",
        " '광어',\n",
        " '광어',\n",
        " '백상아리',\n",
        " '백상아리',\n",
        " '백상아리',\n",
        " '오징어',\n",
        " '오징어')\n",
        "\n",
        "print(type(잡은물고기_튜플))\n",
        "print(dir(잡은물고기_튜플))\n",
        "\n",
        "잡은물고기_튜플[0]\n",
        "잡은물고기_튜플[::-1]\n"
      ],
      "metadata": {
        "colab": {
          "base_uri": "https://localhost:8080/"
        },
        "id": "Cpwv1B-WBKd6",
        "outputId": "a5ae7f73-9888-4605-91cf-32d0fa512227"
      },
      "execution_count": 30,
      "outputs": [
        {
          "output_type": "stream",
          "name": "stdout",
          "text": [
            "<class 'tuple'>\n",
            "['__add__', '__class__', '__contains__', '__delattr__', '__dir__', '__doc__', '__eq__', '__format__', '__ge__', '__getattribute__', '__getitem__', '__getnewargs__', '__gt__', '__hash__', '__init__', '__init_subclass__', '__iter__', '__le__', '__len__', '__lt__', '__mul__', '__ne__', '__new__', '__reduce__', '__reduce_ex__', '__repr__', '__rmul__', '__setattr__', '__sizeof__', '__str__', '__subclasshook__', 'count', 'index']\n"
          ]
        },
        {
          "output_type": "execute_result",
          "data": {
            "text/plain": [
              "('오징어',\n",
              " '오징어',\n",
              " '백상아리',\n",
              " '백상아리',\n",
              " '백상아리',\n",
              " '광어',\n",
              " '광어',\n",
              " '광어',\n",
              " '광어',\n",
              " '고등어',\n",
              " '고등어',\n",
              " '고등어',\n",
              " '고등어')"
            ]
          },
          "metadata": {},
          "execution_count": 30
        }
      ]
    },
    {
      "cell_type": "markdown",
      "source": [
        "## 3. 딕셔너리\n",
        "\n",
        "1. 순서가 없습니다.\n",
        "2. 키 값의 중복을 허락하지 않습니다.\n",
        "3. 값의 중복은 가능합니다.\n",
        "4. 순회는 가능합니다."
      ],
      "metadata": {
        "id": "EFQ-YTSABuio"
      }
    },
    {
      "cell_type": "code",
      "source": [
        "# Dictionary의 구조\n",
        "# dic = { 'key' : 'value' }\n",
        "\n",
        "잡은물고기_딕셔너리 = {'광어' : 4, '고등어' : 4, '오징어' : 2, '백상아리' : 3}"
      ],
      "metadata": {
        "id": "3kfxVpHpBokL"
      },
      "execution_count": 31,
      "outputs": []
    },
    {
      "cell_type": "code",
      "source": [
        "잡은물고기_딕셔너리['광어']\n",
        "del 잡은물고기_딕셔너리['고등어']\n",
        "잡은물고기_딕셔너리\n",
        "\n"
      ],
      "metadata": {
        "colab": {
          "base_uri": "https://localhost:8080/"
        },
        "id": "QDxsKQ3kEC8j",
        "outputId": "229d19ad-7c01-4c77-f196-a370de0108c4"
      },
      "execution_count": 32,
      "outputs": [
        {
          "output_type": "execute_result",
          "data": {
            "text/plain": [
              "{'광어': 4, '오징어': 2, '백상아리': 3}"
            ]
          },
          "metadata": {},
          "execution_count": 32
        }
      ]
    },
    {
      "cell_type": "code",
      "source": [
        "print(type(잡은물고기_딕셔너리))\n",
        "print(dir(잡은물고기_딕셔너리))"
      ],
      "metadata": {
        "colab": {
          "base_uri": "https://localhost:8080/"
        },
        "id": "5eOSl-JCEkOJ",
        "outputId": "a474ad83-d38a-488d-9faf-0eac7226c747"
      },
      "execution_count": 33,
      "outputs": [
        {
          "output_type": "stream",
          "name": "stdout",
          "text": [
            "<class 'dict'>\n",
            "['__class__', '__contains__', '__delattr__', '__delitem__', '__dir__', '__doc__', '__eq__', '__format__', '__ge__', '__getattribute__', '__getitem__', '__gt__', '__hash__', '__init__', '__init_subclass__', '__iter__', '__le__', '__len__', '__lt__', '__ne__', '__new__', '__reduce__', '__reduce_ex__', '__repr__', '__reversed__', '__setattr__', '__setitem__', '__sizeof__', '__str__', '__subclasshook__', 'clear', 'copy', 'fromkeys', 'get', 'items', 'keys', 'pop', 'popitem', 'setdefault', 'update', 'values']\n"
          ]
        }
      ]
    },
    {
      "cell_type": "code",
      "source": [
        "잡은물고기_딕셔너리.items()"
      ],
      "metadata": {
        "colab": {
          "base_uri": "https://localhost:8080/"
        },
        "id": "1fVi1dwMEvXR",
        "outputId": "44dec48f-4b8c-4942-b8a1-e7febd7acb11"
      },
      "execution_count": 34,
      "outputs": [
        {
          "output_type": "execute_result",
          "data": {
            "text/plain": [
              "dict_items([('광어', 4), ('오징어', 2), ('백상아리', 3)])"
            ]
          },
          "metadata": {},
          "execution_count": 34
        }
      ]
    },
    {
      "cell_type": "code",
      "source": [
        "잡은물고기_딕셔너리.values()"
      ],
      "metadata": {
        "colab": {
          "base_uri": "https://localhost:8080/"
        },
        "id": "OmkEutqwE01B",
        "outputId": "7246e41a-2a04-426f-a591-de87585a8500"
      },
      "execution_count": 35,
      "outputs": [
        {
          "output_type": "execute_result",
          "data": {
            "text/plain": [
              "dict_values([4, 2, 3])"
            ]
          },
          "metadata": {},
          "execution_count": 35
        }
      ]
    },
    {
      "cell_type": "code",
      "source": [
        "잡은물고기_딕셔너리.keys()"
      ],
      "metadata": {
        "colab": {
          "base_uri": "https://localhost:8080/"
        },
        "id": "ArqjAX29E41j",
        "outputId": "a7944298-62c9-43a6-cfbc-71dc30e1f9d0"
      },
      "execution_count": 36,
      "outputs": [
        {
          "output_type": "execute_result",
          "data": {
            "text/plain": [
              "dict_keys(['광어', '오징어', '백상아리'])"
            ]
          },
          "metadata": {},
          "execution_count": 36
        }
      ]
    },
    {
      "cell_type": "code",
      "source": [
        "잡은물고기_딕셔너리_복사 = 잡은물고기_딕셔너리.copy()\n",
        "잡은물고기_딕셔너리_복사['백상아리'] = 10\n",
        "잡은물고기_딕셔너리_복사"
      ],
      "metadata": {
        "colab": {
          "base_uri": "https://localhost:8080/"
        },
        "id": "v9ta8KxUE7hb",
        "outputId": "778d7b6a-6d49-43f6-d465-860600509d4e"
      },
      "execution_count": 37,
      "outputs": [
        {
          "output_type": "execute_result",
          "data": {
            "text/plain": [
              "{'광어': 4, '오징어': 2, '백상아리': 10}"
            ]
          },
          "metadata": {},
          "execution_count": 37
        }
      ]
    },
    {
      "cell_type": "code",
      "source": [
        "잡은물고기_딕셔너리"
      ],
      "metadata": {
        "colab": {
          "base_uri": "https://localhost:8080/"
        },
        "id": "MRXIKSh3FLyU",
        "outputId": "43bb41d2-3e8a-4c02-dde3-41068ad6edb0"
      },
      "execution_count": 38,
      "outputs": [
        {
          "output_type": "execute_result",
          "data": {
            "text/plain": [
              "{'광어': 4, '오징어': 2, '백상아리': 3}"
            ]
          },
          "metadata": {},
          "execution_count": 38
        }
      ]
    },
    {
      "cell_type": "code",
      "source": [
        "# 잡은물고기_딕셔너리_복사 -> {'광어': 4, '오징어': 2, '백상아리': 3}\n",
        "# 잡은물고기_딕셔너리 -> {'광어': 4, '오징어': 2, '백상아리': 5}"
      ],
      "metadata": {
        "id": "p2LFykWFFOvj"
      },
      "execution_count": 39,
      "outputs": []
    },
    {
      "cell_type": "markdown",
      "source": [
        "## 4. set\n",
        "\n",
        "1. 순서가 없습니다.\n",
        "2. 값의 중복을 허락하지 않습니다.\n",
        "3. 차집합, 교집합, 합집합 등의 연산이\n",
        "가능합니다."
      ],
      "metadata": {
        "id": "qCSPV3wTF239"
      }
    },
    {
      "cell_type": "code",
      "source": [
        "잡은물고기"
      ],
      "metadata": {
        "colab": {
          "base_uri": "https://localhost:8080/"
        },
        "id": "7b4UaMdVGC4t",
        "outputId": "123ee4e5-227a-4c6e-e20b-9451a1e2495a"
      },
      "execution_count": 40,
      "outputs": [
        {
          "output_type": "execute_result",
          "data": {
            "text/plain": [
              "['고등어',\n",
              " '고등어',\n",
              " '고등어',\n",
              " '고등어',\n",
              " '광어',\n",
              " '광어',\n",
              " '광어',\n",
              " '광어',\n",
              " '백상아리',\n",
              " '백상아리',\n",
              " '백상아리',\n",
              " '백상아리',\n",
              " '백상아리',\n",
              " '오징어',\n",
              " '오징어']"
            ]
          },
          "metadata": {},
          "execution_count": 40
        }
      ]
    },
    {
      "cell_type": "code",
      "source": [
        "test = set(잡은물고기)\n",
        "test"
      ],
      "metadata": {
        "colab": {
          "base_uri": "https://localhost:8080/"
        },
        "id": "yye9YIm_GFUR",
        "outputId": "fbe3b976-233e-4d08-8bd1-1e84807f0ab6"
      },
      "execution_count": 41,
      "outputs": [
        {
          "output_type": "execute_result",
          "data": {
            "text/plain": [
              "{'고등어', '광어', '백상아리', '오징어'}"
            ]
          },
          "metadata": {},
          "execution_count": 41
        }
      ]
    },
    {
      "cell_type": "code",
      "source": [
        "잡은물고기_집합 = {'고등어', '광어', '대왕오징어'}\n",
        "잡은물고기_집합"
      ],
      "metadata": {
        "colab": {
          "base_uri": "https://localhost:8080/"
        },
        "id": "Uqx-I2iNGJEJ",
        "outputId": "7737cb63-5fbf-40a3-c6dd-8e93cf5a676c"
      },
      "execution_count": 42,
      "outputs": [
        {
          "output_type": "execute_result",
          "data": {
            "text/plain": [
              "{'고등어', '광어', '대왕오징어'}"
            ]
          },
          "metadata": {},
          "execution_count": 42
        }
      ]
    },
    {
      "cell_type": "code",
      "source": [
        "print(type(잡은물고기_집합))\n",
        "print(dir(잡은물고기_집합))\n",
        "test.difference(잡은물고기_집합)\n",
        "test.intersection(잡은물고기_집합)\n",
        "test.union(잡은물고기_집합)"
      ],
      "metadata": {
        "colab": {
          "base_uri": "https://localhost:8080/"
        },
        "id": "JrF7ZTK8Ggl3",
        "outputId": "a376f37e-6cb5-4eb7-f82e-46f84002bdbf"
      },
      "execution_count": 43,
      "outputs": [
        {
          "output_type": "stream",
          "name": "stdout",
          "text": [
            "<class 'set'>\n",
            "['__and__', '__class__', '__contains__', '__delattr__', '__dir__', '__doc__', '__eq__', '__format__', '__ge__', '__getattribute__', '__gt__', '__hash__', '__iand__', '__init__', '__init_subclass__', '__ior__', '__isub__', '__iter__', '__ixor__', '__le__', '__len__', '__lt__', '__ne__', '__new__', '__or__', '__rand__', '__reduce__', '__reduce_ex__', '__repr__', '__ror__', '__rsub__', '__rxor__', '__setattr__', '__sizeof__', '__str__', '__sub__', '__subclasshook__', '__xor__', 'add', 'clear', 'copy', 'difference', 'difference_update', 'discard', 'intersection', 'intersection_update', 'isdisjoint', 'issubset', 'issuperset', 'pop', 'remove', 'symmetric_difference', 'symmetric_difference_update', 'union', 'update']\n"
          ]
        },
        {
          "output_type": "execute_result",
          "data": {
            "text/plain": [
              "{'고등어', '광어', '대왕오징어', '백상아리', '오징어'}"
            ]
          },
          "metadata": {},
          "execution_count": 43
        }
      ]
    },
    {
      "cell_type": "code",
      "source": [
        "set('aaabbc')"
      ],
      "metadata": {
        "colab": {
          "base_uri": "https://localhost:8080/"
        },
        "id": "PpmY0z0THZRq",
        "outputId": "36c22a66-6f52-460f-e693-1ec81ffdd712"
      },
      "execution_count": 44,
      "outputs": [
        {
          "output_type": "execute_result",
          "data": {
            "text/plain": [
              "{'a', 'b', 'c'}"
            ]
          },
          "metadata": {},
          "execution_count": 44
        }
      ]
    },
    {
      "cell_type": "markdown",
      "source": [
        "## 형변환\n",
        "\n",
        "* 기존 type에서 다른 type으로 변환"
      ],
      "metadata": {
        "id": "h4hiv2qdIYkd"
      }
    },
    {
      "cell_type": "code",
      "source": [
        "'10' + '10'"
      ],
      "metadata": {
        "colab": {
          "base_uri": "https://localhost:8080/",
          "height": 36
        },
        "id": "DTCsWGWzHe3U",
        "outputId": "67cb88a9-33c9-4daf-db4e-51ef0263a92a"
      },
      "execution_count": 45,
      "outputs": [
        {
          "output_type": "execute_result",
          "data": {
            "text/plain": [
              "'1010'"
            ],
            "application/vnd.google.colaboratory.intrinsic+json": {
              "type": "string"
            }
          },
          "metadata": {},
          "execution_count": 45
        }
      ]
    },
    {
      "cell_type": "code",
      "source": [
        "int('10') + int('10')"
      ],
      "metadata": {
        "colab": {
          "base_uri": "https://localhost:8080/"
        },
        "id": "dN7oEWJBIkMl",
        "outputId": "8129e9c6-cfec-41e3-ad66-ed9a6c8164c0"
      },
      "execution_count": 46,
      "outputs": [
        {
          "output_type": "execute_result",
          "data": {
            "text/plain": [
              "20"
            ]
          },
          "metadata": {},
          "execution_count": 46
        }
      ]
    },
    {
      "cell_type": "code",
      "source": [
        "오늘_잡은_물고기_수 = '371'\n",
        "\n",
        "오늘_잡은_물고기_수 = int(오늘_잡은_물고기_수) + 10\n",
        "오늘_잡은_물고기_수"
      ],
      "metadata": {
        "colab": {
          "base_uri": "https://localhost:8080/"
        },
        "id": "a7HfUsG_IsSM",
        "outputId": "cea14afa-7d8f-40a1-f308-803de641c19f"
      },
      "execution_count": 47,
      "outputs": [
        {
          "output_type": "execute_result",
          "data": {
            "text/plain": [
              "381"
            ]
          },
          "metadata": {},
          "execution_count": 47
        }
      ]
    },
    {
      "cell_type": "code",
      "source": [
        "int('kimsungjae')"
      ],
      "metadata": {
        "colab": {
          "base_uri": "https://localhost:8080/",
          "height": 176
        },
        "id": "HZwJl34LI60G",
        "outputId": "eede115d-fd7e-44da-ae85-afbc983d49d8"
      },
      "execution_count": 49,
      "outputs": [
        {
          "output_type": "error",
          "ename": "ValueError",
          "evalue": "ignored",
          "traceback": [
            "\u001b[0;31m---------------------------------------------------------------------------\u001b[0m",
            "\u001b[0;31mValueError\u001b[0m                                Traceback (most recent call last)",
            "\u001b[0;32m<ipython-input-49-fff940edc2e5>\u001b[0m in \u001b[0;36m<module>\u001b[0;34m\u001b[0m\n\u001b[0;32m----> 1\u001b[0;31m \u001b[0mint\u001b[0m\u001b[0;34m(\u001b[0m\u001b[0;34m'kimsungjae'\u001b[0m\u001b[0;34m)\u001b[0m\u001b[0;34m\u001b[0m\u001b[0;34m\u001b[0m\u001b[0m\n\u001b[0m",
            "\u001b[0;31mValueError\u001b[0m: invalid literal for int() with base 10: 'kimsungjae'"
          ]
        }
      ]
    },
    {
      "cell_type": "code",
      "source": [
        "s = '98710%'\n",
        "print(s[:-1] * 2)\n",
        "print(int(s[:-1]) * 2)"
      ],
      "metadata": {
        "colab": {
          "base_uri": "https://localhost:8080/"
        },
        "id": "2JNGhR41JKUC",
        "outputId": "5e10f489-add5-42c3-de9e-72fd048a1632"
      },
      "execution_count": 50,
      "outputs": [
        {
          "output_type": "stream",
          "name": "stdout",
          "text": [
            "9871098710\n",
            "197420\n"
          ]
        }
      ]
    },
    {
      "cell_type": "code",
      "source": [
        "print(\"bool('test') : \", bool('test!!'))\n",
        "print(\"bool(1) : \", bool(1))\n",
        "print(\"bool(0) : \", bool(0))\n",
        "print(\"bool(-1) : \", bool(-1))\n",
        "print(\"bool(' ')  :\", bool(' '))\n",
        "print(\"bool('') : \", bool(''))\n",
        "print(\"bool(None) : \", bool(None))"
      ],
      "metadata": {
        "colab": {
          "base_uri": "https://localhost:8080/"
        },
        "id": "FUWj2cAvJeKA",
        "outputId": "49cca3cb-3714-467f-b101-6e3add5e53e8"
      },
      "execution_count": 51,
      "outputs": [
        {
          "output_type": "stream",
          "name": "stdout",
          "text": [
            "bool('test') :  True\n",
            "bool(1) :  True\n",
            "bool(0) :  False\n",
            "bool(-1) :  True\n",
            "bool(' ')  : True\n",
            "bool('') :  False\n",
            "bool(None) :  False\n"
          ]
        }
      ]
    },
    {
      "cell_type": "code",
      "source": [
        "print(f'bool([1,2,3]) : {bool([1,2,3])}')\n",
        "print(f'bool([]) : {bool([])}')"
      ],
      "metadata": {
        "colab": {
          "base_uri": "https://localhost:8080/"
        },
        "id": "QoCczOqxPI2m",
        "outputId": "b1c55a32-5be6-4a58-d1cf-2485f61785c1"
      },
      "execution_count": 52,
      "outputs": [
        {
          "output_type": "stream",
          "name": "stdout",
          "text": [
            "bool([1,2,3]) : True\n",
            "bool([]) : False\n"
          ]
        }
      ]
    },
    {
      "cell_type": "code",
      "source": [
        "tuple([1,2,3])"
      ],
      "metadata": {
        "colab": {
          "base_uri": "https://localhost:8080/"
        },
        "id": "K_W_iTskPeKP",
        "outputId": "4363d786-6a57-40f3-a705-5469cd17831e"
      },
      "execution_count": 53,
      "outputs": [
        {
          "output_type": "execute_result",
          "data": {
            "text/plain": [
              "(1, 2, 3)"
            ]
          },
          "metadata": {},
          "execution_count": 53
        }
      ]
    },
    {
      "cell_type": "code",
      "source": [
        "t = (1,2,3)\n",
        "list(t)"
      ],
      "metadata": {
        "colab": {
          "base_uri": "https://localhost:8080/"
        },
        "id": "Ty4XspryPhMg",
        "outputId": "fe040691-22c5-4881-cac6-474c15c2a5cd"
      },
      "execution_count": 54,
      "outputs": [
        {
          "output_type": "execute_result",
          "data": {
            "text/plain": [
              "[1, 2, 3]"
            ]
          },
          "metadata": {},
          "execution_count": 54
        }
      ]
    },
    {
      "cell_type": "code",
      "source": [
        "dict([('key1', 'value1'), ('key2', 'value2'), ('key3', 'value3')])"
      ],
      "metadata": {
        "colab": {
          "base_uri": "https://localhost:8080/"
        },
        "id": "9ID2xHX9Pkof",
        "outputId": "06b97262-6a44-4b3a-a24f-d610a19c0914"
      },
      "execution_count": 55,
      "outputs": [
        {
          "output_type": "execute_result",
          "data": {
            "text/plain": [
              "{'key1': 'value1', 'key2': 'value2', 'key3': 'value3'}"
            ]
          },
          "metadata": {},
          "execution_count": 55
        }
      ]
    },
    {
      "cell_type": "code",
      "source": [
        "x = int(input('좋아하는 숫자를 입력하세요 : '))\n",
        "x + x\n",
        "# print(type(x))\n",
        "# print(dir(x))"
      ],
      "metadata": {
        "colab": {
          "base_uri": "https://localhost:8080/"
        },
        "id": "8vcvTJ46P_wR",
        "outputId": "47d31946-486f-4bbd-fd14-8c7cf51d742d"
      },
      "execution_count": 56,
      "outputs": [
        {
          "name": "stdout",
          "output_type": "stream",
          "text": [
            "좋아하는 숫자를 입력하세요 : 10\n"
          ]
        },
        {
          "output_type": "execute_result",
          "data": {
            "text/plain": [
              "20"
            ]
          },
          "metadata": {},
          "execution_count": 56
        }
      ]
    },
    {
      "cell_type": "code",
      "source": [
        "print('hello', end='!!')\n",
        "print('hello', end='!!')\n",
        "print('hello', end='!!')\n",
        "print('hello', end='!!')"
      ],
      "metadata": {
        "colab": {
          "base_uri": "https://localhost:8080/"
        },
        "id": "1dNrIKuDQRYl",
        "outputId": "55b934e2-f8cc-4d99-a59d-edceec47be13"
      },
      "execution_count": 57,
      "outputs": [
        {
          "output_type": "stream",
          "name": "stdout",
          "text": [
            "hello!!hello!!hello!!hello!!"
          ]
        }
      ]
    },
    {
      "cell_type": "code",
      "source": [
        "print('1. 제 이름은 ', 이름, '입니다. 제 나이는 ', 나이, '입니다.')\n",
        "print(f'2. 제 이름은 {이름}입니다. 제 나이는 {나이}입니다.') #중요\n",
        "print('1. 제 이름은 {}입니다. 제 나이는 {}입니다.'.format(이름, 나이))\n",
        "print('4. 제 이름은 %s입니다. 제 나이는 %d입니다'%(이름, 나이))"
      ],
      "metadata": {
        "colab": {
          "base_uri": "https://localhost:8080/"
        },
        "id": "lIMRkc-MQqMv",
        "outputId": "5592a44f-f442-4b87-c49b-f977cd0b1f6a"
      },
      "execution_count": 58,
      "outputs": [
        {
          "output_type": "stream",
          "name": "stdout",
          "text": [
            "1. 제 이름은  캣 입니다. 제 나이는  10 입니다.\n",
            "2. 제 이름은 캣입니다. 제 나이는 10입니다.\n",
            "1. 제 이름은 캣입니다. 제 나이는 10입니다.\n",
            "4. 제 이름은 캣입니다. 제 나이는 10입니다\n"
          ]
        }
      ]
    },
    {
      "cell_type": "markdown",
      "source": [
        "# 2장 생선을 잡아라!\n",
        "\n",
        "## 2.1 산술연산자"
      ],
      "metadata": {
        "id": "fRsAX9cdqcmV"
      }
    },
    {
      "cell_type": "code",
      "source": [
        "오늘_잡은_물고기 = 0\n",
        "오늘_판_물고기 = 0\n",
        "매출 = 0"
      ],
      "metadata": {
        "id": "nDgNqWTkQHni"
      },
      "execution_count": 59,
      "outputs": []
    },
    {
      "cell_type": "code",
      "source": [
        "오늘_잡은_물고기 = 오늘_잡은_물고기 + 10\n",
        "오늘_판_물고기 = 오늘_잡은_물고기\n",
        "재고 = 오늘_잡은_물고기 - 오늘_판_물고기\n",
        "매출 = 오늘_판_물고기 * 100 #모든 물고기는 100원 입니다."
      ],
      "metadata": {
        "id": "WDB75DMCqpbq"
      },
      "execution_count": 60,
      "outputs": []
    },
    {
      "cell_type": "code",
      "source": [
        "print(f'나는 오늘 {오늘_잡은_물고기} 마리를 잡았고 {오늘_판_물고기} 마리를 팔았다냥')\n",
        "print(f'오늘 재고는 {재고} 마리다냥!')\n",
        "# 매일 2배씩 성장하는 것을 목표로 삼았습니다.\n",
        "print(f'오늘 {매출} 원을 벌었으니 내일은 {매출*2} 원을 벌테다!')\n",
        "print('오늘', 매출, '원을 벌었으니 내일은', 매출*2, '원을 벌테다!')"
      ],
      "metadata": {
        "colab": {
          "base_uri": "https://localhost:8080/"
        },
        "id": "2yxn3U7PrAGX",
        "outputId": "bb94172d-cfe3-4a33-8798-6007a9fed73c"
      },
      "execution_count": 61,
      "outputs": [
        {
          "output_type": "stream",
          "name": "stdout",
          "text": [
            "나는 오늘 10 마리를 잡았고 10 마리를 팔았다냥\n",
            "오늘 재고는 0 마리다냥!\n",
            "오늘 1000 원을 벌었으니 내일은 2000 원을 벌테다!\n",
            "오늘 1000 원을 벌었으니 내일은 2000 원을 벌테다!\n"
          ]
        }
      ]
    },
    {
      "cell_type": "code",
      "source": [
        "# A등급 :1000원, B등급 : 500원, C등급 :100원\n",
        "# 오늘 잡은 물고기 : A등급 5마리, B등급 7마리, C등급 10마리\n",
        "\n",
        "등급별_가격 = {'A등급':1000, 'B등급':500, 'C등급': 100}\n",
        "\n",
        "A등급 = 5\n",
        "B등급 = 7\n",
        "C등급 = 10\n",
        "매출 = 0"
      ],
      "metadata": {
        "id": "Gj4YWHINr2Ad"
      },
      "execution_count": 62,
      "outputs": []
    },
    {
      "cell_type": "code",
      "source": [
        "# 손님의 주문\n",
        "# A등급 2마리, B등급 3마리 주세요.\n",
        "# 받은 돈 = 4000원\n",
        "\n",
        "A등급 = A등급 - 2\n",
        "B등급 = B등급 - 3\n",
        "합계 = (등급별_가격['A등급'] * 2) + (등급별_가격['B등급'] * 3)\n",
        "받은_돈 = 4000\n",
        "\n",
        "print(f'감사합니다. 여기 거스름 돈 {받은_돈 - 합계}원 입니다.')\n",
        "\n",
        "재고 = A등급 + B등급 + C등급\n",
        "매출 = 매출 + 합계\n",
        "print(f'현재매출 : {매출}, 재고 : {재고}')"
      ],
      "metadata": {
        "colab": {
          "base_uri": "https://localhost:8080/"
        },
        "id": "yJBrHCVWsNZU",
        "outputId": "4e486424-5c35-4f7b-c6ab-2497b9371c42"
      },
      "execution_count": 63,
      "outputs": [
        {
          "output_type": "stream",
          "name": "stdout",
          "text": [
            "감사합니다. 여기 거스름 돈 500원 입니다.\n",
            "현재매출 : 3500, 재고 : 17\n"
          ]
        }
      ]
    },
    {
      "cell_type": "code",
      "source": [
        "세금 = 매출/4\n",
        "순익 = 매출 - 세금\n",
        "\n",
        "매출, 세금, 순익"
      ],
      "metadata": {
        "colab": {
          "base_uri": "https://localhost:8080/"
        },
        "id": "HJmm2BCQvI1S",
        "outputId": "9f08e607-de10-48db-fff0-b657fc3e3e82"
      },
      "execution_count": 64,
      "outputs": [
        {
          "output_type": "execute_result",
          "data": {
            "text/plain": [
              "(3500, 875.0, 2625.0)"
            ]
          },
          "metadata": {},
          "execution_count": 64
        }
      ]
    },
    {
      "cell_type": "code",
      "source": [
        "# 산술연산자 정리\n",
        "10 + 10\n",
        "10 - 10\n",
        "10 / 3 #float\n",
        "10 // 3 #int(몫만 출력)\n",
        "10 * 3\n",
        "3 ** 3\n",
        "10 % 3"
      ],
      "metadata": {
        "colab": {
          "base_uri": "https://localhost:8080/"
        },
        "id": "MtcX7ZRyvQkz",
        "outputId": "76fc2d1d-8180-4e5b-8a5a-f50c8ae645a5"
      },
      "execution_count": 65,
      "outputs": [
        {
          "output_type": "execute_result",
          "data": {
            "text/plain": [
              "1"
            ]
          },
          "metadata": {},
          "execution_count": 65
        }
      ]
    },
    {
      "cell_type": "code",
      "source": [
        "오늘_잡은_물고기 += 10 #할당연산\n",
        "오늘_잡은_물고기"
      ],
      "metadata": {
        "colab": {
          "base_uri": "https://localhost:8080/"
        },
        "id": "J2tGx8Qevxa2",
        "outputId": "e46e6ced-df2a-44fd-9cea-a3ccadd837c4"
      },
      "execution_count": 66,
      "outputs": [
        {
          "output_type": "execute_result",
          "data": {
            "text/plain": [
              "20"
            ]
          },
          "metadata": {},
          "execution_count": 66
        }
      ]
    },
    {
      "cell_type": "code",
      "source": [
        "# 비교연산자\n",
        "\n",
        "오늘_잡은_물고기\n",
        "오늘_판_물고기     \n",
        "\n",
        "#비교연산 True or False 출력\n",
        "\n",
        "print(오늘_잡은_물고기 > 오늘_판_물고기)\n",
        "print(오늘_잡은_물고기 < 오늘_판_물고기)\n",
        "print(오늘_잡은_물고기 >= 오늘_판_물고기)\n",
        "print(오늘_잡은_물고기 <= 오늘_판_물고기)\n",
        "print(오늘_잡은_물고기 == 오늘_판_물고기) #값, 타입\n",
        "print(오늘_잡은_물고기 != 오늘_판_물고기)\n",
        "# print(오늘_잡은_물고기 === 오늘_판_물고기) #javascript, 값, 타입"
      ],
      "metadata": {
        "colab": {
          "base_uri": "https://localhost:8080/"
        },
        "id": "F4vzHfbwKpP4",
        "outputId": "6e25a012-5d4f-49e4-c42e-188b71052361"
      },
      "execution_count": 67,
      "outputs": [
        {
          "output_type": "stream",
          "name": "stdout",
          "text": [
            "True\n",
            "False\n",
            "True\n",
            "False\n",
            "False\n",
            "True\n"
          ]
        }
      ]
    },
    {
      "cell_type": "code",
      "source": [
        "if 오늘_잡은_물고기 > 오늘_판_물고기 :\n",
        "    print('아직 물고기를 다 팔지 않았습니다.')"
      ],
      "metadata": {
        "colab": {
          "base_uri": "https://localhost:8080/"
        },
        "id": "wAIsGpQRLrbr",
        "outputId": "0817dcb1-8bf1-4f4c-bc36-02c304d549a0"
      },
      "execution_count": 68,
      "outputs": [
        {
          "output_type": "stream",
          "name": "stdout",
          "text": [
            "아직 물고기를 다 팔지 않았습니다.\n"
          ]
        }
      ]
    },
    {
      "cell_type": "code",
      "source": [
        "# 논리연산자\n",
        "\n",
        "# True + False\n",
        "a = True\n",
        "b = False \n",
        "\n",
        "a and a # 논리 곱(*)\n",
        "a and b\n",
        "\n",
        "a or a # 논리 합(+)\\\n",
        "a or b\n",
        "\n",
        "not a "
      ],
      "metadata": {
        "colab": {
          "base_uri": "https://localhost:8080/"
        },
        "id": "Br8n0eqrL4w-",
        "outputId": "ae9599e9-acbd-45f9-c022-4c32488cb1ad"
      },
      "execution_count": 69,
      "outputs": [
        {
          "output_type": "execute_result",
          "data": {
            "text/plain": [
              "False"
            ]
          },
          "metadata": {},
          "execution_count": 69
        }
      ]
    },
    {
      "cell_type": "code",
      "source": [
        "오늘_잡은_물고기 = 10\n",
        "오늘_판_물고기 = 10\n",
        "전날_매출 = 10000\n",
        "오늘_매출 = 20000\n",
        "\n",
        "if (오늘_잡은_물고기 == 오늘_판_물고기)  and (전날_매출*2 <= 오늘_매출):\n",
        "    print('오늘 물고기 판매 끝!')\n",
        "    print('매출 목표 달성!')\n",
        "else :\n",
        "    print('오늘의 목표를 달성하지 못했습니다.')"
      ],
      "metadata": {
        "colab": {
          "base_uri": "https://localhost:8080/"
        },
        "id": "e6P0cmGyMq2y",
        "outputId": "a1fdb9c4-78e5-45aa-ca7a-fa82d9d104a6"
      },
      "execution_count": 70,
      "outputs": [
        {
          "output_type": "stream",
          "name": "stdout",
          "text": [
            "오늘 물고기 판매 끝!\n",
            "매출 목표 달성!\n"
          ]
        }
      ]
    },
    {
      "cell_type": "code",
      "source": [
        "x = 10\n",
        "\n",
        "if x % 3 == 0 and x % 5 == 0:\n",
        "    print('3과 5의 공배수입니다.')\n",
        "else:\n",
        "    print('3과 5의 공배수가 아닙니다.')"
      ],
      "metadata": {
        "colab": {
          "base_uri": "https://localhost:8080/"
        },
        "id": "iqP--etcNdiy",
        "outputId": "4f4e34f8-6d77-4f3e-fe0d-983aa66cee63"
      },
      "execution_count": 71,
      "outputs": [
        {
          "output_type": "stream",
          "name": "stdout",
          "text": [
            "3과 5의 공배수가 아닙니다.\n"
          ]
        }
      ]
    },
    {
      "cell_type": "code",
      "source": [
        "# 비트연산자\n",
        "\n",
        "a = 10\n",
        "b = 2\n",
        "\n",
        "print(a & b)"
      ],
      "metadata": {
        "colab": {
          "base_uri": "https://localhost:8080/"
        },
        "id": "r9ChgiX3P5k-",
        "outputId": "f6584359-07e7-4172-ce5a-297d28a8924d"
      },
      "execution_count": 72,
      "outputs": [
        {
          "output_type": "stream",
          "name": "stdout",
          "text": [
            "2\n"
          ]
        }
      ]
    },
    {
      "cell_type": "code",
      "source": [
        "bin(10), bin(2)"
      ],
      "metadata": {
        "colab": {
          "base_uri": "https://localhost:8080/"
        },
        "id": "d4Q_Ya5eP_vK",
        "outputId": "b40e121b-1d36-41ab-92e3-f19e5561b875"
      },
      "execution_count": 73,
      "outputs": [
        {
          "output_type": "execute_result",
          "data": {
            "text/plain": [
              "('0b1010', '0b10')"
            ]
          },
          "metadata": {},
          "execution_count": 73
        }
      ]
    },
    {
      "cell_type": "code",
      "source": [
        "# 1010\n",
        "# 0010\n",
        "# ----\n",
        "# 0010  -> 2"
      ],
      "metadata": {
        "id": "RCNguNuZQDTd"
      },
      "execution_count": 74,
      "outputs": []
    },
    {
      "cell_type": "code",
      "source": [
        "print(b << 2)\n",
        "\n",
        "# 10 -> 2\n",
        "# 1000 -> 8"
      ],
      "metadata": {
        "colab": {
          "base_uri": "https://localhost:8080/"
        },
        "id": "Zk7l83KzQd4y",
        "outputId": "e730ea3b-82ef-4dff-b576-3b07eda5fe0f"
      },
      "execution_count": 75,
      "outputs": [
        {
          "output_type": "stream",
          "name": "stdout",
          "text": [
            "8\n"
          ]
        }
      ]
    },
    {
      "cell_type": "code",
      "source": [
        "print(b >> 1)\n",
        "\n",
        "# 10 -> 2\n",
        "# 1 -> 1"
      ],
      "metadata": {
        "colab": {
          "base_uri": "https://localhost:8080/"
        },
        "id": "tZl48BsqQhBi",
        "outputId": "a8cf315b-6fb9-49f8-ee17-084887796a52"
      },
      "execution_count": 76,
      "outputs": [
        {
          "output_type": "stream",
          "name": "stdout",
          "text": [
            "1\n"
          ]
        }
      ]
    },
    {
      "cell_type": "code",
      "source": [
        "a^b\n",
        "# 1010 (10)\n",
        "# 0010 (2)\n",
        "# ----\n",
        "# 1000 ---> 8"
      ],
      "metadata": {
        "colab": {
          "base_uri": "https://localhost:8080/"
        },
        "id": "m_ZReiO0QuGm",
        "outputId": "46b992bc-f1ef-465f-dd5a-b9ba067cef20"
      },
      "execution_count": 77,
      "outputs": [
        {
          "output_type": "execute_result",
          "data": {
            "text/plain": [
              "8"
            ]
          },
          "metadata": {},
          "execution_count": 77
        }
      ]
    },
    {
      "cell_type": "code",
      "source": [
        "~a"
      ],
      "metadata": {
        "colab": {
          "base_uri": "https://localhost:8080/"
        },
        "id": "BkPyy5ZkSIB_",
        "outputId": "b0c9795e-c1ae-4c72-905b-1888f8219023"
      },
      "execution_count": 78,
      "outputs": [
        {
          "output_type": "execute_result",
          "data": {
            "text/plain": [
              "-11"
            ]
          },
          "metadata": {},
          "execution_count": 78
        }
      ]
    },
    {
      "cell_type": "code",
      "source": [
        "bin(a), bin(~a) # 2의 보수 표현 방법"
      ],
      "metadata": {
        "colab": {
          "base_uri": "https://localhost:8080/"
        },
        "id": "dmSk3SrMST4H",
        "outputId": "adeb6aef-d468-4d01-8fa4-ac06a60e6d79"
      },
      "execution_count": 79,
      "outputs": [
        {
          "output_type": "execute_result",
          "data": {
            "text/plain": [
              "('0b1010', '-0b1011')"
            ]
          },
          "metadata": {},
          "execution_count": 79
        }
      ]
    },
    {
      "cell_type": "code",
      "source": [
        "# 비트연산, 할당연산, 식별연산, in 구문\n",
        "\n",
        "10 + 10 "
      ],
      "metadata": {
        "colab": {
          "base_uri": "https://localhost:8080/"
        },
        "id": "R3c3DNANSaLQ",
        "outputId": "11f7b01f-dd86-4b53-cf32-efdd8c1f5d1e"
      },
      "execution_count": 80,
      "outputs": [
        {
          "output_type": "execute_result",
          "data": {
            "text/plain": [
              "20"
            ]
          },
          "metadata": {},
          "execution_count": 80
        }
      ]
    },
    {
      "cell_type": "code",
      "source": [
        "bin(10 + 10)"
      ],
      "metadata": {
        "colab": {
          "base_uri": "https://localhost:8080/",
          "height": 36
        },
        "id": "_fa9nFbxUrEk",
        "outputId": "d19d63e2-90b2-4943-c902-f2d386c6d4a4"
      },
      "execution_count": 81,
      "outputs": [
        {
          "output_type": "execute_result",
          "data": {
            "text/plain": [
              "'0b10100'"
            ],
            "application/vnd.google.colaboratory.intrinsic+json": {
              "type": "string"
            }
          },
          "metadata": {},
          "execution_count": 81
        }
      ]
    },
    {
      "cell_type": "code",
      "source": [
        "a = 40\n",
        "b = 14\n",
        "a & b #bit AND\n",
        "\n",
        "# 101000\n",
        "# 001110\n",
        "# 001000\n",
        "\n",
        "# bin(a), bin(b)"
      ],
      "metadata": {
        "colab": {
          "base_uri": "https://localhost:8080/"
        },
        "id": "Uur-a8jrUvY0",
        "outputId": "c500678c-85dd-47ed-c9ea-a5b9a0f263e5"
      },
      "execution_count": 82,
      "outputs": [
        {
          "output_type": "execute_result",
          "data": {
            "text/plain": [
              "8"
            ]
          },
          "metadata": {},
          "execution_count": 82
        }
      ]
    },
    {
      "cell_type": "code",
      "source": [
        "a = 40\n",
        "b = 14\n",
        "a | b #bit OR\n",
        "\n",
        "# 101000\n",
        "# 001110\n",
        "# 101110\n",
        "\n",
        "# bin(a), bin(b)"
      ],
      "metadata": {
        "colab": {
          "base_uri": "https://localhost:8080/"
        },
        "id": "XxPoCZk6U8d7",
        "outputId": "01f61456-2d99-488e-c093-1ea4fd12698a"
      },
      "execution_count": 83,
      "outputs": [
        {
          "output_type": "execute_result",
          "data": {
            "text/plain": [
              "46"
            ]
          },
          "metadata": {},
          "execution_count": 83
        }
      ]
    },
    {
      "cell_type": "code",
      "source": [
        "a = 40\n",
        "b = 14\n",
        "a ^ b #bit XOR : 다를 때만 1, 같은 때에는 0\n",
        "\n",
        "# 101000\n",
        "# 001110\n",
        "# 100110\n",
        "\n",
        "# bin(a), bin(b)"
      ],
      "metadata": {
        "colab": {
          "base_uri": "https://localhost:8080/"
        },
        "id": "ZUbzUEEwVD3i",
        "outputId": "02700de3-b222-4619-d897-926e159d885b"
      },
      "execution_count": 84,
      "outputs": [
        {
          "output_type": "execute_result",
          "data": {
            "text/plain": [
              "38"
            ]
          },
          "metadata": {},
          "execution_count": 84
        }
      ]
    },
    {
      "cell_type": "code",
      "source": [
        "a = 40\n",
        "~a #bit NOT(2의 보수)\n",
        "\n",
        "# 101000\n",
        "# 010111 #비트단위를 뒤짚었음!\n",
        "# 011000 #비트단위를 뒤짚고 +1한 값\n",
        "\n",
        "# 101000\n",
        "# 010111\n",
        "# 000000\n",
        "\n",
        "# 1. 0을 2개로 표현하지 않아도 됨!\n",
        "# 2. 더했을 경우 올림수 하나만 버리면 됨!"
      ],
      "metadata": {
        "colab": {
          "base_uri": "https://localhost:8080/"
        },
        "id": "r0VQjccPUg2w",
        "outputId": "c178461a-a2cb-4a26-989a-2595ca627a68"
      },
      "execution_count": 85,
      "outputs": [
        {
          "output_type": "execute_result",
          "data": {
            "text/plain": [
              "-41"
            ]
          },
          "metadata": {},
          "execution_count": 85
        }
      ]
    },
    {
      "cell_type": "code",
      "source": [
        "a = 40\n",
        "print(bin(a))\n",
        "print(int('10100000', 2))\n",
        "print(a << 2)\n",
        "\n",
        "print(bin(a))\n",
        "print(int('1010', 2))\n",
        "print(a >> 2)"
      ],
      "metadata": {
        "colab": {
          "base_uri": "https://localhost:8080/"
        },
        "id": "WOtq3uQZaQWz",
        "outputId": "287d6a9a-595a-44f3-8613-74617051c3c6"
      },
      "execution_count": 86,
      "outputs": [
        {
          "output_type": "stream",
          "name": "stdout",
          "text": [
            "0b101000\n",
            "160\n",
            "160\n",
            "0b101000\n",
            "10\n",
            "10\n"
          ]
        }
      ]
    },
    {
      "cell_type": "code",
      "source": [
        "# '연산자' + '='\n",
        "a = 40\n",
        "\n",
        "# a += 10 # a = a + 10\n",
        "# a -= 5  # a = a - 5\n",
        "# a *= 5\n",
        "# a **= 5\n",
        "# a /= 5\n",
        "# a //= 5\n",
        "# a %= 5\n",
        "# a |= 5\n",
        "a >>= 2\n",
        "a\n",
        "# a <<= 5\n",
        "# a ~= 5"
      ],
      "metadata": {
        "colab": {
          "base_uri": "https://localhost:8080/"
        },
        "id": "-II8qT7da43L",
        "outputId": "ee81d97e-9ad8-4516-c56b-4a7e3246f6af"
      },
      "execution_count": 87,
      "outputs": [
        {
          "output_type": "execute_result",
          "data": {
            "text/plain": [
              "10"
            ]
          },
          "metadata": {},
          "execution_count": 87
        }
      ]
    },
    {
      "cell_type": "markdown",
      "source": [
        "### 연산자 우선순위\n",
        "1. 리스트, 튜플, 딕셔너리, 셋\n",
        "2. 인덱싱, 승라이싱\n",
        "3. **\n",
        "4. *, @, /, //, %\n",
        "5. +, -\n",
        "6.비트단위 연산\n",
        "7. in, not, in, is, is not\n",
        "8. 논리연산\n",
        "9. if, else\n",
        "10. lambda"
      ],
      "metadata": {
        "id": "PzuZ3ixPxhIE"
      }
    },
    {
      "cell_type": "markdown",
      "source": [
        "### 식별연산"
      ],
      "metadata": {
        "id": "H63vQlz2x0pE"
      }
    },
    {
      "cell_type": "code",
      "source": [
        "a = [1, 2, 3, 4]\n",
        "b = [1, 2, 3, 4]\n",
        "\n",
        "a == b # True\n",
        "a is b # False"
      ],
      "metadata": {
        "colab": {
          "base_uri": "https://localhost:8080/"
        },
        "id": "xPWjDF0DbsXK",
        "outputId": "5516073e-d9a0-4264-c27d-a20d3a1d9882"
      },
      "execution_count": 91,
      "outputs": [
        {
          "output_type": "execute_result",
          "data": {
            "text/plain": [
              "False"
            ]
          },
          "metadata": {},
          "execution_count": 91
        }
      ]
    },
    {
      "cell_type": "markdown",
      "source": [
        "## 문제 : 캣의 해골섬 출항"
      ],
      "metadata": {
        "id": "5d3nSKAFz6dx"
      }
    },
    {
      "cell_type": "code",
      "source": [
        "## 1번 문제\n",
        "\n",
        "캣의_통장 = 1000000\n",
        "물고기의_가격 = 30\n",
        "잡은_물고기의_수 = 110 + 120 + 130 + 140 + 150 + 160 + 170 + 180 + 190 + 200\n",
        "물고기를_팔고_난_후_캣의_통장 = 1000000 + 물고기의_가격 * 잡은_물고기의_수"
      ],
      "metadata": {
        "id": "yIykBHX9xbJo"
      },
      "execution_count": 113,
      "outputs": []
    },
    {
      "cell_type": "code",
      "source": [
        "잡은_물고기의_수, 물고기를_팔고_난_후_캣의_통장"
      ],
      "metadata": {
        "colab": {
          "base_uri": "https://localhost:8080/"
        },
        "id": "VrGaTwJE0ebt",
        "outputId": "4f8aaf18-56c3-4a86-9141-abb4c91323ca"
      },
      "execution_count": 100,
      "outputs": [
        {
          "output_type": "execute_result",
          "data": {
            "text/plain": [
              "(1550, 1046500)"
            ]
          },
          "metadata": {},
          "execution_count": 100
        }
      ]
    },
    {
      "cell_type": "code",
      "source": [
        "잡은_물고기의_수 = (110 + 200) * 10 // 2\n",
        "잡은_물고기의_수"
      ],
      "metadata": {
        "colab": {
          "base_uri": "https://localhost:8080/"
        },
        "id": "2AGpfwMw06sf",
        "outputId": "15fab3de-159f-4535-e9b4-3f3b0d795a9f"
      },
      "execution_count": 101,
      "outputs": [
        {
          "output_type": "execute_result",
          "data": {
            "text/plain": [
              "1550"
            ]
          },
          "metadata": {},
          "execution_count": 101
        }
      ]
    },
    {
      "cell_type": "code",
      "source": [
        "list(range(110, 201, 10))"
      ],
      "metadata": {
        "colab": {
          "base_uri": "https://localhost:8080/"
        },
        "id": "yrvoEthj1K5l",
        "outputId": "2943344c-d27d-4113-e612-06cf78ca89f0"
      },
      "execution_count": 102,
      "outputs": [
        {
          "output_type": "execute_result",
          "data": {
            "text/plain": [
              "[110, 120, 130, 140, 150, 160, 170, 180, 190, 200]"
            ]
          },
          "metadata": {},
          "execution_count": 102
        }
      ]
    },
    {
      "cell_type": "code",
      "source": [
        "sum(list(range(110, 201, 10)))"
      ],
      "metadata": {
        "colab": {
          "base_uri": "https://localhost:8080/"
        },
        "id": "ML8D9qIv1Roi",
        "outputId": "a0cb968c-cd89-4373-bae4-d09ea3ae6d87"
      },
      "execution_count": 103,
      "outputs": [
        {
          "output_type": "execute_result",
          "data": {
            "text/plain": [
              "1550"
            ]
          },
          "metadata": {},
          "execution_count": 103
        }
      ]
    },
    {
      "cell_type": "code",
      "source": [
        "잡은_물고기의_수 = sum([110, 120, 130, 140, 150, 160, 170, 180, 190, 200])\n",
        "잡은_물고기의_수"
      ],
      "metadata": {
        "colab": {
          "base_uri": "https://localhost:8080/"
        },
        "id": "J1p3ysFq1Zcu",
        "outputId": "63bfcc26-b0c3-4b1a-f104-747f970e9204"
      },
      "execution_count": 105,
      "outputs": [
        {
          "output_type": "execute_result",
          "data": {
            "text/plain": [
              "1550"
            ]
          },
          "metadata": {},
          "execution_count": 105
        }
      ]
    },
    {
      "cell_type": "code",
      "source": [
        "format(물고기를_팔고_난_후_캣의_통장, ',')"
      ],
      "metadata": {
        "colab": {
          "base_uri": "https://localhost:8080/",
          "height": 36
        },
        "id": "QS4R7yZN1p-s",
        "outputId": "3173f420-864e-4d52-a24d-967bfe9df4fe"
      },
      "execution_count": 108,
      "outputs": [
        {
          "output_type": "execute_result",
          "data": {
            "text/plain": [
              "'1,046,500'"
            ],
            "application/vnd.google.colaboratory.intrinsic+json": {
              "type": "string"
            }
          },
          "metadata": {},
          "execution_count": 108
        }
      ]
    },
    {
      "cell_type": "code",
      "source": [
        "## 2번 문제\n",
        "\n",
        "반지름 = 500\n",
        "고기가_잘_잡히는_반경 = (반지름**2) * 3.14\n",
        "고기가_잘_잡히는_반경"
      ],
      "metadata": {
        "colab": {
          "base_uri": "https://localhost:8080/"
        },
        "id": "c3PshoCt2Kjg",
        "outputId": "dfcc3cb2-8724-4775-cba0-a855c748c0a5"
      },
      "execution_count": 110,
      "outputs": [
        {
          "output_type": "execute_result",
          "data": {
            "text/plain": [
              "785000.0"
            ]
          },
          "metadata": {},
          "execution_count": 110
        }
      ]
    },
    {
      "cell_type": "code",
      "source": [
        "## 3번 문제\n",
        "# 해골섬의 넓이 = 314\n",
        "# 반지름 =  500\n",
        "# 원의 넓이당 110마리\n",
        "\n",
        "물고기를_팔고_난_후_캣의_통장 += (고기가_잘_잡히는_반경 - 314) * 110 * 30"
      ],
      "metadata": {
        "id": "AIC0v3063Rss"
      },
      "execution_count": 114,
      "outputs": []
    },
    {
      "cell_type": "code",
      "source": [
        "format(int(물고기를_팔고_난_후_캣의_통장), ',')"
      ],
      "metadata": {
        "colab": {
          "base_uri": "https://localhost:8080/",
          "height": 36
        },
        "id": "Q4csFRvhCSMl",
        "outputId": "b8a9552f-a609-4442-a380-bcc5cef2a64c"
      },
      "execution_count": 117,
      "outputs": [
        {
          "output_type": "execute_result",
          "data": {
            "text/plain": [
              "'2,590,510,300'"
            ],
            "application/vnd.google.colaboratory.intrinsic+json": {
              "type": "string"
            }
          },
          "metadata": {},
          "execution_count": 117
        }
      ]
    },
    {
      "cell_type": "code",
      "source": [
        "## 4번 문제\n",
        "\n",
        "# A등급은 350마리, B등급은 700마리\n",
        "문제4_물고기_등급 = {'A등급':100, 'B등급':50}\n",
        "문제4_잡은_물고기의_수 = {'A등급':350, 'B등급':700}\n",
        "\n",
        "문제4_총액_A등급 = 문제4_물고기_등급['A등급'] * 문제4_잡은_물고기의_수['A등급']\n",
        "문제4_총액_B등급 = 문제4_물고기_등급['B등급'] * 문제4_잡은_물고기의_수['B등급']\n",
        "\n",
        "문제4_총액 = 문제4_총액_A등급 + 문제4_총액_B등급\n",
        "문제4_총액\n",
        "\n",
        "문제4_비율 = {'A등급':문제4_총액_A등급/70000*100, 'B등급':문제4_총액_B등급/70000*100}\n",
        "문제4_비율"
      ],
      "metadata": {
        "colab": {
          "base_uri": "https://localhost:8080/"
        },
        "id": "aDdSNGNj3gyM",
        "outputId": "e266a81d-1e53-4a09-cd66-969fdb6c1e4d"
      },
      "execution_count": 120,
      "outputs": [
        {
          "output_type": "execute_result",
          "data": {
            "text/plain": [
              "{'A등급': 50.0, 'B등급': 50.0}"
            ]
          },
          "metadata": {},
          "execution_count": 120
        }
      ]
    },
    {
      "cell_type": "code",
      "source": [
        "def 낚시():\n",
        "    print('A등급 생선을 한 마리 잡았습니다.')\n",
        "\n",
        "def 그물():\n",
        "    print('A등급 3마리, B등급 3마리, C등급 4마리를 잡았습니다.')\n",
        "    \n",
        "def 통발():\n",
        "    print('문어를 하나 잡았습니다.')\n",
        "   \n",
        "# 함수 호출하기\n",
        "낚시()\n",
        "그물()\n",
        "통발()"
      ],
      "metadata": {
        "colab": {
          "base_uri": "https://localhost:8080/"
        },
        "id": "eNricO19GLHv",
        "outputId": "2745fd82-334a-4426-c2f5-143ca5b3ba07"
      },
      "execution_count": 121,
      "outputs": [
        {
          "output_type": "stream",
          "name": "stdout",
          "text": [
            "A등급 생선을 한 마리 잡았습니다.\n",
            "A등급 3마리, B등급 3마리, C등급 4마리를 잡았습니다.\n",
            "문어를 하나 잡았습니다.\n"
          ]
        }
      ]
    },
    {
      "cell_type": "code",
      "source": [
        "  "
      ],
      "metadata": {
        "id": "7wNXdpBxGONL"
      },
      "execution_count": null,
      "outputs": []
    }
  ]
}