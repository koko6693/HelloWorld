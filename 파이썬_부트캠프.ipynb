{
  "nbformat": 4,
  "nbformat_minor": 0,
  "metadata": {
    "colab": {
      "provenance": [],
      "authorship_tag": "ABX9TyMWY+XS0ErhpJvwzKZAIof5",
      "include_colab_link": true
    },
    "kernelspec": {
      "name": "python3",
      "display_name": "Python 3"
    },
    "language_info": {
      "name": "python"
    }
  },
  "cells": [
    {
      "cell_type": "markdown",
      "metadata": {
        "id": "view-in-github",
        "colab_type": "text"
      },
      "source": [
        "<a href=\"https://colab.research.google.com/github/koko6693/HelloWorld/blob/main/%ED%8C%8C%EC%9D%B4%EC%8D%AC_%EB%B6%80%ED%8A%B8%EC%BA%A0%ED%94%84.ipynb\" target=\"_parent\"><img src=\"https://colab.research.google.com/assets/colab-badge.svg\" alt=\"Open In Colab\"/></a>"
      ]
    },
    {
      "cell_type": "code",
      "execution_count": 1,
      "metadata": {
        "colab": {
          "base_uri": "https://localhost:8080/",
          "height": 54
        },
        "id": "jRJ63nQkfPZ0",
        "outputId": "34e420a8-6faa-4356-d6ec-34ac92868ff0"
      },
      "outputs": [
        {
          "output_type": "execute_result",
          "data": {
            "text/plain": [
              "'\\n라이캣의 개인정보입니다.\\n성장함에 따라 해당 값이 변합니다.\\n\\n주의) 마음대로 성장시키지 마세요!\\n'"
            ],
            "application/vnd.google.colaboratory.intrinsic+json": {
              "type": "string"
            }
          },
          "metadata": {},
          "execution_count": 1
        }
      ],
      "source": [
        "#라이캣의 개인정보 입력하기\n",
        "\n",
        "이름 ='캣'\n",
        "설명 = '위니브 월드 외각에 살고 있는 생선가게 주인 캣(cat)'\n",
        "나이 = 10\n",
        "오늘_잡은_물고기 = '10'\n",
        "키 = '45cm'\n",
        "몸무게 = 1.2\n",
        "육식 = True\n",
        "초식 = True\n",
        "돈 = 1000\n",
        "훈장 = []\n",
        "기술 = ['고기잡이', '고기팔기']\n",
        "\n",
        "'''\n",
        "라이캣의 개인정보입니다.\n",
        "성장함에 따라 해당 값이 변합니다.\n",
        "\n",
        "주의) 마음대로 성장시키지 마세요!\n",
        "'''\n"
      ]
    },
    {
      "cell_type": "code",
      "source": [
        "이름\n",
        "나이\n",
        "print(이름)\n",
        "print(나이)\n"
      ],
      "metadata": {
        "colab": {
          "base_uri": "https://localhost:8080/"
        },
        "id": "kZ1sM1lQhkGh",
        "outputId": "6000a10f-aa2c-4842-c247-5208fa7afd11"
      },
      "execution_count": 2,
      "outputs": [
        {
          "output_type": "stream",
          "name": "stdout",
          "text": [
            "캣\n",
            "10\n"
          ]
        }
      ]
    },
    {
      "cell_type": "code",
      "source": [
        "나이 = 11\n",
        "나이"
      ],
      "metadata": {
        "colab": {
          "base_uri": "https://localhost:8080/"
        },
        "id": "hUYSeLwCh4z4",
        "outputId": "a2f7b13f-ad21-4a92-d82f-1df7706c2d09"
      },
      "execution_count": 3,
      "outputs": [
        {
          "output_type": "execute_result",
          "data": {
            "text/plain": [
              "11"
            ]
          },
          "metadata": {},
          "execution_count": 3
        }
      ]
    },
    {
      "cell_type": "code",
      "source": [
        "나이 = 나이 + 1"
      ],
      "metadata": {
        "id": "eqXgf5O9iA6m"
      },
      "execution_count": 4,
      "outputs": []
    },
    {
      "cell_type": "code",
      "source": [
        "나이"
      ],
      "metadata": {
        "colab": {
          "base_uri": "https://localhost:8080/"
        },
        "id": "T8DXaTSUiJx_",
        "outputId": "adb5d50e-ca12-4f9f-e8a6-26c055dfdd36"
      },
      "execution_count": 5,
      "outputs": [
        {
          "output_type": "execute_result",
          "data": {
            "text/plain": [
              "12"
            ]
          },
          "metadata": {},
          "execution_count": 5
        }
      ]
    },
    {
      "cell_type": "markdown",
      "source": [
        "## 변수의 규칙\n",
        "\n",
        "1. 변수 중간에 띄어쓰기를 하지 않습니다.\n",
        "띄어쓰기를 명시하고 싶으실 때에는 언더스코어(`_`)를 사용하세요!\n",
        "2. 첫 글자는 숫자나 특수문자를 쓰지 않습니다.\n",
        "물론 언더스코어(`_`)제외입니다.\n",
        "3. 첫 글자를 대문자로 쓰지 않습니다. (Class가 대문자로 쓰기 때문이지만 대문자로 써도 실행됩니다.)\n",
        "4. 예약어를 사용하지 않습니다. 예를 들어 뒤에 `print` 구문이 나오는데요. 이러한 함수명이나 구문은 변수명으로 사용하지 않습니다.\n",
        "5. 변수명은 대소문자를 가립니다! `Apple`과 `apple`은 다른 변수가 됩니다.\n",
        "\n"
      ],
      "metadata": {
        "id": "BL8mj36nihNw"
      }
    },
    {
      "cell_type": "code",
      "source": [
        "오늘_잡은_물고기"
      ],
      "metadata": {
        "colab": {
          "base_uri": "https://localhost:8080/",
          "height": 36
        },
        "id": "0NRI8Ji1iLTS",
        "outputId": "1bac78ad-189a-46ad-91a7-4293ca13dd22"
      },
      "execution_count": 6,
      "outputs": [
        {
          "output_type": "execute_result",
          "data": {
            "text/plain": [
              "'10'"
            ],
            "application/vnd.google.colaboratory.intrinsic+json": {
              "type": "string"
            }
          },
          "metadata": {},
          "execution_count": 6
        }
      ]
    },
    {
      "cell_type": "code",
      "source": [
        "오늘_잡은_물고기 + 1"
      ],
      "metadata": {
        "colab": {
          "base_uri": "https://localhost:8080/",
          "height": 176
        },
        "id": "fgjAWc5-iF8I",
        "outputId": "951bf262-32af-4d65-fe79-f54c5251e007"
      },
      "execution_count": 9,
      "outputs": [
        {
          "output_type": "error",
          "ename": "TypeError",
          "evalue": "ignored",
          "traceback": [
            "\u001b[0;31m---------------------------------------------------------------------------\u001b[0m",
            "\u001b[0;31mTypeError\u001b[0m                                 Traceback (most recent call last)",
            "\u001b[0;32m<ipython-input-9-e11c349313e0>\u001b[0m in \u001b[0;36m<module>\u001b[0;34m\u001b[0m\n\u001b[0;32m----> 1\u001b[0;31m \u001b[0m오늘_잡은_물고기\u001b[0m \u001b[0;34m+\u001b[0m \u001b[0;36m1\u001b[0m\u001b[0;34m\u001b[0m\u001b[0;34m\u001b[0m\u001b[0m\n\u001b[0m",
            "\u001b[0;31mTypeError\u001b[0m: can only concatenate str (not \"int\") to str"
          ]
        }
      ]
    },
    {
      "cell_type": "code",
      "source": [
        "int(오늘_잡은_물고기) + 1"
      ],
      "metadata": {
        "colab": {
          "base_uri": "https://localhost:8080/"
        },
        "id": "IuwdeQ0siQpC",
        "outputId": "c0e1d0e8-3872-41d5-f68c-45eb40a15722"
      },
      "execution_count": 10,
      "outputs": [
        {
          "output_type": "execute_result",
          "data": {
            "text/plain": [
              "11"
            ]
          },
          "metadata": {},
          "execution_count": 10
        }
      ]
    },
    {
      "cell_type": "code",
      "source": [
        "print(type(오늘_잡은_물고기))"
      ],
      "metadata": {
        "colab": {
          "base_uri": "https://localhost:8080/"
        },
        "id": "0tifz7NziG1M",
        "outputId": "26634415-aa87-4f03-e753-7a5cf049c221"
      },
      "execution_count": 11,
      "outputs": [
        {
          "output_type": "stream",
          "name": "stdout",
          "text": [
            "<class 'str'>\n"
          ]
        }
      ]
    },
    {
      "cell_type": "code",
      "source": [
        "print(type(이름)) #'캣'\n",
        "print(type(나이)) # 현재 12\n",
        "print(type(오늘_잡은_물고기)) #현재 10\n",
        "print(type(몸무게))\n",
        "print(type(육식)) #True\n",
        "print(type(기술)) #['고기잡이', '고기팔기']"
      ],
      "metadata": {
        "colab": {
          "base_uri": "https://localhost:8080/"
        },
        "id": "5wbVNAIzj2ZV",
        "outputId": "c05cad2d-abda-4e5d-81ef-592a818c5858"
      },
      "execution_count": 12,
      "outputs": [
        {
          "output_type": "stream",
          "name": "stdout",
          "text": [
            "<class 'str'>\n",
            "<class 'int'>\n",
            "<class 'str'>\n",
            "<class 'float'>\n",
            "<class 'bool'>\n",
            "<class 'list'>\n"
          ]
        }
      ]
    },
    {
      "cell_type": "markdown",
      "source": [
        "1. <class 'str'> - string, 문자열 \n",
        "2. <class 'int'> - integer, 정수형\n",
        "3. <class 'float'> - float, 실수형\n",
        "4. <class 'bool'> - bool, boolean, 참거짓형\n",
        "5. <class 'list'> - list, 배열"
      ],
      "metadata": {
        "id": "bVkSRYMJkdnh"
      }
    },
    {
      "cell_type": "code",
      "source": [
        "# 1. int\n",
        "\n",
        "print(type(나이))\n",
        "print(dir(나이))"
      ],
      "metadata": {
        "colab": {
          "base_uri": "https://localhost:8080/"
        },
        "id": "NyAwz_BJiDZI",
        "outputId": "232f85c7-8b81-4b07-f40e-eb4778b28c67"
      },
      "execution_count": 13,
      "outputs": [
        {
          "output_type": "stream",
          "name": "stdout",
          "text": [
            "<class 'int'>\n",
            "['__abs__', '__add__', '__and__', '__bool__', '__ceil__', '__class__', '__delattr__', '__dir__', '__divmod__', '__doc__', '__eq__', '__float__', '__floor__', '__floordiv__', '__format__', '__ge__', '__getattribute__', '__getnewargs__', '__gt__', '__hash__', '__index__', '__init__', '__init_subclass__', '__int__', '__invert__', '__le__', '__lshift__', '__lt__', '__mod__', '__mul__', '__ne__', '__neg__', '__new__', '__or__', '__pos__', '__pow__', '__radd__', '__rand__', '__rdivmod__', '__reduce__', '__reduce_ex__', '__repr__', '__rfloordiv__', '__rlshift__', '__rmod__', '__rmul__', '__ror__', '__round__', '__rpow__', '__rrshift__', '__rshift__', '__rsub__', '__rtruediv__', '__rxor__', '__setattr__', '__sizeof__', '__str__', '__sub__', '__subclasshook__', '__truediv__', '__trunc__', '__xor__', 'as_integer_ratio', 'bit_length', 'conjugate', 'denominator', 'from_bytes', 'imag', 'numerator', 'real', 'to_bytes']\n"
          ]
        }
      ]
    },
    {
      "cell_type": "code",
      "source": [
        "나이 = 10\n",
        "print(나이.bit_length())\n",
        "print(bin(나이))\n",
        "\n",
        "나이_90년_후 = 100\n",
        "print(나이_90년_후.bit_length())\n",
        "print(bin(나이_90년_후))"
      ],
      "metadata": {
        "colab": {
          "base_uri": "https://localhost:8080/"
        },
        "id": "GkncjCLqmPeG",
        "outputId": "a4ab0bd3-8792-49b4-e38b-2d0e840ba256"
      },
      "execution_count": 14,
      "outputs": [
        {
          "output_type": "stream",
          "name": "stdout",
          "text": [
            "4\n",
            "0b1010\n",
            "7\n",
            "0b1100100\n"
          ]
        }
      ]
    },
    {
      "cell_type": "code",
      "source": [
        "# 1.2 float\n",
        "\n",
        "print(몸무게)\n",
        "print(type(몸무게))\n",
        "print(dir(몸무게))\n",
        "\n",
        "print(몸무게 + 10)"
      ],
      "metadata": {
        "colab": {
          "base_uri": "https://localhost:8080/"
        },
        "id": "JqU6MjcdlFyb",
        "outputId": "af22c52c-da15-4d88-9528-cf7feed1852c"
      },
      "execution_count": 15,
      "outputs": [
        {
          "output_type": "stream",
          "name": "stdout",
          "text": [
            "1.2\n",
            "<class 'float'>\n",
            "['__abs__', '__add__', '__bool__', '__class__', '__delattr__', '__dir__', '__divmod__', '__doc__', '__eq__', '__float__', '__floordiv__', '__format__', '__ge__', '__getattribute__', '__getformat__', '__getnewargs__', '__gt__', '__hash__', '__init__', '__init_subclass__', '__int__', '__le__', '__lt__', '__mod__', '__mul__', '__ne__', '__neg__', '__new__', '__pos__', '__pow__', '__radd__', '__rdivmod__', '__reduce__', '__reduce_ex__', '__repr__', '__rfloordiv__', '__rmod__', '__rmul__', '__round__', '__rpow__', '__rsub__', '__rtruediv__', '__set_format__', '__setattr__', '__sizeof__', '__str__', '__sub__', '__subclasshook__', '__truediv__', '__trunc__', 'as_integer_ratio', 'conjugate', 'fromhex', 'hex', 'imag', 'is_integer', 'real']\n",
            "11.2\n"
          ]
        }
      ]
    },
    {
      "cell_type": "code",
      "source": [
        "# 2. str\n",
        "#시퀀스(순서가 있는)형 자료형\n",
        "\n",
        "# index, indexing\n",
        "print(설명)\n",
        "print(설명[0])\n",
        "print(설명[1])\n",
        "print(설명[2])\n",
        "print(기술)\n",
        "print(기술[0])\n",
        "print(기술[1])\n",
        "\n",
        "# print(설명)\n",
        "# print(설명)"
      ],
      "metadata": {
        "colab": {
          "base_uri": "https://localhost:8080/"
        },
        "id": "2HaAVj9wh-63",
        "outputId": "c73ab8f5-b4b8-4680-94d2-2b1860d8ec69"
      },
      "execution_count": 16,
      "outputs": [
        {
          "output_type": "stream",
          "name": "stdout",
          "text": [
            "위니브 월드 외각에 살고 있는 생선가게 주인 캣(cat)\n",
            "위\n",
            "니\n",
            "브\n",
            "['고기잡이', '고기팔기']\n",
            "고기잡이\n",
            "고기팔기\n"
          ]
        }
      ]
    },
    {
      "cell_type": "code",
      "source": [
        "# slicing\n",
        "# 변수이름[start:stop:step]\n",
        "print(설명)\n",
        "print(설명[0:3])\n",
        "print(설명[0:6])\n",
        "print(설명[0:9])"
      ],
      "metadata": {
        "colab": {
          "base_uri": "https://localhost:8080/"
        },
        "id": "3IioMRMph_uI",
        "outputId": "8a129ba9-ce1c-48c8-8c41-6e538ec971f1"
      },
      "execution_count": 17,
      "outputs": [
        {
          "output_type": "stream",
          "name": "stdout",
          "text": [
            "위니브 월드 외각에 살고 있는 생선가게 주인 캣(cat)\n",
            "위니브\n",
            "위니브 월드\n",
            "위니브 월드 외각\n"
          ]
        }
      ]
    },
    {
      "cell_type": "code",
      "source": [
        "캣의_생년월일 = '2220.02.22'\n",
        "생년 = 캣의_생년월일[:4]\n",
        "월 = 캣의_생년월일[5:7]\n",
        "일 = 캣의_생년월일[8:]\n",
        "생년, 월, 일"
      ],
      "metadata": {
        "colab": {
          "base_uri": "https://localhost:8080/"
        },
        "id": "HzIFniAohvY1",
        "outputId": "5259b271-793e-4ea1-bf29-7aa5cdc520b4"
      },
      "execution_count": 18,
      "outputs": [
        {
          "output_type": "execute_result",
          "data": {
            "text/plain": [
              "('2220', '02', '22')"
            ]
          },
          "metadata": {},
          "execution_count": 18
        }
      ]
    },
    {
      "cell_type": "code",
      "source": [
        "숫자 = '123456789101112'\n",
        "print(숫자[::-1])\n",
        "print(숫자[::2])\n",
        "print(숫자[1:7:2])\n",
        "print(숫자[7:1:-1])\n",
        "print(숫자[-1])"
      ],
      "metadata": {
        "colab": {
          "base_uri": "https://localhost:8080/"
        },
        "id": "mlkeVmSYhwRO",
        "outputId": "8d6777c2-2800-4107-c316-74ca0c9166b2"
      },
      "execution_count": 19,
      "outputs": [
        {
          "output_type": "stream",
          "name": "stdout",
          "text": [
            "211101987654321\n",
            "13579012\n",
            "246\n",
            "876543\n",
            "2\n"
          ]
        }
      ]
    },
    {
      "cell_type": "code",
      "source": [
        "print(설명)\n",
        "print(type(설명))\n",
        "print(dir(설명))\n",
        "'''\n",
        "'capitalize', 'casefold', 'center', 'count', 'encode', 'endswith', 'expandtabs', 'find', 'format', 'format_map', 'index', 'isalnum', 'isalpha', 'isascii', 'isdecimal', 'isdigit', 'isidentifier', 'islower', 'isnumeric', 'isprintable', 'isspace', 'istitle', 'isupper', 'join', 'ljust', 'lower', 'lstrip', 'maketrans', 'partition', 'replace', 'rfind', 'rindex', 'rjust', 'rpartition', 'rsplit', 'rstrip', 'split', 'splitlines', 'startswith', 'strip', 'swapcase', 'title', 'translate', 'upper', 'zfill']\n",
        "'''"
      ],
      "metadata": {
        "colab": {
          "base_uri": "https://localhost:8080/",
          "height": 205
        },
        "id": "bVYEMtJLpGNB",
        "outputId": "9e2393e0-7e91-4131-97f6-d7b42308801a"
      },
      "execution_count": 20,
      "outputs": [
        {
          "output_type": "stream",
          "name": "stdout",
          "text": [
            "위니브 월드 외각에 살고 있는 생선가게 주인 캣(cat)\n",
            "<class 'str'>\n",
            "['__add__', '__class__', '__contains__', '__delattr__', '__dir__', '__doc__', '__eq__', '__format__', '__ge__', '__getattribute__', '__getitem__', '__getnewargs__', '__gt__', '__hash__', '__init__', '__init_subclass__', '__iter__', '__le__', '__len__', '__lt__', '__mod__', '__mul__', '__ne__', '__new__', '__reduce__', '__reduce_ex__', '__repr__', '__rmod__', '__rmul__', '__setattr__', '__sizeof__', '__str__', '__subclasshook__', 'capitalize', 'casefold', 'center', 'count', 'encode', 'endswith', 'expandtabs', 'find', 'format', 'format_map', 'index', 'isalnum', 'isalpha', 'isascii', 'isdecimal', 'isdigit', 'isidentifier', 'islower', 'isnumeric', 'isprintable', 'isspace', 'istitle', 'isupper', 'join', 'ljust', 'lower', 'lstrip', 'maketrans', 'partition', 'replace', 'rfind', 'rindex', 'rjust', 'rpartition', 'rsplit', 'rstrip', 'split', 'splitlines', 'startswith', 'strip', 'swapcase', 'title', 'translate', 'upper', 'zfill']\n"
          ]
        },
        {
          "output_type": "execute_result",
          "data": {
            "text/plain": [
              "\"\\n'capitalize', 'casefold', 'center', 'count', 'encode', 'endswith', 'expandtabs', 'find', 'format', 'format_map', 'index', 'isalnum', 'isalpha', 'isascii', 'isdecimal', 'isdigit', 'isidentifier', 'islower', 'isnumeric', 'isprintable', 'isspace', 'istitle', 'isupper', 'join', 'ljust', 'lower', 'lstrip', 'maketrans', 'partition', 'replace', 'rfind', 'rindex', 'rjust', 'rpartition', 'rsplit', 'rstrip', 'split', 'splitlines', 'startswith', 'strip', 'swapcase', 'title', 'translate', 'upper', 'zfill']\\n\""
            ],
            "application/vnd.google.colaboratory.intrinsic+json": {
              "type": "string"
            }
          },
          "metadata": {},
          "execution_count": 20
        }
      ]
    },
    {
      "cell_type": "code",
      "source": [
        "숫자.count('1')\n",
        "설명.upper()\n",
        "설명.lower()\n",
        "'             hello world'.lstrip()\n",
        "'             hello world'.strip()\n",
        "'             hello world'.replace(' ', '!')\n",
        "설명.index('각')\n",
        "설명[설명.index('각')]\n",
        "설명.find('각')\n",
        "설명[설명.find('각')]\n"
      ],
      "metadata": {
        "colab": {
          "base_uri": "https://localhost:8080/",
          "height": 36
        },
        "id": "uHLkvje9pzOm",
        "outputId": "9f64e7d2-fa3c-4b3e-fcfe-4a24bdb256e3"
      },
      "execution_count": 21,
      "outputs": [
        {
          "output_type": "execute_result",
          "data": {
            "text/plain": [
              "'각'"
            ],
            "application/vnd.google.colaboratory.intrinsic+json": {
              "type": "string"
            }
          },
          "metadata": {},
          "execution_count": 21
        }
      ]
    },
    {
      "cell_type": "code",
      "source": [
        "# bool\n",
        "\n",
        "육식 = True\n",
        "초식 = True\n",
        "print(type(육식))\n",
        "print(dir(육식))"
      ],
      "metadata": {
        "colab": {
          "base_uri": "https://localhost:8080/"
        },
        "id": "ajHlGM0OqyPE",
        "outputId": "48227a45-0865-4fdf-c7c1-da17ce6a377d"
      },
      "execution_count": 22,
      "outputs": [
        {
          "output_type": "stream",
          "name": "stdout",
          "text": [
            "<class 'bool'>\n",
            "['__abs__', '__add__', '__and__', '__bool__', '__ceil__', '__class__', '__delattr__', '__dir__', '__divmod__', '__doc__', '__eq__', '__float__', '__floor__', '__floordiv__', '__format__', '__ge__', '__getattribute__', '__getnewargs__', '__gt__', '__hash__', '__index__', '__init__', '__init_subclass__', '__int__', '__invert__', '__le__', '__lshift__', '__lt__', '__mod__', '__mul__', '__ne__', '__neg__', '__new__', '__or__', '__pos__', '__pow__', '__radd__', '__rand__', '__rdivmod__', '__reduce__', '__reduce_ex__', '__repr__', '__rfloordiv__', '__rlshift__', '__rmod__', '__rmul__', '__ror__', '__round__', '__rpow__', '__rrshift__', '__rshift__', '__rsub__', '__rtruediv__', '__rxor__', '__setattr__', '__sizeof__', '__str__', '__sub__', '__subclasshook__', '__truediv__', '__trunc__', '__xor__', 'as_integer_ratio', 'bit_length', 'conjugate', 'denominator', 'from_bytes', 'imag', 'numerator', 'real', 'to_bytes']\n"
          ]
        }
      ]
    },
    {
      "cell_type": "markdown",
      "source": [
        "## 1.llst\n",
        "\n",
        "1. 순서가 있습니다.\n",
        "2. 수정이 가능합니다.\n",
        "3. 순회가 가능합니다.\n",
        "4. 값의 중복을 허락합니다."
      ],
      "metadata": {
        "id": "JCzOOBar8-Gf"
      }
    },
    {
      "cell_type": "code",
      "source": [
        "# listm tuple, dict, set\n",
        "\n",
        "훈장 = []\n",
        "기술 = ['고기잡이', '고기팔기']\n",
        "print(type(기술))\n",
        "print(dir(기술))\n",
        "'''\n",
        "'append', 'clear', 'copy', 'count', 'extend', 'index', 'insert', 'pop', 'remove', 'reverse', 'sort'\n",
        "'''"
      ],
      "metadata": {
        "colab": {
          "base_uri": "https://localhost:8080/",
          "height": 112
        },
        "id": "kBfGSXqR8MSH",
        "outputId": "e0549917-9807-42ee-e741-d73f942e4ac0"
      },
      "execution_count": 23,
      "outputs": [
        {
          "output_type": "stream",
          "name": "stdout",
          "text": [
            "<class 'list'>\n",
            "['__add__', '__class__', '__contains__', '__delattr__', '__delitem__', '__dir__', '__doc__', '__eq__', '__format__', '__ge__', '__getattribute__', '__getitem__', '__gt__', '__hash__', '__iadd__', '__imul__', '__init__', '__init_subclass__', '__iter__', '__le__', '__len__', '__lt__', '__mul__', '__ne__', '__new__', '__reduce__', '__reduce_ex__', '__repr__', '__reversed__', '__rmul__', '__setattr__', '__setitem__', '__sizeof__', '__str__', '__subclasshook__', 'append', 'clear', 'copy', 'count', 'extend', 'index', 'insert', 'pop', 'remove', 'reverse', 'sort']\n"
          ]
        },
        {
          "output_type": "execute_result",
          "data": {
            "text/plain": [
              "\"\\n'append', 'clear', 'copy', 'count', 'extend', 'index', 'insert', 'pop', 'remove', 'reverse', 'sort'\\n\""
            ],
            "application/vnd.google.colaboratory.intrinsic+json": {
              "type": "string"
            }
          },
          "metadata": {},
          "execution_count": 23
        }
      ]
    },
    {
      "cell_type": "code",
      "source": [
        "잡은물고기 = ['광어', '고등어', '오징어', '오징어', '광어',\n",
        "              '광어', '고등어', '고등어', '백상아리', '금붕어']\n",
        "print(잡은물고기[0])\n",
        "print(잡은물고기[0:3])\n",
        "print(잡은물고기[0:7:2])\n",
        "잡은물고기[-1] = '백상아리'"
      ],
      "metadata": {
        "colab": {
          "base_uri": "https://localhost:8080/"
        },
        "id": "yqUWlE1E9gt2",
        "outputId": "53cf170e-1219-40a8-e0d0-6c9ff1f653b0"
      },
      "execution_count": 24,
      "outputs": [
        {
          "output_type": "stream",
          "name": "stdout",
          "text": [
            "광어\n",
            "['광어', '고등어', '오징어']\n",
            "['광어', '오징어', '광어', '고등어']\n"
          ]
        }
      ]
    },
    {
      "cell_type": "code",
      "source": [
        "잡은물고기.count('백상아리')\n",
        "잡은물고기.append('백상아리')\n",
        "잡은물고기\n",
        "# 잡은물고기.clear()\n",
        "# 잡은물고기.copy() \n"
      ],
      "metadata": {
        "colab": {
          "base_uri": "https://localhost:8080/"
        },
        "id": "ZlyA1uMm-ZN4",
        "outputId": "a2e61210-1767-4e6f-cfa9-0f89b47b3be5"
      },
      "execution_count": 25,
      "outputs": [
        {
          "output_type": "execute_result",
          "data": {
            "text/plain": [
              "['광어', '고등어', '오징어', '오징어', '광어', '광어', '고등어', '고등어', '백상아리', '백상아리', '백상아리']"
            ]
          },
          "metadata": {},
          "execution_count": 25
        }
      ]
    },
    {
      "cell_type": "code",
      "source": [
        "잡은물고기.extend(['광어', '고등어', '고등어'])\n",
        "잡은물고기"
      ],
      "metadata": {
        "colab": {
          "base_uri": "https://localhost:8080/"
        },
        "id": "eVsNjMyG-aSq",
        "outputId": "d9aa4650-3e45-4f9e-9fce-3eac8edcb419"
      },
      "execution_count": 26,
      "outputs": [
        {
          "output_type": "execute_result",
          "data": {
            "text/plain": [
              "['광어',\n",
              " '고등어',\n",
              " '오징어',\n",
              " '오징어',\n",
              " '광어',\n",
              " '광어',\n",
              " '고등어',\n",
              " '고등어',\n",
              " '백상아리',\n",
              " '백상아리',\n",
              " '백상아리',\n",
              " '광어',\n",
              " '고등어',\n",
              " '고등어']"
            ]
          },
          "metadata": {},
          "execution_count": 26
        }
      ]
    },
    {
      "cell_type": "code",
      "source": [
        "잡은물고기.index('백상아리')\n",
        "잡은물고기.insert(3,'백상아리')\n",
        "잡은물고기\n",
        "잡은물고기.pop() #pop안에 index를 넣어 지울 수 있습니다.\n",
        "# del 잡은물고기[0] - 0번째 삭제\n",
        "잡은물고기"
      ],
      "metadata": {
        "colab": {
          "base_uri": "https://localhost:8080/"
        },
        "id": "eUprxZfL99d1",
        "outputId": "93ac9a65-4444-4ff3-f356-364dfa268ce3"
      },
      "execution_count": 27,
      "outputs": [
        {
          "output_type": "execute_result",
          "data": {
            "text/plain": [
              "['광어',\n",
              " '고등어',\n",
              " '오징어',\n",
              " '백상아리',\n",
              " '오징어',\n",
              " '광어',\n",
              " '광어',\n",
              " '고등어',\n",
              " '고등어',\n",
              " '백상아리',\n",
              " '백상아리',\n",
              " '백상아리',\n",
              " '광어',\n",
              " '고등어']"
            ]
          },
          "metadata": {},
          "execution_count": 27
        }
      ]
    },
    {
      "cell_type": "code",
      "source": [
        "# 잡은물고기.remove('백상아리')\n",
        "# 잡은물고기\n",
        "잡은물고기.insert(8,'백상아리')\n",
        "잡은물고기"
      ],
      "metadata": {
        "colab": {
          "base_uri": "https://localhost:8080/"
        },
        "id": "VH5uHPOI_xzR",
        "outputId": "d11c5a95-32fd-4eac-8067-5c960dca21f2"
      },
      "execution_count": 28,
      "outputs": [
        {
          "output_type": "execute_result",
          "data": {
            "text/plain": [
              "['광어',\n",
              " '고등어',\n",
              " '오징어',\n",
              " '백상아리',\n",
              " '오징어',\n",
              " '광어',\n",
              " '광어',\n",
              " '고등어',\n",
              " '백상아리',\n",
              " '고등어',\n",
              " '백상아리',\n",
              " '백상아리',\n",
              " '백상아리',\n",
              " '광어',\n",
              " '고등어']"
            ]
          },
          "metadata": {},
          "execution_count": 28
        }
      ]
    },
    {
      "cell_type": "code",
      "source": [
        "잡은물고기.reverse()\n",
        "잡은물고기"
      ],
      "metadata": {
        "colab": {
          "base_uri": "https://localhost:8080/"
        },
        "id": "KfXUvpIzAHlk",
        "outputId": "3b28fe6c-48fe-4445-929e-23c6bc3a086c"
      },
      "execution_count": 29,
      "outputs": [
        {
          "output_type": "execute_result",
          "data": {
            "text/plain": [
              "['고등어',\n",
              " '광어',\n",
              " '백상아리',\n",
              " '백상아리',\n",
              " '백상아리',\n",
              " '고등어',\n",
              " '백상아리',\n",
              " '고등어',\n",
              " '광어',\n",
              " '광어',\n",
              " '오징어',\n",
              " '백상아리',\n",
              " '오징어',\n",
              " '고등어',\n",
              " '광어']"
            ]
          },
          "metadata": {},
          "execution_count": 29
        }
      ]
    },
    {
      "cell_type": "code",
      "source": [
        "잡은물고기.sort()\n",
        "잡은물고기"
      ],
      "metadata": {
        "colab": {
          "base_uri": "https://localhost:8080/"
        },
        "id": "zY_Y1StLAxDH",
        "outputId": "c93a3780-bf87-46a3-a603-ace73eb370e6"
      },
      "execution_count": 30,
      "outputs": [
        {
          "output_type": "execute_result",
          "data": {
            "text/plain": [
              "['고등어',\n",
              " '고등어',\n",
              " '고등어',\n",
              " '고등어',\n",
              " '광어',\n",
              " '광어',\n",
              " '광어',\n",
              " '광어',\n",
              " '백상아리',\n",
              " '백상아리',\n",
              " '백상아리',\n",
              " '백상아리',\n",
              " '백상아리',\n",
              " '오징어',\n",
              " '오징어']"
            ]
          },
          "metadata": {},
          "execution_count": 30
        }
      ]
    },
    {
      "cell_type": "markdown",
      "source": [
        "## 2. tuple\n",
        "\n",
        "1. 순서가 있습니다.\n",
        "2. 값의 변화를 줄 수 없습니다."
      ],
      "metadata": {
        "id": "Vcvrnn4TBC3q"
      }
    },
    {
      "cell_type": "code",
      "source": [
        "잡은물고기_튜플 = ('고등어',\n",
        " '고등어',\n",
        " '고등어',\n",
        " '고등어',\n",
        " '광어',\n",
        " '광어',\n",
        " '광어',\n",
        " '광어',\n",
        " '백상아리',\n",
        " '백상아리',\n",
        " '백상아리',\n",
        " '오징어',\n",
        " '오징어')\n",
        "\n",
        "print(type(잡은물고기_튜플))\n",
        "print(dir(잡은물고기_튜플))\n",
        "\n",
        "잡은물고기_튜플[0]\n",
        "잡은물고기_튜플[::-1]\n"
      ],
      "metadata": {
        "colab": {
          "base_uri": "https://localhost:8080/"
        },
        "id": "Cpwv1B-WBKd6",
        "outputId": "5235d243-0049-41d0-dd0b-23c36bd29b9d"
      },
      "execution_count": 31,
      "outputs": [
        {
          "output_type": "stream",
          "name": "stdout",
          "text": [
            "<class 'tuple'>\n",
            "['__add__', '__class__', '__contains__', '__delattr__', '__dir__', '__doc__', '__eq__', '__format__', '__ge__', '__getattribute__', '__getitem__', '__getnewargs__', '__gt__', '__hash__', '__init__', '__init_subclass__', '__iter__', '__le__', '__len__', '__lt__', '__mul__', '__ne__', '__new__', '__reduce__', '__reduce_ex__', '__repr__', '__rmul__', '__setattr__', '__sizeof__', '__str__', '__subclasshook__', 'count', 'index']\n"
          ]
        },
        {
          "output_type": "execute_result",
          "data": {
            "text/plain": [
              "('오징어',\n",
              " '오징어',\n",
              " '백상아리',\n",
              " '백상아리',\n",
              " '백상아리',\n",
              " '광어',\n",
              " '광어',\n",
              " '광어',\n",
              " '광어',\n",
              " '고등어',\n",
              " '고등어',\n",
              " '고등어',\n",
              " '고등어')"
            ]
          },
          "metadata": {},
          "execution_count": 31
        }
      ]
    },
    {
      "cell_type": "markdown",
      "source": [
        "## 3. 딕셔너리\n",
        "\n",
        "1. 순서가 없습니다.\n",
        "2. 키 값의 중복을 허락하지 않습니다.\n",
        "3. 값의 중복은 가능합니다.\n",
        "4. 순회는 가능합니다."
      ],
      "metadata": {
        "id": "EFQ-YTSABuio"
      }
    },
    {
      "cell_type": "code",
      "source": [
        "# Dictionary의 구조\n",
        "# dic = { 'key' : 'value' }\n",
        "\n",
        "잡은물고기_딕셔너리 = {'광어' : 4, '고등어' : 4, '오징어' : 2, '백상아리' : 3}"
      ],
      "metadata": {
        "id": "3kfxVpHpBokL"
      },
      "execution_count": 32,
      "outputs": []
    },
    {
      "cell_type": "code",
      "source": [
        "잡은물고기_딕셔너리['광어']\n",
        "del 잡은물고기_딕셔너리['고등어']\n",
        "잡은물고기_딕셔너리\n",
        "\n"
      ],
      "metadata": {
        "colab": {
          "base_uri": "https://localhost:8080/"
        },
        "id": "QDxsKQ3kEC8j",
        "outputId": "b8236e6a-82c0-497c-a406-3479b894c8d0"
      },
      "execution_count": 33,
      "outputs": [
        {
          "output_type": "execute_result",
          "data": {
            "text/plain": [
              "{'광어': 4, '오징어': 2, '백상아리': 3}"
            ]
          },
          "metadata": {},
          "execution_count": 33
        }
      ]
    },
    {
      "cell_type": "code",
      "source": [
        "print(type(잡은물고기_딕셔너리))\n",
        "print(dir(잡은물고기_딕셔너리))"
      ],
      "metadata": {
        "colab": {
          "base_uri": "https://localhost:8080/"
        },
        "id": "5eOSl-JCEkOJ",
        "outputId": "7cefe0f5-59e1-44ca-df8a-e1f27dd37628"
      },
      "execution_count": 34,
      "outputs": [
        {
          "output_type": "stream",
          "name": "stdout",
          "text": [
            "<class 'dict'>\n",
            "['__class__', '__contains__', '__delattr__', '__delitem__', '__dir__', '__doc__', '__eq__', '__format__', '__ge__', '__getattribute__', '__getitem__', '__gt__', '__hash__', '__init__', '__init_subclass__', '__iter__', '__le__', '__len__', '__lt__', '__ne__', '__new__', '__reduce__', '__reduce_ex__', '__repr__', '__reversed__', '__setattr__', '__setitem__', '__sizeof__', '__str__', '__subclasshook__', 'clear', 'copy', 'fromkeys', 'get', 'items', 'keys', 'pop', 'popitem', 'setdefault', 'update', 'values']\n"
          ]
        }
      ]
    },
    {
      "cell_type": "code",
      "source": [
        "잡은물고기_딕셔너리.items()"
      ],
      "metadata": {
        "colab": {
          "base_uri": "https://localhost:8080/"
        },
        "id": "1fVi1dwMEvXR",
        "outputId": "46c9679a-5d7f-4ea8-a5ff-1f8fc09b91ca"
      },
      "execution_count": 35,
      "outputs": [
        {
          "output_type": "execute_result",
          "data": {
            "text/plain": [
              "dict_items([('광어', 4), ('오징어', 2), ('백상아리', 3)])"
            ]
          },
          "metadata": {},
          "execution_count": 35
        }
      ]
    },
    {
      "cell_type": "code",
      "source": [
        "잡은물고기_딕셔너리.values()"
      ],
      "metadata": {
        "colab": {
          "base_uri": "https://localhost:8080/"
        },
        "id": "OmkEutqwE01B",
        "outputId": "eee8e949-d087-47fe-b374-825390769fa9"
      },
      "execution_count": 36,
      "outputs": [
        {
          "output_type": "execute_result",
          "data": {
            "text/plain": [
              "dict_values([4, 2, 3])"
            ]
          },
          "metadata": {},
          "execution_count": 36
        }
      ]
    },
    {
      "cell_type": "code",
      "source": [
        "잡은물고기_딕셔너리.keys()"
      ],
      "metadata": {
        "colab": {
          "base_uri": "https://localhost:8080/"
        },
        "id": "ArqjAX29E41j",
        "outputId": "3d3bd0cc-3d62-4381-f556-ac424b58fb31"
      },
      "execution_count": 37,
      "outputs": [
        {
          "output_type": "execute_result",
          "data": {
            "text/plain": [
              "dict_keys(['광어', '오징어', '백상아리'])"
            ]
          },
          "metadata": {},
          "execution_count": 37
        }
      ]
    },
    {
      "cell_type": "code",
      "source": [
        "잡은물고기_딕셔너리_복사 = 잡은물고기_딕셔너리.copy()\n",
        "잡은물고기_딕셔너리_복사['백상아리'] = 10\n",
        "잡은물고기_딕셔너리_복사"
      ],
      "metadata": {
        "colab": {
          "base_uri": "https://localhost:8080/"
        },
        "id": "v9ta8KxUE7hb",
        "outputId": "bd7e7083-1be6-4b19-fc4b-fe0da5e7e4c7"
      },
      "execution_count": 38,
      "outputs": [
        {
          "output_type": "execute_result",
          "data": {
            "text/plain": [
              "{'광어': 4, '오징어': 2, '백상아리': 10}"
            ]
          },
          "metadata": {},
          "execution_count": 38
        }
      ]
    },
    {
      "cell_type": "code",
      "source": [
        "잡은물고기_딕셔너리"
      ],
      "metadata": {
        "colab": {
          "base_uri": "https://localhost:8080/"
        },
        "id": "MRXIKSh3FLyU",
        "outputId": "89dda3c6-3aca-429f-da84-465198f71c01"
      },
      "execution_count": 39,
      "outputs": [
        {
          "output_type": "execute_result",
          "data": {
            "text/plain": [
              "{'광어': 4, '오징어': 2, '백상아리': 3}"
            ]
          },
          "metadata": {},
          "execution_count": 39
        }
      ]
    },
    {
      "cell_type": "code",
      "source": [
        "# 잡은물고기_딕셔너리_복사 -> {'광어': 4, '오징어': 2, '백상아리': 3}\n",
        "# 잡은물고기_딕셔너리 -> {'광어': 4, '오징어': 2, '백상아리': 5}"
      ],
      "metadata": {
        "id": "p2LFykWFFOvj"
      },
      "execution_count": 40,
      "outputs": []
    },
    {
      "cell_type": "markdown",
      "source": [
        "## 4. set\n",
        "\n",
        "1. 순서가 없습니다.\n",
        "2. 값의 중복을 허락하지 않습니다.\n",
        "3. 차집합, 교집합, 합집합 등의 연산이\n",
        "가능합니다."
      ],
      "metadata": {
        "id": "qCSPV3wTF239"
      }
    },
    {
      "cell_type": "code",
      "source": [
        "잡은물고기"
      ],
      "metadata": {
        "colab": {
          "base_uri": "https://localhost:8080/"
        },
        "id": "7b4UaMdVGC4t",
        "outputId": "b28f51d7-118b-43da-efa6-92d0e301feeb"
      },
      "execution_count": 41,
      "outputs": [
        {
          "output_type": "execute_result",
          "data": {
            "text/plain": [
              "['고등어',\n",
              " '고등어',\n",
              " '고등어',\n",
              " '고등어',\n",
              " '광어',\n",
              " '광어',\n",
              " '광어',\n",
              " '광어',\n",
              " '백상아리',\n",
              " '백상아리',\n",
              " '백상아리',\n",
              " '백상아리',\n",
              " '백상아리',\n",
              " '오징어',\n",
              " '오징어']"
            ]
          },
          "metadata": {},
          "execution_count": 41
        }
      ]
    },
    {
      "cell_type": "code",
      "source": [
        "test = set(잡은물고기)\n",
        "test"
      ],
      "metadata": {
        "colab": {
          "base_uri": "https://localhost:8080/"
        },
        "id": "yye9YIm_GFUR",
        "outputId": "7d5e4d0b-66f9-4b59-e033-fd7da0eae93e"
      },
      "execution_count": 42,
      "outputs": [
        {
          "output_type": "execute_result",
          "data": {
            "text/plain": [
              "{'고등어', '광어', '백상아리', '오징어'}"
            ]
          },
          "metadata": {},
          "execution_count": 42
        }
      ]
    },
    {
      "cell_type": "code",
      "source": [
        "잡은물고기_집합 = {'고등어', '광어', '대왕오징어'}\n",
        "잡은물고기_집합"
      ],
      "metadata": {
        "colab": {
          "base_uri": "https://localhost:8080/"
        },
        "id": "Uqx-I2iNGJEJ",
        "outputId": "35fdbc59-0712-483b-9558-40a79b267006"
      },
      "execution_count": 43,
      "outputs": [
        {
          "output_type": "execute_result",
          "data": {
            "text/plain": [
              "{'고등어', '광어', '대왕오징어'}"
            ]
          },
          "metadata": {},
          "execution_count": 43
        }
      ]
    },
    {
      "cell_type": "code",
      "source": [
        "print(type(잡은물고기_집합))\n",
        "print(dir(잡은물고기_집합))\n",
        "test.difference(잡은물고기_집합)\n",
        "test.intersection(잡은물고기_집합)\n",
        "test.union(잡은물고기_집합)"
      ],
      "metadata": {
        "colab": {
          "base_uri": "https://localhost:8080/"
        },
        "id": "JrF7ZTK8Ggl3",
        "outputId": "55e6559a-7a44-441f-a51a-201e015101f4"
      },
      "execution_count": 44,
      "outputs": [
        {
          "output_type": "stream",
          "name": "stdout",
          "text": [
            "<class 'set'>\n",
            "['__and__', '__class__', '__contains__', '__delattr__', '__dir__', '__doc__', '__eq__', '__format__', '__ge__', '__getattribute__', '__gt__', '__hash__', '__iand__', '__init__', '__init_subclass__', '__ior__', '__isub__', '__iter__', '__ixor__', '__le__', '__len__', '__lt__', '__ne__', '__new__', '__or__', '__rand__', '__reduce__', '__reduce_ex__', '__repr__', '__ror__', '__rsub__', '__rxor__', '__setattr__', '__sizeof__', '__str__', '__sub__', '__subclasshook__', '__xor__', 'add', 'clear', 'copy', 'difference', 'difference_update', 'discard', 'intersection', 'intersection_update', 'isdisjoint', 'issubset', 'issuperset', 'pop', 'remove', 'symmetric_difference', 'symmetric_difference_update', 'union', 'update']\n"
          ]
        },
        {
          "output_type": "execute_result",
          "data": {
            "text/plain": [
              "{'고등어', '광어', '대왕오징어', '백상아리', '오징어'}"
            ]
          },
          "metadata": {},
          "execution_count": 44
        }
      ]
    },
    {
      "cell_type": "code",
      "source": [
        "set('aaabbc')"
      ],
      "metadata": {
        "colab": {
          "base_uri": "https://localhost:8080/"
        },
        "id": "PpmY0z0THZRq",
        "outputId": "c85d40c8-54b0-4804-837e-f3d2070069fa"
      },
      "execution_count": 45,
      "outputs": [
        {
          "output_type": "execute_result",
          "data": {
            "text/plain": [
              "{'a', 'b', 'c'}"
            ]
          },
          "metadata": {},
          "execution_count": 45
        }
      ]
    },
    {
      "cell_type": "markdown",
      "source": [
        "## 형변환\n",
        "\n",
        "* 기존 type에서 다른 type으로 변환"
      ],
      "metadata": {
        "id": "h4hiv2qdIYkd"
      }
    },
    {
      "cell_type": "code",
      "source": [
        "'10' + '10'"
      ],
      "metadata": {
        "colab": {
          "base_uri": "https://localhost:8080/",
          "height": 36
        },
        "id": "DTCsWGWzHe3U",
        "outputId": "3e875329-132b-48bd-b312-8d292a831bb9"
      },
      "execution_count": 46,
      "outputs": [
        {
          "output_type": "execute_result",
          "data": {
            "text/plain": [
              "'1010'"
            ],
            "application/vnd.google.colaboratory.intrinsic+json": {
              "type": "string"
            }
          },
          "metadata": {},
          "execution_count": 46
        }
      ]
    },
    {
      "cell_type": "code",
      "source": [
        "int('10') + int('10')"
      ],
      "metadata": {
        "colab": {
          "base_uri": "https://localhost:8080/"
        },
        "id": "dN7oEWJBIkMl",
        "outputId": "3ced6cc7-f7e3-4755-d5b7-9487d9619627"
      },
      "execution_count": 47,
      "outputs": [
        {
          "output_type": "execute_result",
          "data": {
            "text/plain": [
              "20"
            ]
          },
          "metadata": {},
          "execution_count": 47
        }
      ]
    },
    {
      "cell_type": "code",
      "source": [
        "오늘_잡은_물고기_수 = '371'\n",
        "\n",
        "오늘_잡은_물고기_수 = int(오늘_잡은_물고기_수) + 10\n",
        "오늘_잡은_물고기_수"
      ],
      "metadata": {
        "colab": {
          "base_uri": "https://localhost:8080/"
        },
        "id": "a7HfUsG_IsSM",
        "outputId": "5085eee9-24d3-496f-b9bc-70bd10d25522"
      },
      "execution_count": 48,
      "outputs": [
        {
          "output_type": "execute_result",
          "data": {
            "text/plain": [
              "381"
            ]
          },
          "metadata": {},
          "execution_count": 48
        }
      ]
    },
    {
      "cell_type": "code",
      "source": [
        "int('kimsungjae')"
      ],
      "metadata": {
        "colab": {
          "base_uri": "https://localhost:8080/",
          "height": 176
        },
        "id": "HZwJl34LI60G",
        "outputId": "f7aa022f-25fb-4c9f-a912-3f026b5b2ee8"
      },
      "execution_count": 50,
      "outputs": [
        {
          "output_type": "error",
          "ename": "ValueError",
          "evalue": "ignored",
          "traceback": [
            "\u001b[0;31m---------------------------------------------------------------------------\u001b[0m",
            "\u001b[0;31mValueError\u001b[0m                                Traceback (most recent call last)",
            "\u001b[0;32m<ipython-input-50-fff940edc2e5>\u001b[0m in \u001b[0;36m<module>\u001b[0;34m\u001b[0m\n\u001b[0;32m----> 1\u001b[0;31m \u001b[0mint\u001b[0m\u001b[0;34m(\u001b[0m\u001b[0;34m'kimsungjae'\u001b[0m\u001b[0;34m)\u001b[0m\u001b[0;34m\u001b[0m\u001b[0;34m\u001b[0m\u001b[0m\n\u001b[0m",
            "\u001b[0;31mValueError\u001b[0m: invalid literal for int() with base 10: 'kimsungjae'"
          ]
        }
      ]
    },
    {
      "cell_type": "code",
      "source": [
        "s = '98710%'\n",
        "print(s[:-1] * 2)\n",
        "print(int(s[:-1]) * 2)"
      ],
      "metadata": {
        "colab": {
          "base_uri": "https://localhost:8080/"
        },
        "id": "2JNGhR41JKUC",
        "outputId": "41a9ec35-7601-46bd-e1b9-c91b4cf9d705"
      },
      "execution_count": 51,
      "outputs": [
        {
          "output_type": "stream",
          "name": "stdout",
          "text": [
            "9871098710\n",
            "197420\n"
          ]
        }
      ]
    },
    {
      "cell_type": "code",
      "source": [
        "print(\"bool('test') : \", bool('test!!'))\n",
        "print(\"bool(1) : \", bool(1))\n",
        "print(\"bool(0) : \", bool(0))\n",
        "print(\"bool(-1) : \", bool(-1))\n",
        "print(\"bool(' ')  :\", bool(' '))\n",
        "print(\"bool('') : \", bool(''))\n",
        "print(\"bool(None) : \", bool(None))"
      ],
      "metadata": {
        "colab": {
          "base_uri": "https://localhost:8080/"
        },
        "id": "FUWj2cAvJeKA",
        "outputId": "ef919755-b7aa-4451-a5b3-91b1f9c3fc53"
      },
      "execution_count": 52,
      "outputs": [
        {
          "output_type": "stream",
          "name": "stdout",
          "text": [
            "bool('test') :  True\n",
            "bool(1) :  True\n",
            "bool(0) :  False\n",
            "bool(-1) :  True\n",
            "bool(' ')  : True\n",
            "bool('') :  False\n",
            "bool(None) :  False\n"
          ]
        }
      ]
    },
    {
      "cell_type": "code",
      "source": [
        "print(f'bool([1,2,3]) : {bool([1,2,3])}')\n",
        "print(f'bool([]) : {bool([])}')"
      ],
      "metadata": {
        "colab": {
          "base_uri": "https://localhost:8080/"
        },
        "id": "QoCczOqxPI2m",
        "outputId": "5ce1ed60-3ceb-4458-8246-2e315d6e0502"
      },
      "execution_count": 53,
      "outputs": [
        {
          "output_type": "stream",
          "name": "stdout",
          "text": [
            "bool([1,2,3]) : True\n",
            "bool([]) : False\n"
          ]
        }
      ]
    },
    {
      "cell_type": "code",
      "source": [
        "tuple([1,2,3])"
      ],
      "metadata": {
        "colab": {
          "base_uri": "https://localhost:8080/"
        },
        "id": "K_W_iTskPeKP",
        "outputId": "6702eac8-07af-498e-ad15-7b0f07124d53"
      },
      "execution_count": 54,
      "outputs": [
        {
          "output_type": "execute_result",
          "data": {
            "text/plain": [
              "(1, 2, 3)"
            ]
          },
          "metadata": {},
          "execution_count": 54
        }
      ]
    },
    {
      "cell_type": "code",
      "source": [
        "t = (1,2,3)\n",
        "list(t)"
      ],
      "metadata": {
        "colab": {
          "base_uri": "https://localhost:8080/"
        },
        "id": "Ty4XspryPhMg",
        "outputId": "73910a73-5fa5-4861-eef3-c83d1cb79a5c"
      },
      "execution_count": 55,
      "outputs": [
        {
          "output_type": "execute_result",
          "data": {
            "text/plain": [
              "[1, 2, 3]"
            ]
          },
          "metadata": {},
          "execution_count": 55
        }
      ]
    },
    {
      "cell_type": "code",
      "source": [
        "dict([('key1', 'value1'), ('key2', 'value2'), ('key3', 'value3')])"
      ],
      "metadata": {
        "colab": {
          "base_uri": "https://localhost:8080/"
        },
        "id": "9ID2xHX9Pkof",
        "outputId": "d8cd0ce0-353b-4f8c-ab06-9aefc44b9d8f"
      },
      "execution_count": 56,
      "outputs": [
        {
          "output_type": "execute_result",
          "data": {
            "text/plain": [
              "{'key1': 'value1', 'key2': 'value2', 'key3': 'value3'}"
            ]
          },
          "metadata": {},
          "execution_count": 56
        }
      ]
    },
    {
      "cell_type": "code",
      "source": [
        "x = int(input('좋아하는 숫자를 입력하세요 : '))\n",
        "x + x\n",
        "# print(type(x))\n",
        "# print(dir(x))"
      ],
      "metadata": {
        "colab": {
          "base_uri": "https://localhost:8080/"
        },
        "id": "8vcvTJ46P_wR",
        "outputId": "b4d74692-9316-4722-d86d-0ec9fdfebbc9"
      },
      "execution_count": 57,
      "outputs": [
        {
          "name": "stdout",
          "output_type": "stream",
          "text": [
            "좋아하는 숫자를 입력하세요 : 10\n"
          ]
        },
        {
          "output_type": "execute_result",
          "data": {
            "text/plain": [
              "20"
            ]
          },
          "metadata": {},
          "execution_count": 57
        }
      ]
    },
    {
      "cell_type": "code",
      "source": [
        "print('hello', end='!!')\n",
        "print('hello', end='!!')\n",
        "print('hello', end='!!')\n",
        "print('hello', end='!!')"
      ],
      "metadata": {
        "colab": {
          "base_uri": "https://localhost:8080/"
        },
        "id": "1dNrIKuDQRYl",
        "outputId": "e877d47b-853b-4fb1-f0ef-38766d2bd2d2"
      },
      "execution_count": 58,
      "outputs": [
        {
          "output_type": "stream",
          "name": "stdout",
          "text": [
            "hello!!hello!!hello!!hello!!"
          ]
        }
      ]
    },
    {
      "cell_type": "code",
      "source": [
        "print('1. 제 이름은 ', 이름, '입니다. 제 나이는 ', 나이, '입니다.')\n",
        "print(f'2. 제 이름은 {이름}입니다. 제 나이는 {나이}입니다.') #중요\n",
        "print('1. 제 이름은 {}입니다. 제 나이는 {}입니다.'.format(이름, 나이))\n",
        "print('4. 제 이름은 %s입니다. 제 나이는 %d입니다'%(이름, 나이))"
      ],
      "metadata": {
        "colab": {
          "base_uri": "https://localhost:8080/"
        },
        "id": "lIMRkc-MQqMv",
        "outputId": "ee4bd97e-c75a-4278-a877-59781ea95da5"
      },
      "execution_count": 59,
      "outputs": [
        {
          "output_type": "stream",
          "name": "stdout",
          "text": [
            "1. 제 이름은  캣 입니다. 제 나이는  10 입니다.\n",
            "2. 제 이름은 캣입니다. 제 나이는 10입니다.\n",
            "1. 제 이름은 캣입니다. 제 나이는 10입니다.\n",
            "4. 제 이름은 캣입니다. 제 나이는 10입니다\n"
          ]
        }
      ]
    },
    {
      "cell_type": "markdown",
      "source": [
        "# 2장 생선을 잡아라!\n",
        "\n",
        "## 2.1 산술연산자"
      ],
      "metadata": {
        "id": "fRsAX9cdqcmV"
      }
    },
    {
      "cell_type": "code",
      "source": [
        "오늘_잡은_물고기 = 0\n",
        "오늘_판_물고기 = 0\n",
        "매출 = 0"
      ],
      "metadata": {
        "id": "nDgNqWTkQHni"
      },
      "execution_count": 60,
      "outputs": []
    },
    {
      "cell_type": "code",
      "source": [
        "오늘_잡은_물고기 = 오늘_잡은_물고기 + 10\n",
        "오늘_판_물고기 = 오늘_잡은_물고기\n",
        "재고 = 오늘_잡은_물고기 - 오늘_판_물고기\n",
        "매출 = 오늘_판_물고기 * 100 #모든 물고기는 100원 입니다."
      ],
      "metadata": {
        "id": "WDB75DMCqpbq"
      },
      "execution_count": 61,
      "outputs": []
    },
    {
      "cell_type": "code",
      "source": [
        "print(f'나는 오늘 {오늘_잡은_물고기} 마리를 잡았고 {오늘_판_물고기} 마리를 팔았다냥')\n",
        "print(f'오늘 재고는 {재고} 마리다냥!')\n",
        "# 매일 2배씩 성장하는 것을 목표로 삼았습니다.\n",
        "print(f'오늘 {매출} 원을 벌었으니 내일은 {매출*2} 원을 벌테다!')\n",
        "print('오늘', 매출, '원을 벌었으니 내일은', 매출*2, '원을 벌테다!')"
      ],
      "metadata": {
        "colab": {
          "base_uri": "https://localhost:8080/"
        },
        "id": "2yxn3U7PrAGX",
        "outputId": "c5991bd6-c6be-438c-804f-3677785c8db3"
      },
      "execution_count": 62,
      "outputs": [
        {
          "output_type": "stream",
          "name": "stdout",
          "text": [
            "나는 오늘 10 마리를 잡았고 10 마리를 팔았다냥\n",
            "오늘 재고는 0 마리다냥!\n",
            "오늘 1000 원을 벌었으니 내일은 2000 원을 벌테다!\n",
            "오늘 1000 원을 벌었으니 내일은 2000 원을 벌테다!\n"
          ]
        }
      ]
    },
    {
      "cell_type": "code",
      "source": [
        "# A등급 :1000원, B등급 : 500원, C등급 :100원\n",
        "# 오늘 잡은 물고기 : A등급 5마리, B등급 7마리, C등급 10마리\n",
        "\n",
        "등급별_가격 = {'A등급':1000, 'B등급':500, 'C등급': 100}\n",
        "\n",
        "A등급 = 5\n",
        "B등급 = 7\n",
        "C등급 = 10\n",
        "매출 = 0"
      ],
      "metadata": {
        "id": "Gj4YWHINr2Ad"
      },
      "execution_count": 63,
      "outputs": []
    },
    {
      "cell_type": "code",
      "source": [
        "# 손님의 주문\n",
        "# A등급 2마리, B등급 3마리 주세요.\n",
        "# 받은 돈 = 4000원\n",
        "\n",
        "A등급 = A등급 - 2\n",
        "B등급 = B등급 - 3\n",
        "합계 = (등급별_가격['A등급'] * 2) + (등급별_가격['B등급'] * 3)\n",
        "받은_돈 = 4000\n",
        "\n",
        "print(f'감사합니다. 여기 거스름 돈 {받은_돈 - 합계}원 입니다.')\n",
        "\n",
        "재고 = A등급 + B등급 + C등급\n",
        "매출 = 매출 + 합계\n",
        "print(f'현재매출 : {매출}, 재고 : {재고}')"
      ],
      "metadata": {
        "colab": {
          "base_uri": "https://localhost:8080/"
        },
        "id": "yJBrHCVWsNZU",
        "outputId": "0f2f0e55-abda-4171-fcf6-01aaa7a692e1"
      },
      "execution_count": 64,
      "outputs": [
        {
          "output_type": "stream",
          "name": "stdout",
          "text": [
            "감사합니다. 여기 거스름 돈 500원 입니다.\n",
            "현재매출 : 3500, 재고 : 17\n"
          ]
        }
      ]
    },
    {
      "cell_type": "code",
      "source": [
        "세금 = 매출/4\n",
        "순익 = 매출 - 세금\n",
        "\n",
        "매출, 세금, 순익"
      ],
      "metadata": {
        "colab": {
          "base_uri": "https://localhost:8080/"
        },
        "id": "HJmm2BCQvI1S",
        "outputId": "58ef7474-1536-4a11-e74d-4493f4280ca3"
      },
      "execution_count": 65,
      "outputs": [
        {
          "output_type": "execute_result",
          "data": {
            "text/plain": [
              "(3500, 875.0, 2625.0)"
            ]
          },
          "metadata": {},
          "execution_count": 65
        }
      ]
    },
    {
      "cell_type": "code",
      "source": [
        "# 산술연산자 정리\n",
        "10 + 10\n",
        "10 - 10\n",
        "10 / 3 #float\n",
        "10 // 3 #int(몫만 출력)\n",
        "10 * 3\n",
        "3 ** 3\n",
        "10 % 3"
      ],
      "metadata": {
        "colab": {
          "base_uri": "https://localhost:8080/"
        },
        "id": "MtcX7ZRyvQkz",
        "outputId": "cba5066f-dfeb-402e-85ed-7b8af13feb94"
      },
      "execution_count": 66,
      "outputs": [
        {
          "output_type": "execute_result",
          "data": {
            "text/plain": [
              "1"
            ]
          },
          "metadata": {},
          "execution_count": 66
        }
      ]
    },
    {
      "cell_type": "code",
      "source": [
        "오늘_잡은_물고기 += 10 #할당연산\n",
        "오늘_잡은_물고기"
      ],
      "metadata": {
        "colab": {
          "base_uri": "https://localhost:8080/"
        },
        "id": "J2tGx8Qevxa2",
        "outputId": "a9b809e2-47fa-4f58-c45d-294b0d2f8df4"
      },
      "execution_count": 69,
      "outputs": [
        {
          "output_type": "execute_result",
          "data": {
            "text/plain": [
              "40"
            ]
          },
          "metadata": {},
          "execution_count": 69
        }
      ]
    },
    {
      "cell_type": "code",
      "source": [
        "# 비교연산자\n",
        "\n",
        "오늘_잡은_물고기\n",
        "오늘_판_물고기     \n",
        "\n",
        "#비교연산 True or False 출력\n",
        "\n",
        "print(오늘_잡은_물고기 > 오늘_판_물고기)\n",
        "print(오늘_잡은_물고기 < 오늘_판_물고기)\n",
        "print(오늘_잡은_물고기 >= 오늘_판_물고기)\n",
        "print(오늘_잡은_물고기 <= 오늘_판_물고기)\n",
        "print(오늘_잡은_물고기 == 오늘_판_물고기) #값, 타입\n",
        "print(오늘_잡은_물고기 != 오늘_판_물고기)\n",
        "# print(오늘_잡은_물고기 === 오늘_판_물고기) #javascript, 값, 타입"
      ],
      "metadata": {
        "colab": {
          "base_uri": "https://localhost:8080/"
        },
        "id": "F4vzHfbwKpP4",
        "outputId": "2e023f19-92fb-43fa-b339-b8df98eb86c2"
      },
      "execution_count": 70,
      "outputs": [
        {
          "output_type": "stream",
          "name": "stdout",
          "text": [
            "True\n",
            "False\n",
            "True\n",
            "False\n",
            "False\n",
            "True\n"
          ]
        }
      ]
    },
    {
      "cell_type": "code",
      "source": [
        "if 오늘_잡은_물고기 > 오늘_판_물고기 :\n",
        "    print('아직 물고기를 다 팔지 않았습니다.')"
      ],
      "metadata": {
        "colab": {
          "base_uri": "https://localhost:8080/"
        },
        "id": "wAIsGpQRLrbr",
        "outputId": "ef99ed33-daba-4cd0-bc17-472d7a5cc801"
      },
      "execution_count": 71,
      "outputs": [
        {
          "output_type": "stream",
          "name": "stdout",
          "text": [
            "아직 물고기를 다 팔지 않았습니다.\n"
          ]
        }
      ]
    },
    {
      "cell_type": "code",
      "source": [
        "# 논리연산자\n",
        "\n",
        "# True + False\n",
        "a = True\n",
        "b = False \n",
        "\n",
        "a and a # 논리 곱(*)\n",
        "a and b\n",
        "\n",
        "a or a # 논리 합(+)\\\n",
        "a or b\n",
        "\n",
        "not a "
      ],
      "metadata": {
        "colab": {
          "base_uri": "https://localhost:8080/"
        },
        "id": "Br8n0eqrL4w-",
        "outputId": "68e72cf7-775b-4341-fc1a-1b89cd7c6a27"
      },
      "execution_count": 72,
      "outputs": [
        {
          "output_type": "execute_result",
          "data": {
            "text/plain": [
              "False"
            ]
          },
          "metadata": {},
          "execution_count": 72
        }
      ]
    },
    {
      "cell_type": "code",
      "source": [
        "오늘_잡은_물고기 = 10\n",
        "오늘_판_물고기 = 10\n",
        "전날_매출 = 10000\n",
        "오늘_매출 = 20000\n",
        "\n",
        "if (오늘_잡은_물고기 == 오늘_판_물고기)  and (전날_매출*2 <= 오늘_매출):\n",
        "    print('오늘 물고기 판매 끝!')\n",
        "    print('매출 목표 달성!')\n",
        "else :\n",
        "    print('오늘의 목표를 달성하지 못했습니다.')"
      ],
      "metadata": {
        "colab": {
          "base_uri": "https://localhost:8080/"
        },
        "id": "e6P0cmGyMq2y",
        "outputId": "5a51b48d-a8f0-40ce-8930-050d94bc0d99"
      },
      "execution_count": 75,
      "outputs": [
        {
          "output_type": "stream",
          "name": "stdout",
          "text": [
            "오늘 물고기 판매 끝!\n",
            "매출 목표 달성!\n"
          ]
        }
      ]
    },
    {
      "cell_type": "code",
      "source": [
        "x = 10\n",
        "\n",
        "if x % 3 == 0 and x % 5 == 0:\n",
        "    print('3과 5의 공배수입니다.')\n",
        "else:\n",
        "    print('3과 5의 공배수가 아닙니다.')"
      ],
      "metadata": {
        "colab": {
          "base_uri": "https://localhost:8080/"
        },
        "id": "iqP--etcNdiy",
        "outputId": "adb1f68d-fbac-48cc-969b-3bb585cf4fdf"
      },
      "execution_count": 76,
      "outputs": [
        {
          "output_type": "stream",
          "name": "stdout",
          "text": [
            "3과 5의 공배수가 아닙니다.\n"
          ]
        }
      ]
    },
    {
      "cell_type": "code",
      "source": [
        "# 비트연산자\n",
        "\n",
        "a = 10\n",
        "b = 2\n",
        "\n",
        "print(a & b)"
      ],
      "metadata": {
        "colab": {
          "base_uri": "https://localhost:8080/"
        },
        "id": "r9ChgiX3P5k-",
        "outputId": "093072af-c887-40af-8476-aaae3cfe7047"
      },
      "execution_count": 77,
      "outputs": [
        {
          "output_type": "stream",
          "name": "stdout",
          "text": [
            "2\n"
          ]
        }
      ]
    },
    {
      "cell_type": "code",
      "source": [
        "bin(10), bin(2)"
      ],
      "metadata": {
        "colab": {
          "base_uri": "https://localhost:8080/"
        },
        "id": "d4Q_Ya5eP_vK",
        "outputId": "e6a1d2b2-d34a-4469-f209-c0c73a6f9caa"
      },
      "execution_count": 78,
      "outputs": [
        {
          "output_type": "execute_result",
          "data": {
            "text/plain": [
              "('0b1010', '0b10')"
            ]
          },
          "metadata": {},
          "execution_count": 78
        }
      ]
    },
    {
      "cell_type": "code",
      "source": [
        "# 1010\n",
        "# 0010\n",
        "# ----\n",
        "# 0010  -> 2"
      ],
      "metadata": {
        "id": "RCNguNuZQDTd"
      },
      "execution_count": 79,
      "outputs": []
    },
    {
      "cell_type": "code",
      "source": [
        "print(b << 2)\n",
        "\n",
        "# 10 -> 2\n",
        "# 1000 -> 8"
      ],
      "metadata": {
        "colab": {
          "base_uri": "https://localhost:8080/"
        },
        "id": "Zk7l83KzQd4y",
        "outputId": "3d70a83e-9e01-4b3e-b8a6-3de67f90acbb"
      },
      "execution_count": 80,
      "outputs": [
        {
          "output_type": "stream",
          "name": "stdout",
          "text": [
            "8\n"
          ]
        }
      ]
    },
    {
      "cell_type": "code",
      "source": [
        "print(b >> 1)\n",
        "\n",
        "# 10 -> 2\n",
        "# 1 -> 1"
      ],
      "metadata": {
        "colab": {
          "base_uri": "https://localhost:8080/"
        },
        "id": "tZl48BsqQhBi",
        "outputId": "9b56e2b8-e3f8-45f1-88b0-c828066368ca"
      },
      "execution_count": 82,
      "outputs": [
        {
          "output_type": "stream",
          "name": "stdout",
          "text": [
            "1\n"
          ]
        }
      ]
    },
    {
      "cell_type": "code",
      "source": [
        "a^b\n",
        "# 1010 (10)\n",
        "# 0010 (2)\n",
        "# ----\n",
        "# 1000 ---> 8"
      ],
      "metadata": {
        "colab": {
          "base_uri": "https://localhost:8080/"
        },
        "id": "m_ZReiO0QuGm",
        "outputId": "b17e78a3-21fa-42dd-c776-8430282e400c"
      },
      "execution_count": 85,
      "outputs": [
        {
          "output_type": "execute_result",
          "data": {
            "text/plain": [
              "8"
            ]
          },
          "metadata": {},
          "execution_count": 85
        }
      ]
    },
    {
      "cell_type": "code",
      "source": [
        "~a"
      ],
      "metadata": {
        "colab": {
          "base_uri": "https://localhost:8080/"
        },
        "id": "BkPyy5ZkSIB_",
        "outputId": "2bd0989f-b138-4f59-88e8-edc177ca1e4a"
      },
      "execution_count": 86,
      "outputs": [
        {
          "output_type": "execute_result",
          "data": {
            "text/plain": [
              "-11"
            ]
          },
          "metadata": {},
          "execution_count": 86
        }
      ]
    },
    {
      "cell_type": "code",
      "source": [
        "bin(a), bin(~a) # 2의 보수 표현 방법"
      ],
      "metadata": {
        "colab": {
          "base_uri": "https://localhost:8080/"
        },
        "id": "dmSk3SrMST4H",
        "outputId": "25c7c409-9bd4-467c-9f71-a8f35f0933e6"
      },
      "execution_count": 87,
      "outputs": [
        {
          "output_type": "execute_result",
          "data": {
            "text/plain": [
              "('0b1010', '-0b1011')"
            ]
          },
          "metadata": {},
          "execution_count": 87
        }
      ]
    },
    {
      "cell_type": "code",
      "source": [
        "# 비트연산, 할당연산, 식별연산, in 구문\n",
        "\n",
        "10 + 10 "
      ],
      "metadata": {
        "colab": {
          "base_uri": "https://localhost:8080/"
        },
        "id": "R3c3DNANSaLQ",
        "outputId": "32da7b83-d596-4e3c-d890-4144f0ad420f"
      },
      "execution_count": 92,
      "outputs": [
        {
          "output_type": "execute_result",
          "data": {
            "text/plain": [
              "20"
            ]
          },
          "metadata": {},
          "execution_count": 92
        }
      ]
    },
    {
      "cell_type": "code",
      "source": [
        "bin(10 + 10)"
      ],
      "metadata": {
        "colab": {
          "base_uri": "https://localhost:8080/",
          "height": 36
        },
        "id": "_fa9nFbxUrEk",
        "outputId": "066321dc-712c-4e53-888b-9e41daf95bb5"
      },
      "execution_count": 93,
      "outputs": [
        {
          "output_type": "execute_result",
          "data": {
            "text/plain": [
              "'0b10100'"
            ],
            "application/vnd.google.colaboratory.intrinsic+json": {
              "type": "string"
            }
          },
          "metadata": {},
          "execution_count": 93
        }
      ]
    },
    {
      "cell_type": "code",
      "source": [
        "a = 40\n",
        "b = 14\n",
        "a & b #bit AND\n",
        "\n",
        "# 101000\n",
        "# 001110\n",
        "# 001000\n",
        "\n",
        "# bin(a), bin(b)"
      ],
      "metadata": {
        "colab": {
          "base_uri": "https://localhost:8080/"
        },
        "id": "Uur-a8jrUvY0",
        "outputId": "f60a7d69-3d90-4323-b3d5-017124ca9d50"
      },
      "execution_count": 96,
      "outputs": [
        {
          "output_type": "execute_result",
          "data": {
            "text/plain": [
              "8"
            ]
          },
          "metadata": {},
          "execution_count": 96
        }
      ]
    },
    {
      "cell_type": "code",
      "source": [
        "a = 40\n",
        "b = 14\n",
        "a | b #bit OR\n",
        "\n",
        "# 101000\n",
        "# 001110\n",
        "# 101110\n",
        "\n",
        "# bin(a), bin(b)"
      ],
      "metadata": {
        "colab": {
          "base_uri": "https://localhost:8080/"
        },
        "id": "XxPoCZk6U8d7",
        "outputId": "65ec96d2-21ff-4cf4-cca3-b450fd0735e2"
      },
      "execution_count": 95,
      "outputs": [
        {
          "output_type": "execute_result",
          "data": {
            "text/plain": [
              "46"
            ]
          },
          "metadata": {},
          "execution_count": 95
        }
      ]
    },
    {
      "cell_type": "code",
      "source": [
        "a = 40\n",
        "b = 14\n",
        "a ^ b #bit XOR : 다를 때만 1, 같은 때에는 0\n",
        "\n",
        "# 101000\n",
        "# 001110\n",
        "# 100110\n",
        "\n",
        "# bin(a), bin(b)"
      ],
      "metadata": {
        "colab": {
          "base_uri": "https://localhost:8080/"
        },
        "id": "ZUbzUEEwVD3i",
        "outputId": "e1d095e7-6bb7-46dc-bb30-84b8718461a6"
      },
      "execution_count": 98,
      "outputs": [
        {
          "output_type": "execute_result",
          "data": {
            "text/plain": [
              "38"
            ]
          },
          "metadata": {},
          "execution_count": 98
        }
      ]
    },
    {
      "cell_type": "code",
      "source": [
        "a = 40\n",
        "~a #bit NOT(2의 보수)\n",
        "\n",
        "# 101000\n",
        "# 010111 #비트단위를 뒤짚었음!\n",
        "# 011000 #비트단위를 뒤짚고 +1한 값\n",
        "\n",
        "# 101000\n",
        "# 010111\n",
        "# 000000\n",
        "\n",
        "# 1. 0을 2개로 표현하지 않아도 됨!\n",
        "# 2. 더했을 경우 올림수 하나만 버리면 됨!"
      ],
      "metadata": {
        "colab": {
          "base_uri": "https://localhost:8080/"
        },
        "id": "r0VQjccPUg2w",
        "outputId": "8204629a-dca7-41a0-c3c4-be0a691c9014"
      },
      "execution_count": 99,
      "outputs": [
        {
          "output_type": "execute_result",
          "data": {
            "text/plain": [
              "-41"
            ]
          },
          "metadata": {},
          "execution_count": 99
        }
      ]
    },
    {
      "cell_type": "code",
      "source": [
        "a = 40\n",
        "print(bin(a))\n",
        "print(int('10100000', 2))\n",
        "print(a << 2)\n",
        "\n",
        "print(bin(a))\n",
        "print(int('1010', 2))\n",
        "print(a >> 2)"
      ],
      "metadata": {
        "colab": {
          "base_uri": "https://localhost:8080/"
        },
        "id": "WOtq3uQZaQWz",
        "outputId": "b0a25397-1e51-4c90-e431-e4dfbef24ec1"
      },
      "execution_count": 101,
      "outputs": [
        {
          "output_type": "stream",
          "name": "stdout",
          "text": [
            "0b101000\n",
            "160\n",
            "160\n",
            "0b101000\n",
            "10\n",
            "10\n"
          ]
        }
      ]
    },
    {
      "cell_type": "code",
      "source": [
        "# '연산자' + '='\n",
        "a = 40\n",
        "\n",
        "# a += 10 # a = a + 10\n",
        "# a -= 5  # a = a - 5\n",
        "# a *= 5\n",
        "# a **= 5\n",
        "# a /= 5\n",
        "# a //= 5\n",
        "# a %= 5\n",
        "# a |= 5\n",
        "a >>= 2\n",
        "a\n",
        "# a <<= 5\n",
        "# a ~= 5"
      ],
      "metadata": {
        "colab": {
          "base_uri": "https://localhost:8080/"
        },
        "id": "-II8qT7da43L",
        "outputId": "30e853a8-5e81-42d0-c7f4-6e64c55ef944"
      },
      "execution_count": 104,
      "outputs": [
        {
          "output_type": "execute_result",
          "data": {
            "text/plain": [
              "10"
            ]
          },
          "metadata": {},
          "execution_count": 104
        }
      ]
    },
    {
      "cell_type": "code",
      "source": [],
      "metadata": {
        "id": "xPWjDF0DbsXK"
      },
      "execution_count": null,
      "outputs": []
    }
  ]
}